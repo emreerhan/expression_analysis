{
 "cells": [
  {
   "cell_type": "code",
   "execution_count": 68,
   "metadata": {},
   "outputs": [],
   "source": [
    "import pandas as pd\n",
    "import numpy as np"
   ]
  },
  {
   "cell_type": "code",
   "execution_count": 83,
   "metadata": {},
   "outputs": [
    {
     "data": {
      "text/plain": [
       "<module 'intersections' from '../scripts/intersections.py'>"
      ]
     },
     "execution_count": 83,
     "metadata": {},
     "output_type": "execute_result"
    }
   ],
   "source": [
    "import sys\n",
    "import importlib\n",
    "sys.path.insert(0, \"../scripts/\")\n",
    "import intersections\n",
    "importlib.reload(intersections)"
   ]
  },
  {
   "cell_type": "code",
   "execution_count": 3,
   "metadata": {},
   "outputs": [],
   "source": [
    "all_drug_data_df = pd.read_csv('../data/raw/POG500_all_drug_data_20180612.tsv', sep='\\t')"
   ]
  },
  {
   "cell_type": "code",
   "execution_count": 5,
   "metadata": {},
   "outputs": [
    {
     "data": {
      "text/html": [
       "<div>\n",
       "<style scoped>\n",
       "    .dataframe tbody tr th:only-of-type {\n",
       "        vertical-align: middle;\n",
       "    }\n",
       "\n",
       "    .dataframe tbody tr th {\n",
       "        vertical-align: top;\n",
       "    }\n",
       "\n",
       "    .dataframe thead th {\n",
       "        text-align: right;\n",
       "    }\n",
       "</style>\n",
       "<table border=\"1\" class=\"dataframe\">\n",
       "  <thead>\n",
       "    <tr style=\"text-align: right;\">\n",
       "      <th></th>\n",
       "      <th>pog_id</th>\n",
       "      <th>drug_name</th>\n",
       "      <th>start_date</th>\n",
       "      <th>end_date</th>\n",
       "      <th>days_on_tx</th>\n",
       "      <th>treatment_number</th>\n",
       "      <th>biopsy_date</th>\n",
       "      <th>before_biop</th>\n",
       "      <th>cancer_cohort</th>\n",
       "      <th>cancer_type</th>\n",
       "      <th>...</th>\n",
       "      <th>gender</th>\n",
       "      <th>consent_age</th>\n",
       "      <th>death_date</th>\n",
       "      <th>tumour_content</th>\n",
       "      <th>bx_loc_radiated</th>\n",
       "      <th>total_brachy_dose</th>\n",
       "      <th>total_radio_dose</th>\n",
       "      <th>class_1</th>\n",
       "      <th>class_2</th>\n",
       "      <th>pathway_class</th>\n",
       "    </tr>\n",
       "  </thead>\n",
       "  <tbody>\n",
       "    <tr>\n",
       "      <th>0</th>\n",
       "      <td>POG864</td>\n",
       "      <td>TRAMETINIB</td>\n",
       "      <td>2017-10-26</td>\n",
       "      <td>2018-01-17</td>\n",
       "      <td>83</td>\n",
       "      <td>4</td>\n",
       "      <td>2017-05-10</td>\n",
       "      <td>f</td>\n",
       "      <td>OV</td>\n",
       "      <td>Low-Grade Serous Ovarian Cancer</td>\n",
       "      <td>...</td>\n",
       "      <td>Female</td>\n",
       "      <td>69.0</td>\n",
       "      <td>NaN</td>\n",
       "      <td>100</td>\n",
       "      <td>f</td>\n",
       "      <td>0</td>\n",
       "      <td>0</td>\n",
       "      <td>MEK inhibitor (broad)</td>\n",
       "      <td>kinase inhibitor</td>\n",
       "      <td>MAPK pathway</td>\n",
       "    </tr>\n",
       "    <tr>\n",
       "      <th>1</th>\n",
       "      <td>POG166</td>\n",
       "      <td>EPIRUBICIN</td>\n",
       "      <td>2014-11-24</td>\n",
       "      <td>2015-01-05</td>\n",
       "      <td>42</td>\n",
       "      <td>1</td>\n",
       "      <td>2015-01-14</td>\n",
       "      <td>t</td>\n",
       "      <td>ESCA</td>\n",
       "      <td>Adenocarcinoma of the Gastroesophageal Junction</td>\n",
       "      <td>...</td>\n",
       "      <td>Male</td>\n",
       "      <td>49.0</td>\n",
       "      <td>2015-03-28</td>\n",
       "      <td>40</td>\n",
       "      <td>f</td>\n",
       "      <td>0</td>\n",
       "      <td>0</td>\n",
       "      <td>anthracyclines</td>\n",
       "      <td>DNA synthesis inhibitor</td>\n",
       "      <td>DNA synthesis</td>\n",
       "    </tr>\n",
       "    <tr>\n",
       "      <th>2</th>\n",
       "      <td>POG122</td>\n",
       "      <td>IRINOTECAN</td>\n",
       "      <td>2016-03-30</td>\n",
       "      <td>2016-07-20</td>\n",
       "      <td>112</td>\n",
       "      <td>5</td>\n",
       "      <td>2014-09-12</td>\n",
       "      <td>f</td>\n",
       "      <td>COLO</td>\n",
       "      <td>Colorectal Adenocarcinoma</td>\n",
       "      <td>...</td>\n",
       "      <td>Female</td>\n",
       "      <td>51.0</td>\n",
       "      <td>2016-09-07</td>\n",
       "      <td>50</td>\n",
       "      <td>f</td>\n",
       "      <td>0</td>\n",
       "      <td>2000</td>\n",
       "      <td>topoisomerase I inhibitor</td>\n",
       "      <td>DNA synthesis inhibitor</td>\n",
       "      <td>DNA synthesis</td>\n",
       "    </tr>\n",
       "    <tr>\n",
       "      <th>3</th>\n",
       "      <td>POG878</td>\n",
       "      <td>IRINOTECAN</td>\n",
       "      <td>2018-01-17</td>\n",
       "      <td>2018-01-31</td>\n",
       "      <td>14</td>\n",
       "      <td>4</td>\n",
       "      <td>2017-05-17</td>\n",
       "      <td>f</td>\n",
       "      <td>PANC</td>\n",
       "      <td>Pancreatic Adenocarcinoma</td>\n",
       "      <td>...</td>\n",
       "      <td>Female</td>\n",
       "      <td>66.0</td>\n",
       "      <td>NaN</td>\n",
       "      <td>33</td>\n",
       "      <td>t</td>\n",
       "      <td>0</td>\n",
       "      <td>0</td>\n",
       "      <td>topoisomerase I inhibitor</td>\n",
       "      <td>DNA synthesis inhibitor</td>\n",
       "      <td>DNA synthesis</td>\n",
       "    </tr>\n",
       "    <tr>\n",
       "      <th>4</th>\n",
       "      <td>POG175</td>\n",
       "      <td>GEMCITABINE</td>\n",
       "      <td>2015-02-23</td>\n",
       "      <td>2015-03-23</td>\n",
       "      <td>28</td>\n",
       "      <td>3</td>\n",
       "      <td>2015-02-04</td>\n",
       "      <td>f</td>\n",
       "      <td>BRCA</td>\n",
       "      <td>Breast Invasive Ductal Carcinoma</td>\n",
       "      <td>...</td>\n",
       "      <td>Female</td>\n",
       "      <td>61.0</td>\n",
       "      <td>2015-04-11</td>\n",
       "      <td>34</td>\n",
       "      <td>f</td>\n",
       "      <td>0</td>\n",
       "      <td>5040</td>\n",
       "      <td>DNA synthesis inhibitor</td>\n",
       "      <td>antimetabolite</td>\n",
       "      <td>DNA synthesis</td>\n",
       "    </tr>\n",
       "  </tbody>\n",
       "</table>\n",
       "<p>5 rows × 21 columns</p>\n",
       "</div>"
      ],
      "text/plain": [
       "   pog_id    drug_name  start_date    end_date  days_on_tx  treatment_number  \\\n",
       "0  POG864   TRAMETINIB  2017-10-26  2018-01-17          83                 4   \n",
       "1  POG166   EPIRUBICIN  2014-11-24  2015-01-05          42                 1   \n",
       "2  POG122   IRINOTECAN  2016-03-30  2016-07-20         112                 5   \n",
       "3  POG878   IRINOTECAN  2018-01-17  2018-01-31          14                 4   \n",
       "4  POG175  GEMCITABINE  2015-02-23  2015-03-23          28                 3   \n",
       "\n",
       "  biopsy_date before_biop cancer_cohort  \\\n",
       "0  2017-05-10           f            OV   \n",
       "1  2015-01-14           t          ESCA   \n",
       "2  2014-09-12           f          COLO   \n",
       "3  2017-05-17           f          PANC   \n",
       "4  2015-02-04           f          BRCA   \n",
       "\n",
       "                                        cancer_type      ...        gender  \\\n",
       "0                  Low-Grade Serous Ovarian Cancer       ...        Female   \n",
       "1  Adenocarcinoma of the Gastroesophageal Junction       ...          Male   \n",
       "2                        Colorectal Adenocarcinoma       ...        Female   \n",
       "3                        Pancreatic Adenocarcinoma       ...        Female   \n",
       "4                 Breast Invasive Ductal Carcinoma       ...        Female   \n",
       "\n",
       "  consent_age  death_date tumour_content  bx_loc_radiated total_brachy_dose  \\\n",
       "0        69.0         NaN            100                f                 0   \n",
       "1        49.0  2015-03-28             40                f                 0   \n",
       "2        51.0  2016-09-07             50                f                 0   \n",
       "3        66.0         NaN             33                t                 0   \n",
       "4        61.0  2015-04-11             34                f                 0   \n",
       "\n",
       "   total_radio_dose                    class_1                  class_2  \\\n",
       "0                 0      MEK inhibitor (broad)         kinase inhibitor   \n",
       "1                 0             anthracyclines  DNA synthesis inhibitor   \n",
       "2              2000  topoisomerase I inhibitor  DNA synthesis inhibitor   \n",
       "3                 0  topoisomerase I inhibitor  DNA synthesis inhibitor   \n",
       "4              5040    DNA synthesis inhibitor           antimetabolite   \n",
       "\n",
       "   pathway_class  \n",
       "0   MAPK pathway  \n",
       "1  DNA synthesis  \n",
       "2  DNA synthesis  \n",
       "3  DNA synthesis  \n",
       "4  DNA synthesis  \n",
       "\n",
       "[5 rows x 21 columns]"
      ]
     },
     "execution_count": 5,
     "metadata": {},
     "output_type": "execute_result"
    }
   ],
   "source": [
    "all_drug_data_df.head()"
   ]
  },
  {
   "cell_type": "code",
   "execution_count": 46,
   "metadata": {},
   "outputs": [],
   "source": [
    "def get_drug_sets(pog_ids, drug_names):\n",
    "    drug_sets = dict()\n",
    "    for pog_id, drug_name in zip(pog_ids, drug_names):\n",
    "        if pog_id not in drug_sets.keys():\n",
    "            drug_sets[pog_id] = {drug_name}\n",
    "        else:\n",
    "            drug_sets[pog_id].add(drug_name)\n",
    "    return drug_sets"
   ]
  },
  {
   "cell_type": "code",
   "execution_count": 47,
   "metadata": {},
   "outputs": [],
   "source": [
    "drug_sets = get_drug_sets(all_drug_data_df['pog_id'].values, all_drug_data_df['drug_name'].values)"
   ]
  },
  {
   "cell_type": "code",
   "execution_count": 56,
   "metadata": {},
   "outputs": [],
   "source": [
    "drug_sets_list = [drug_set for drug_set in drug_sets.values()]"
   ]
  },
  {
   "cell_type": "code",
   "execution_count": 58,
   "metadata": {},
   "outputs": [],
   "source": [
    "import upsetplot"
   ]
  },
  {
   "cell_type": "code",
   "execution_count": 64,
   "metadata": {},
   "outputs": [
    {
     "data": {
      "text/plain": [
       "set0   set1   set2 \n",
       "False  False  False    1.554445\n",
       "True   True   True     2.532559\n",
       "False  True   False    1.637462\n",
       "       False  False    1.015454\n",
       "       True   False    1.235598\n",
       "Name: value, dtype: float64"
      ]
     },
     "execution_count": 64,
     "metadata": {},
     "output_type": "execute_result"
    }
   ],
   "source": [
    "upsetplot.generate_data(n_samples=5)"
   ]
  },
  {
   "cell_type": "code",
   "execution_count": null,
   "metadata": {},
   "outputs": [],
   "source": [
    "intersections_df = intersections.get_intersection(drug_sets_list, 2)"
   ]
  },
  {
   "cell_type": "code",
   "execution_count": null,
   "metadata": {},
   "outputs": [],
   "source": []
  },
  {
   "cell_type": "code",
   "execution_count": null,
   "metadata": {},
   "outputs": [],
   "source": []
  }
 ],
 "metadata": {
  "kernelspec": {
   "display_name": "Python 3",
   "language": "python",
   "name": "python3"
  },
  "language_info": {
   "codemirror_mode": {
    "name": "ipython",
    "version": 3
   },
   "file_extension": ".py",
   "mimetype": "text/x-python",
   "name": "python",
   "nbconvert_exporter": "python",
   "pygments_lexer": "ipython3",
   "version": "3.7.0"
  }
 },
 "nbformat": 4,
 "nbformat_minor": 2
}
