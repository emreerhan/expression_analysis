{
 "cells": [
  {
   "cell_type": "code",
   "execution_count": 3,
   "metadata": {},
   "outputs": [],
   "source": [
    "import pandas as pd\n",
    "import numpy as np\n",
    "import math"
   ]
  },
  {
   "cell_type": "code",
   "execution_count": 4,
   "metadata": {},
   "outputs": [],
   "source": [
    "from sklearn.model_selection import KFold, GridSearchCV"
   ]
  },
  {
   "cell_type": "markdown",
   "metadata": {},
   "source": [
    "## misc function"
   ]
  },
  {
   "cell_type": "code",
   "execution_count": 5,
   "metadata": {},
   "outputs": [],
   "source": [
    "def train_test_split(X, y, test_p=0.25, random_state=42):\n",
    "    ids = np.unique(X.index.values)\n",
    "    test_size = math.floor(test_p * len(ids))\n",
    "    test_index = np.random.choice(ids, size=test_size)\n",
    "    X_train = X[~X.index.isin(test_index)]\n",
    "    X_test = X[X.index.isin(test_index)]\n",
    "    y_train = y[~y.index.isin(test_index)]\n",
    "    y_test = y[y.index.isin(test_index)]\n",
    "    return X_train, X_test, y_train, y_test"
   ]
  },
  {
   "cell_type": "code",
   "execution_count": 6,
   "metadata": {},
   "outputs": [],
   "source": [
    "data = pd.read_csv('/projects/eerhan_prj/eerhan_prj_results/pog500_expression/results/04_02_250103127/data/All_CARBOPLATIN.tsv', sep='\\t', index_col=0)"
   ]
  },
  {
   "cell_type": "code",
   "execution_count": 7,
   "metadata": {},
   "outputs": [],
   "source": [
    "data = data.drop_duplicates()"
   ]
  },
  {
   "cell_type": "code",
   "execution_count": 8,
   "metadata": {},
   "outputs": [],
   "source": [
    "X_columns = data.columns.values[pd.Series(data.columns.values).str.contains('ENSG')]"
   ]
  },
  {
   "cell_type": "code",
   "execution_count": 9,
   "metadata": {},
   "outputs": [],
   "source": [
    "X = data.loc[:, X_columns]"
   ]
  },
  {
   "cell_type": "code",
   "execution_count": 10,
   "metadata": {},
   "outputs": [],
   "source": [
    "y = data.loc[:, 'y_trans']\n",
    "y_discrete = y > 0"
   ]
  },
  {
   "cell_type": "code",
   "execution_count": 11,
   "metadata": {},
   "outputs": [
    {
     "data": {
      "text/plain": [
       "5"
      ]
     },
     "execution_count": 11,
     "metadata": {},
     "output_type": "execute_result"
    }
   ],
   "source": [
    "kf = KFold(n_splits=5)\n",
    "kf.get_n_splits(X)"
   ]
  },
  {
   "cell_type": "markdown",
   "metadata": {},
   "source": [
    "## RBF"
   ]
  },
  {
   "cell_type": "code",
   "execution_count": 12,
   "metadata": {},
   "outputs": [],
   "source": [
    "from sklearn.svm import SVC, SVR"
   ]
  },
  {
   "cell_type": "code",
   "execution_count": 13,
   "metadata": {},
   "outputs": [],
   "source": [
    "from scipy.stats import spearmanr"
   ]
  },
  {
   "cell_type": "code",
   "execution_count": 14,
   "metadata": {},
   "outputs": [
    {
     "name": "stdout",
     "output_type": "stream",
     "text": [
      "SVC with linear kernel\n",
      "0.7142857142857143\n",
      "0.5714285714285714\n",
      "0.5714285714285714\n",
      "0.7857142857142857\n",
      "0.9285714285714286\n"
     ]
    }
   ],
   "source": [
    "print('SVC with linear kernel')\n",
    "for train_index, test_index in kf.split(X):\n",
    "    X_train, X_test = X.iloc[train_index, :], X.iloc[test_index, :]\n",
    "    y_train, y_test = y_discrete[train_index], y_discrete[test_index]\n",
    "    svc_rbf = SVC(C=10, kernel='linear', gamma='auto')\n",
    "    svc_rbf.fit(X_train, y_train)\n",
    "    print(svc_rbf.score(X_test, y_test))"
   ]
  },
  {
   "cell_type": "code",
   "execution_count": 15,
   "metadata": {},
   "outputs": [
    {
     "name": "stdout",
     "output_type": "stream",
     "text": [
      "SVR with RBF\n",
      "-0.9869023190412294\n",
      "-11.163915354874906\n",
      "-0.6442514075476506\n",
      "-6.798132153829639\n",
      "-18.405856094431872\n"
     ]
    }
   ],
   "source": [
    "print('SVR with RBF')\n",
    "corrs = []\n",
    "for train_index, test_index in kf.split(X):\n",
    "    X_train, X_test = X.iloc[train_index, :], X.iloc[test_index, :]\n",
    "    y_train, y_test = y[train_index], y[test_index]\n",
    "    svr_rbf = SVR(C=10, kernel='linear', gamma='auto')\n",
    "    svr_rbf.fit(X_train, y_train)\n",
    "    y_pred = svr_rbf.predict(X_test)\n",
    "    corrs.append(spearmanr(y_pred, y_test))\n",
    "    print(svr_rbf.score(X_test, y_test))"
   ]
  },
  {
   "cell_type": "code",
   "execution_count": 16,
   "metadata": {},
   "outputs": [
    {
     "data": {
      "text/plain": [
       "[(-0.057205755188472505, 0.8459835436129705),\n",
       " (-0.541254452937086, 0.0456258832832993),\n",
       " (0.21122124992666771, 0.4685287980154579),\n",
       " (0.3392078713158676, 0.23544250342973244),\n",
       " (0.054945054945054944, 0.8520077036323677)]"
      ]
     },
     "execution_count": 16,
     "metadata": {},
     "output_type": "execute_result"
    }
   ],
   "source": [
    "[(x.correlation, x.pvalue) for x in corrs]"
   ]
  },
  {
   "cell_type": "code",
   "execution_count": 18,
   "metadata": {},
   "outputs": [
    {
     "data": {
      "text/plain": [
       "[SpearmanrResult(correlation=-0.057205755188472505, pvalue=0.8459835436129705),\n",
       " SpearmanrResult(correlation=-0.541254452937086, pvalue=0.0456258832832993),\n",
       " SpearmanrResult(correlation=0.21122124992666771, pvalue=0.4685287980154579),\n",
       " SpearmanrResult(correlation=0.3392078713158676, pvalue=0.23544250342973244),\n",
       " SpearmanrResult(correlation=0.054945054945054944, pvalue=0.8520077036323677)]"
      ]
     },
     "execution_count": 18,
     "metadata": {},
     "output_type": "execute_result"
    }
   ],
   "source": [
    "corrs"
   ]
  },
  {
   "cell_type": "code",
   "execution_count": 19,
   "metadata": {},
   "outputs": [],
   "source": [
    "weights = pd.DataFrame(data={'weights': svc_rbf.coef_[0],\n",
    "                   'names': data.columns[:-3]})"
   ]
  },
  {
   "cell_type": "code",
   "execution_count": 20,
   "metadata": {},
   "outputs": [],
   "source": [
    "weights['weights'] = np.abs(weights['weights'])"
   ]
  },
  {
   "cell_type": "code",
   "execution_count": 21,
   "metadata": {},
   "outputs": [
    {
     "data": {
      "text/html": [
       "<div>\n",
       "<style scoped>\n",
       "    .dataframe tbody tr th:only-of-type {\n",
       "        vertical-align: middle;\n",
       "    }\n",
       "\n",
       "    .dataframe tbody tr th {\n",
       "        vertical-align: top;\n",
       "    }\n",
       "\n",
       "    .dataframe thead th {\n",
       "        text-align: right;\n",
       "    }\n",
       "</style>\n",
       "<table border=\"1\" class=\"dataframe\">\n",
       "  <thead>\n",
       "    <tr style=\"text-align: right;\">\n",
       "      <th></th>\n",
       "      <th>weights</th>\n",
       "      <th>names</th>\n",
       "    </tr>\n",
       "  </thead>\n",
       "  <tbody>\n",
       "    <tr>\n",
       "      <th>147</th>\n",
       "      <td>5.507695e-18</td>\n",
       "      <td>ENSG00000277213</td>\n",
       "    </tr>\n",
       "    <tr>\n",
       "      <th>81</th>\n",
       "      <td>5.507695e-18</td>\n",
       "      <td>ENSG00000230009</td>\n",
       "    </tr>\n",
       "    <tr>\n",
       "      <th>129</th>\n",
       "      <td>1.538252e-17</td>\n",
       "      <td>ENSG00000258683</td>\n",
       "    </tr>\n",
       "    <tr>\n",
       "      <th>148</th>\n",
       "      <td>9.746363e-17</td>\n",
       "      <td>ENSG00000279558</td>\n",
       "    </tr>\n",
       "    <tr>\n",
       "      <th>80</th>\n",
       "      <td>2.863596e-16</td>\n",
       "      <td>ENSG00000229310</td>\n",
       "    </tr>\n",
       "    <tr>\n",
       "      <th>...</th>\n",
       "      <td>...</td>\n",
       "      <td>...</td>\n",
       "    </tr>\n",
       "    <tr>\n",
       "      <th>26</th>\n",
       "      <td>7.902204e-02</td>\n",
       "      <td>ENSG00000152242</td>\n",
       "    </tr>\n",
       "    <tr>\n",
       "      <th>113</th>\n",
       "      <td>7.960063e-02</td>\n",
       "      <td>ENSG00000250207</td>\n",
       "    </tr>\n",
       "    <tr>\n",
       "      <th>64</th>\n",
       "      <td>8.453450e-02</td>\n",
       "      <td>ENSG00000217331</td>\n",
       "    </tr>\n",
       "    <tr>\n",
       "      <th>43</th>\n",
       "      <td>8.815487e-02</td>\n",
       "      <td>ENSG00000175701</td>\n",
       "    </tr>\n",
       "    <tr>\n",
       "      <th>68</th>\n",
       "      <td>1.273714e-01</td>\n",
       "      <td>ENSG00000223414</td>\n",
       "    </tr>\n",
       "  </tbody>\n",
       "</table>\n",
       "<p>150 rows × 2 columns</p>\n",
       "</div>"
      ],
      "text/plain": [
       "          weights            names\n",
       "147  5.507695e-18  ENSG00000277213\n",
       "81   5.507695e-18  ENSG00000230009\n",
       "129  1.538252e-17  ENSG00000258683\n",
       "148  9.746363e-17  ENSG00000279558\n",
       "80   2.863596e-16  ENSG00000229310\n",
       "..            ...              ...\n",
       "26   7.902204e-02  ENSG00000152242\n",
       "113  7.960063e-02  ENSG00000250207\n",
       "64   8.453450e-02  ENSG00000217331\n",
       "43   8.815487e-02  ENSG00000175701\n",
       "68   1.273714e-01  ENSG00000223414\n",
       "\n",
       "[150 rows x 2 columns]"
      ]
     },
     "execution_count": 21,
     "metadata": {},
     "output_type": "execute_result"
    }
   ],
   "source": [
    "weights.sort_values('weights')"
   ]
  },
  {
   "cell_type": "code",
   "execution_count": 22,
   "metadata": {},
   "outputs": [],
   "source": [
    "X_train, X_test, y_train, y_test = train_test_split(X, y)"
   ]
  },
  {
   "cell_type": "code",
   "execution_count": 23,
   "metadata": {},
   "outputs": [
    {
     "data": {
      "text/plain": [
       "-8.367600197054397"
      ]
     },
     "execution_count": 23,
     "metadata": {},
     "output_type": "execute_result"
    }
   ],
   "source": [
    "svc_rbf = SVR(C=10, kernel='linear', gamma='auto')\n",
    "svc_rbf.fit(X_train, y_train)\n",
    "svc_rbf.score(X_test, y_test)"
   ]
  },
  {
   "cell_type": "code",
   "execution_count": 24,
   "metadata": {},
   "outputs": [
    {
     "name": "stderr",
     "output_type": "stream",
     "text": [
      "/projects/eerhan_prj/anaconda/envs/data/lib/python3.7/site-packages/sklearn/model_selection/_search.py:814: DeprecationWarning: The default of the `iid` parameter will change from True to False in version 0.22 and will be removed in 0.24. This will change numeric results when test-set sizes are unequal.\n",
      "  DeprecationWarning)\n"
     ]
    },
    {
     "data": {
      "text/plain": [
       "GridSearchCV(cv=5, error_score='raise-deprecating',\n",
       "             estimator=SVR(C=10, cache_size=200, coef0=0.0, degree=3,\n",
       "                           epsilon=0.1, gamma='auto', kernel='linear',\n",
       "                           max_iter=-1, shrinking=True, tol=0.001,\n",
       "                           verbose=False),\n",
       "             iid='warn', n_jobs=None,\n",
       "             param_grid={'C': [0.1, 1, 10, 50],\n",
       "                         'gamma': [0.1, 0.01, 0.001, 1, 10]},\n",
       "             pre_dispatch='2*n_jobs', refit=True, return_train_score=False,\n",
       "             scoring=None, verbose=0)"
      ]
     },
     "execution_count": 24,
     "metadata": {},
     "output_type": "execute_result"
    }
   ],
   "source": [
    "params = {\"C\":[0.1, 1, 10, 50], \"gamma\": [0.1, 0.01, 0.001, 1, 10]}\n",
    "grid_search = GridSearchCV(svc_rbf, params,cv=5)\n",
    "grid_search.fit(X_train,y_train)"
   ]
  },
  {
   "cell_type": "code",
   "execution_count": 25,
   "metadata": {},
   "outputs": [
    {
     "data": {
      "text/plain": [
       "-8.367600197054397"
      ]
     },
     "execution_count": 25,
     "metadata": {},
     "output_type": "execute_result"
    }
   ],
   "source": [
    "grid_search.score(X_test, y_test)"
   ]
  },
  {
   "cell_type": "markdown",
   "metadata": {},
   "source": [
    "### PCA/ t-SNE"
   ]
  },
  {
   "cell_type": "code",
   "execution_count": 26,
   "metadata": {},
   "outputs": [],
   "source": [
    "from sklearn.decomposition import PCA\n",
    "from sklearn.manifold import TSNE"
   ]
  },
  {
   "cell_type": "code",
   "execution_count": 27,
   "metadata": {},
   "outputs": [],
   "source": [
    "pca = PCA(n_components=10)"
   ]
  },
  {
   "cell_type": "code",
   "execution_count": 28,
   "metadata": {},
   "outputs": [],
   "source": [
    "pca_expression = pca.fit_transform(X)"
   ]
  },
  {
   "cell_type": "code",
   "execution_count": 29,
   "metadata": {},
   "outputs": [],
   "source": [
    "pca_expression_df = pd.DataFrame(pca_expression, columns=['PC{}'.format(i) for i in range(1, 11)], index=X.index)"
   ]
  },
  {
   "cell_type": "code",
   "execution_count": 30,
   "metadata": {},
   "outputs": [],
   "source": [
    "pca_expression_df['y_trans'] = data['y_trans']\n",
    "pca_expression_df['y'] = data['y']\n",
    "pca_expression_df['discrete'] = [1 if x else 0 for x in y_discrete]"
   ]
  },
  {
   "cell_type": "code",
   "execution_count": 31,
   "metadata": {},
   "outputs": [],
   "source": [
    "tsne = TSNE(n_components=3)"
   ]
  },
  {
   "cell_type": "code",
   "execution_count": 32,
   "metadata": {},
   "outputs": [],
   "source": [
    "tsne_expression = tsne.fit_transform(pca_expression)"
   ]
  },
  {
   "cell_type": "code",
   "execution_count": 33,
   "metadata": {},
   "outputs": [],
   "source": [
    "tsne_expression_df = pd.DataFrame(tsne_expression, columns=['tsne{}'.format(i) for i in range(1, 4)], index=X.index)"
   ]
  },
  {
   "cell_type": "code",
   "execution_count": 34,
   "metadata": {},
   "outputs": [],
   "source": [
    "tsne_expression_df['y_trans'] = data['y_trans']\n",
    "tsne_expression_df['y'] = data['y']\n",
    "tsne_expression_df['discrete'] = [1 if x else 0 for x in y_discrete]"
   ]
  },
  {
   "cell_type": "markdown",
   "metadata": {},
   "source": [
    "## Try to explain with cancer type"
   ]
  },
  {
   "cell_type": "code",
   "execution_count": 35,
   "metadata": {},
   "outputs": [],
   "source": [
    "from matplotlib import pyplot as plt\n",
    "import seaborn as sns"
   ]
  },
  {
   "cell_type": "code",
   "execution_count": 36,
   "metadata": {},
   "outputs": [],
   "source": [
    "drugs_df = pd.read_csv('../data/processed/drugs_filtered.tsv', sep='\\t', index_col=0)"
   ]
  },
  {
   "cell_type": "code",
   "execution_count": 37,
   "metadata": {},
   "outputs": [],
   "source": [
    "cancer_map = drugs_df[['pog_id', 'cancer_cohort']]"
   ]
  },
  {
   "cell_type": "code",
   "execution_count": 38,
   "metadata": {},
   "outputs": [],
   "source": [
    "data = cancer_map.join(data, on='pog_id', how='right').drop_duplicates().sort_values('pog_id')"
   ]
  },
  {
   "cell_type": "code",
   "execution_count": 39,
   "metadata": {},
   "outputs": [],
   "source": [
    "data = data.set_index('pog_id')"
   ]
  },
  {
   "cell_type": "code",
   "execution_count": 40,
   "metadata": {},
   "outputs": [
    {
     "data": {
      "text/html": [
       "<div>\n",
       "<style scoped>\n",
       "    .dataframe tbody tr th:only-of-type {\n",
       "        vertical-align: middle;\n",
       "    }\n",
       "\n",
       "    .dataframe tbody tr th {\n",
       "        vertical-align: top;\n",
       "    }\n",
       "\n",
       "    .dataframe thead th {\n",
       "        text-align: right;\n",
       "    }\n",
       "</style>\n",
       "<table border=\"1\" class=\"dataframe\">\n",
       "  <thead>\n",
       "    <tr style=\"text-align: right;\">\n",
       "      <th></th>\n",
       "      <th>cancer_cohort</th>\n",
       "      <th>ENSG00000015568</th>\n",
       "      <th>ENSG00000023909</th>\n",
       "      <th>ENSG00000039068</th>\n",
       "      <th>ENSG00000040199</th>\n",
       "      <th>ENSG00000051596</th>\n",
       "      <th>ENSG00000060749</th>\n",
       "      <th>ENSG00000081985</th>\n",
       "      <th>ENSG00000089177</th>\n",
       "      <th>ENSG00000100253</th>\n",
       "      <th>...</th>\n",
       "      <th>ENSG00000275489</th>\n",
       "      <th>ENSG00000276406</th>\n",
       "      <th>ENSG00000276443</th>\n",
       "      <th>ENSG00000276668</th>\n",
       "      <th>ENSG00000277213</th>\n",
       "      <th>ENSG00000279558</th>\n",
       "      <th>ENSG00000283408</th>\n",
       "      <th>y</th>\n",
       "      <th>y_trans</th>\n",
       "      <th>y_pred</th>\n",
       "    </tr>\n",
       "    <tr>\n",
       "      <th>pog_id</th>\n",
       "      <th></th>\n",
       "      <th></th>\n",
       "      <th></th>\n",
       "      <th></th>\n",
       "      <th></th>\n",
       "      <th></th>\n",
       "      <th></th>\n",
       "      <th></th>\n",
       "      <th></th>\n",
       "      <th></th>\n",
       "      <th></th>\n",
       "      <th></th>\n",
       "      <th></th>\n",
       "      <th></th>\n",
       "      <th></th>\n",
       "      <th></th>\n",
       "      <th></th>\n",
       "      <th></th>\n",
       "      <th></th>\n",
       "      <th></th>\n",
       "      <th></th>\n",
       "    </tr>\n",
       "  </thead>\n",
       "  <tbody>\n",
       "    <tr>\n",
       "      <th>POG002</th>\n",
       "      <td>BRCA</td>\n",
       "      <td>-0.106563</td>\n",
       "      <td>-0.748857</td>\n",
       "      <td>-0.327301</td>\n",
       "      <td>-0.860613</td>\n",
       "      <td>-1.050185</td>\n",
       "      <td>-1.091186</td>\n",
       "      <td>-0.346278</td>\n",
       "      <td>-0.619761</td>\n",
       "      <td>-0.208754</td>\n",
       "      <td>...</td>\n",
       "      <td>-0.052448</td>\n",
       "      <td>-0.085391</td>\n",
       "      <td>0.354517</td>\n",
       "      <td>-0.319078</td>\n",
       "      <td>-0.041922</td>\n",
       "      <td>-0.072072</td>\n",
       "      <td>-0.069182</td>\n",
       "      <td>105</td>\n",
       "      <td>0.272834</td>\n",
       "      <td>NaN</td>\n",
       "    </tr>\n",
       "    <tr>\n",
       "      <th>POG011</th>\n",
       "      <td>COLO</td>\n",
       "      <td>-0.106563</td>\n",
       "      <td>3.866762</td>\n",
       "      <td>-0.264711</td>\n",
       "      <td>-0.905075</td>\n",
       "      <td>0.416752</td>\n",
       "      <td>-0.109545</td>\n",
       "      <td>-0.269279</td>\n",
       "      <td>-0.301210</td>\n",
       "      <td>-0.240696</td>\n",
       "      <td>...</td>\n",
       "      <td>-0.052448</td>\n",
       "      <td>-0.085391</td>\n",
       "      <td>-0.031168</td>\n",
       "      <td>1.128367</td>\n",
       "      <td>-0.041922</td>\n",
       "      <td>-0.072072</td>\n",
       "      <td>-0.069182</td>\n",
       "      <td>298</td>\n",
       "      <td>1.745135</td>\n",
       "      <td>True</td>\n",
       "    </tr>\n",
       "    <tr>\n",
       "      <th>POG020</th>\n",
       "      <td>CNS-PNS</td>\n",
       "      <td>-0.106563</td>\n",
       "      <td>-0.206204</td>\n",
       "      <td>-0.797031</td>\n",
       "      <td>0.735602</td>\n",
       "      <td>0.723897</td>\n",
       "      <td>0.156380</td>\n",
       "      <td>-0.223869</td>\n",
       "      <td>0.095235</td>\n",
       "      <td>-0.290891</td>\n",
       "      <td>...</td>\n",
       "      <td>-0.052448</td>\n",
       "      <td>-0.085391</td>\n",
       "      <td>0.002631</td>\n",
       "      <td>0.530509</td>\n",
       "      <td>-0.041922</td>\n",
       "      <td>-0.072072</td>\n",
       "      <td>-0.069182</td>\n",
       "      <td>44</td>\n",
       "      <td>-0.715317</td>\n",
       "      <td>False</td>\n",
       "    </tr>\n",
       "    <tr>\n",
       "      <th>POG032</th>\n",
       "      <td>BRCA</td>\n",
       "      <td>-0.106563</td>\n",
       "      <td>-0.585720</td>\n",
       "      <td>-0.870439</td>\n",
       "      <td>-0.767241</td>\n",
       "      <td>-1.033388</td>\n",
       "      <td>-0.718892</td>\n",
       "      <td>-0.338381</td>\n",
       "      <td>-0.935987</td>\n",
       "      <td>-0.286328</td>\n",
       "      <td>...</td>\n",
       "      <td>-0.000034</td>\n",
       "      <td>-0.085391</td>\n",
       "      <td>-0.048299</td>\n",
       "      <td>-0.319078</td>\n",
       "      <td>-0.041922</td>\n",
       "      <td>-0.072072</td>\n",
       "      <td>-0.069182</td>\n",
       "      <td>439</td>\n",
       "      <td>2.386641</td>\n",
       "      <td>NaN</td>\n",
       "    </tr>\n",
       "    <tr>\n",
       "      <th>POG038</th>\n",
       "      <td>OV</td>\n",
       "      <td>-0.106563</td>\n",
       "      <td>0.080480</td>\n",
       "      <td>0.082070</td>\n",
       "      <td>0.064214</td>\n",
       "      <td>6.150926</td>\n",
       "      <td>0.201967</td>\n",
       "      <td>-0.324560</td>\n",
       "      <td>-0.794151</td>\n",
       "      <td>-0.222444</td>\n",
       "      <td>...</td>\n",
       "      <td>-0.052448</td>\n",
       "      <td>-0.085391</td>\n",
       "      <td>-0.082793</td>\n",
       "      <td>-0.067349</td>\n",
       "      <td>-0.041922</td>\n",
       "      <td>-0.072072</td>\n",
       "      <td>0.044987</td>\n",
       "      <td>28</td>\n",
       "      <td>-1.157017</td>\n",
       "      <td>NaN</td>\n",
       "    </tr>\n",
       "    <tr>\n",
       "      <th>...</th>\n",
       "      <td>...</td>\n",
       "      <td>...</td>\n",
       "      <td>...</td>\n",
       "      <td>...</td>\n",
       "      <td>...</td>\n",
       "      <td>...</td>\n",
       "      <td>...</td>\n",
       "      <td>...</td>\n",
       "      <td>...</td>\n",
       "      <td>...</td>\n",
       "      <td>...</td>\n",
       "      <td>...</td>\n",
       "      <td>...</td>\n",
       "      <td>...</td>\n",
       "      <td>...</td>\n",
       "      <td>...</td>\n",
       "      <td>...</td>\n",
       "      <td>...</td>\n",
       "      <td>...</td>\n",
       "      <td>...</td>\n",
       "      <td>...</td>\n",
       "    </tr>\n",
       "    <tr>\n",
       "      <th>POG777</th>\n",
       "      <td>OV</td>\n",
       "      <td>7.486017</td>\n",
       "      <td>0.425184</td>\n",
       "      <td>0.410992</td>\n",
       "      <td>0.264296</td>\n",
       "      <td>7.842623</td>\n",
       "      <td>-0.791831</td>\n",
       "      <td>-0.289022</td>\n",
       "      <td>-0.219828</td>\n",
       "      <td>9.688808</td>\n",
       "      <td>...</td>\n",
       "      <td>-0.052448</td>\n",
       "      <td>-0.085391</td>\n",
       "      <td>-0.114509</td>\n",
       "      <td>0.184381</td>\n",
       "      <td>-0.041922</td>\n",
       "      <td>-0.072072</td>\n",
       "      <td>0.547330</td>\n",
       "      <td>56</td>\n",
       "      <td>-0.460508</td>\n",
       "      <td>NaN</td>\n",
       "    </tr>\n",
       "    <tr>\n",
       "      <th>POG814</th>\n",
       "      <td>LUNG</td>\n",
       "      <td>-0.106563</td>\n",
       "      <td>-0.277193</td>\n",
       "      <td>-0.114373</td>\n",
       "      <td>-0.616067</td>\n",
       "      <td>-0.882215</td>\n",
       "      <td>-0.448409</td>\n",
       "      <td>-0.336406</td>\n",
       "      <td>-0.662777</td>\n",
       "      <td>-0.080985</td>\n",
       "      <td>...</td>\n",
       "      <td>-0.039344</td>\n",
       "      <td>-0.085391</td>\n",
       "      <td>23.296743</td>\n",
       "      <td>-0.319078</td>\n",
       "      <td>-0.041922</td>\n",
       "      <td>-0.072072</td>\n",
       "      <td>-0.069182</td>\n",
       "      <td>227</td>\n",
       "      <td>1.326943</td>\n",
       "      <td>NaN</td>\n",
       "    </tr>\n",
       "    <tr>\n",
       "      <th>POG816</th>\n",
       "      <td>BRCA</td>\n",
       "      <td>-0.106563</td>\n",
       "      <td>-0.163202</td>\n",
       "      <td>0.210685</td>\n",
       "      <td>-0.131423</td>\n",
       "      <td>-0.494285</td>\n",
       "      <td>-0.414978</td>\n",
       "      <td>-0.314689</td>\n",
       "      <td>2.516921</td>\n",
       "      <td>-0.172248</td>\n",
       "      <td>...</td>\n",
       "      <td>-0.039344</td>\n",
       "      <td>-0.085391</td>\n",
       "      <td>-0.112194</td>\n",
       "      <td>-0.319078</td>\n",
       "      <td>-0.041922</td>\n",
       "      <td>-0.072072</td>\n",
       "      <td>0.044987</td>\n",
       "      <td>48</td>\n",
       "      <td>-0.624980</td>\n",
       "      <td>NaN</td>\n",
       "    </tr>\n",
       "    <tr>\n",
       "      <th>POG910</th>\n",
       "      <td>BRCA</td>\n",
       "      <td>-0.106563</td>\n",
       "      <td>-0.252620</td>\n",
       "      <td>-0.396760</td>\n",
       "      <td>-0.438216</td>\n",
       "      <td>-1.120573</td>\n",
       "      <td>-0.051801</td>\n",
       "      <td>-0.314689</td>\n",
       "      <td>-0.224479</td>\n",
       "      <td>-0.213317</td>\n",
       "      <td>...</td>\n",
       "      <td>-0.052448</td>\n",
       "      <td>-0.085391</td>\n",
       "      <td>-0.099693</td>\n",
       "      <td>-0.319078</td>\n",
       "      <td>-0.041922</td>\n",
       "      <td>-0.072072</td>\n",
       "      <td>0.090654</td>\n",
       "      <td>160</td>\n",
       "      <td>0.825901</td>\n",
       "      <td>NaN</td>\n",
       "    </tr>\n",
       "    <tr>\n",
       "      <th>POG925</th>\n",
       "      <td>OV</td>\n",
       "      <td>-0.106563</td>\n",
       "      <td>1.077732</td>\n",
       "      <td>-0.440806</td>\n",
       "      <td>-0.282596</td>\n",
       "      <td>-0.129550</td>\n",
       "      <td>0.167017</td>\n",
       "      <td>-0.223869</td>\n",
       "      <td>-0.488388</td>\n",
       "      <td>0.010279</td>\n",
       "      <td>...</td>\n",
       "      <td>-0.052448</td>\n",
       "      <td>-0.085391</td>\n",
       "      <td>0.349192</td>\n",
       "      <td>-0.319078</td>\n",
       "      <td>-0.041922</td>\n",
       "      <td>-0.072072</td>\n",
       "      <td>-0.069182</td>\n",
       "      <td>102</td>\n",
       "      <td>0.236675</td>\n",
       "      <td>NaN</td>\n",
       "    </tr>\n",
       "  </tbody>\n",
       "</table>\n",
       "<p>70 rows × 154 columns</p>\n",
       "</div>"
      ],
      "text/plain": [
       "       cancer_cohort  ENSG00000015568  ENSG00000023909  ENSG00000039068  \\\n",
       "pog_id                                                                    \n",
       "POG002          BRCA        -0.106563        -0.748857        -0.327301   \n",
       "POG011          COLO        -0.106563         3.866762        -0.264711   \n",
       "POG020       CNS-PNS        -0.106563        -0.206204        -0.797031   \n",
       "POG032          BRCA        -0.106563        -0.585720        -0.870439   \n",
       "POG038            OV        -0.106563         0.080480         0.082070   \n",
       "...              ...              ...              ...              ...   \n",
       "POG777            OV         7.486017         0.425184         0.410992   \n",
       "POG814          LUNG        -0.106563        -0.277193        -0.114373   \n",
       "POG816          BRCA        -0.106563        -0.163202         0.210685   \n",
       "POG910          BRCA        -0.106563        -0.252620        -0.396760   \n",
       "POG925            OV        -0.106563         1.077732        -0.440806   \n",
       "\n",
       "        ENSG00000040199  ENSG00000051596  ENSG00000060749  ENSG00000081985  \\\n",
       "pog_id                                                                       \n",
       "POG002        -0.860613        -1.050185        -1.091186        -0.346278   \n",
       "POG011        -0.905075         0.416752        -0.109545        -0.269279   \n",
       "POG020         0.735602         0.723897         0.156380        -0.223869   \n",
       "POG032        -0.767241        -1.033388        -0.718892        -0.338381   \n",
       "POG038         0.064214         6.150926         0.201967        -0.324560   \n",
       "...                 ...              ...              ...              ...   \n",
       "POG777         0.264296         7.842623        -0.791831        -0.289022   \n",
       "POG814        -0.616067        -0.882215        -0.448409        -0.336406   \n",
       "POG816        -0.131423        -0.494285        -0.414978        -0.314689   \n",
       "POG910        -0.438216        -1.120573        -0.051801        -0.314689   \n",
       "POG925        -0.282596        -0.129550         0.167017        -0.223869   \n",
       "\n",
       "        ENSG00000089177  ENSG00000100253  ...  ENSG00000275489  \\\n",
       "pog_id                                    ...                    \n",
       "POG002        -0.619761        -0.208754  ...        -0.052448   \n",
       "POG011        -0.301210        -0.240696  ...        -0.052448   \n",
       "POG020         0.095235        -0.290891  ...        -0.052448   \n",
       "POG032        -0.935987        -0.286328  ...        -0.000034   \n",
       "POG038        -0.794151        -0.222444  ...        -0.052448   \n",
       "...                 ...              ...  ...              ...   \n",
       "POG777        -0.219828         9.688808  ...        -0.052448   \n",
       "POG814        -0.662777        -0.080985  ...        -0.039344   \n",
       "POG816         2.516921        -0.172248  ...        -0.039344   \n",
       "POG910        -0.224479        -0.213317  ...        -0.052448   \n",
       "POG925        -0.488388         0.010279  ...        -0.052448   \n",
       "\n",
       "        ENSG00000276406  ENSG00000276443  ENSG00000276668  ENSG00000277213  \\\n",
       "pog_id                                                                       \n",
       "POG002        -0.085391         0.354517        -0.319078        -0.041922   \n",
       "POG011        -0.085391        -0.031168         1.128367        -0.041922   \n",
       "POG020        -0.085391         0.002631         0.530509        -0.041922   \n",
       "POG032        -0.085391        -0.048299        -0.319078        -0.041922   \n",
       "POG038        -0.085391        -0.082793        -0.067349        -0.041922   \n",
       "...                 ...              ...              ...              ...   \n",
       "POG777        -0.085391        -0.114509         0.184381        -0.041922   \n",
       "POG814        -0.085391        23.296743        -0.319078        -0.041922   \n",
       "POG816        -0.085391        -0.112194        -0.319078        -0.041922   \n",
       "POG910        -0.085391        -0.099693        -0.319078        -0.041922   \n",
       "POG925        -0.085391         0.349192        -0.319078        -0.041922   \n",
       "\n",
       "        ENSG00000279558  ENSG00000283408    y   y_trans  y_pred  \n",
       "pog_id                                                           \n",
       "POG002        -0.072072        -0.069182  105  0.272834     NaN  \n",
       "POG011        -0.072072        -0.069182  298  1.745135    True  \n",
       "POG020        -0.072072        -0.069182   44 -0.715317   False  \n",
       "POG032        -0.072072        -0.069182  439  2.386641     NaN  \n",
       "POG038        -0.072072         0.044987   28 -1.157017     NaN  \n",
       "...                 ...              ...  ...       ...     ...  \n",
       "POG777        -0.072072         0.547330   56 -0.460508     NaN  \n",
       "POG814        -0.072072        -0.069182  227  1.326943     NaN  \n",
       "POG816        -0.072072         0.044987   48 -0.624980     NaN  \n",
       "POG910        -0.072072         0.090654  160  0.825901     NaN  \n",
       "POG925        -0.072072        -0.069182  102  0.236675     NaN  \n",
       "\n",
       "[70 rows x 154 columns]"
      ]
     },
     "execution_count": 40,
     "metadata": {},
     "output_type": "execute_result"
    }
   ],
   "source": [
    "data"
   ]
  },
  {
   "cell_type": "code",
   "execution_count": 41,
   "metadata": {},
   "outputs": [],
   "source": [
    "data['y_true'] = data['y_trans'] > 0"
   ]
  },
  {
   "cell_type": "code",
   "execution_count": null,
   "metadata": {},
   "outputs": [],
   "source": []
  },
  {
   "cell_type": "code",
   "execution_count": 42,
   "metadata": {},
   "outputs": [],
   "source": [
    "# data.to_csv('../ismb_poster/gemcitabine.tsv', sep='\\t')"
   ]
  },
  {
   "cell_type": "code",
   "execution_count": 43,
   "metadata": {},
   "outputs": [
    {
     "data": {
      "text/plain": [
       "<seaborn.axisgrid.FacetGrid at 0x7f4638108150>"
      ]
     },
     "execution_count": 43,
     "metadata": {},
     "output_type": "execute_result"
    },
    {
     "data": {
      "image/png": "[encoded data removed]",
      "text/plain": [
       "<Figure size 1440x720 with 1 Axes>"
      ]
     },
     "metadata": {
      "needs_background": "light"
     },
     "output_type": "display_data"
    },
    {
     "data": {
      "image/png": "[encoded data removed]",
      "text/plain": [
       "<Figure size 422.125x360 with 1 Axes>"
      ]
     },
     "metadata": {
      "needs_background": "light"
     },
     "output_type": "display_data"
    }
   ],
   "source": [
    "fig, ax = plt.subplots(figsize=(20,10))\n",
    "sns.catplot(data=data, ax=ax, x='cancer_cohort', y='y_trans', hue='y_pred')"
   ]
  },
  {
   "cell_type": "markdown",
   "metadata": {},
   "source": [
    "## Try BRCA GEM"
   ]
  },
  {
   "cell_type": "code",
   "execution_count": 44,
   "metadata": {},
   "outputs": [],
   "source": [
    "brca_data = data[data['cancer_cohort'] == 'BRCA']"
   ]
  },
  {
   "cell_type": "code",
   "execution_count": 45,
   "metadata": {},
   "outputs": [],
   "source": [
    "data = brca_data"
   ]
  },
  {
   "cell_type": "code",
   "execution_count": 46,
   "metadata": {},
   "outputs": [],
   "source": [
    "X_columns = data.columns.values[pd.Series(data.columns.values).str.contains('ENSG')]"
   ]
  },
  {
   "cell_type": "code",
   "execution_count": 47,
   "metadata": {},
   "outputs": [],
   "source": [
    "X = data.loc[:, X_columns]"
   ]
  },
  {
   "cell_type": "code",
   "execution_count": 48,
   "metadata": {},
   "outputs": [],
   "source": [
    "y = data.loc[:, 'y_trans']\n",
    "y_discrete = y > 0"
   ]
  },
  {
   "cell_type": "code",
   "execution_count": 49,
   "metadata": {},
   "outputs": [
    {
     "data": {
      "text/plain": [
       "5"
      ]
     },
     "execution_count": 49,
     "metadata": {},
     "output_type": "execute_result"
    }
   ],
   "source": [
    "kf = KFold(n_splits=5)\n",
    "kf.get_n_splits(X)"
   ]
  },
  {
   "cell_type": "markdown",
   "metadata": {},
   "source": [
    "## RBF"
   ]
  },
  {
   "cell_type": "code",
   "execution_count": 267,
   "metadata": {},
   "outputs": [],
   "source": [
    "from sklearn.svm import SVC, SVR"
   ]
  },
  {
   "cell_type": "code",
   "execution_count": 268,
   "metadata": {},
   "outputs": [],
   "source": [
    "from scipy.stats import spearmanr"
   ]
  },
  {
   "cell_type": "code",
   "execution_count": 269,
   "metadata": {},
   "outputs": [
    {
     "name": "stdout",
     "output_type": "stream",
     "text": [
      "SVC with linear kernel\n",
      "0.7272727272727273\n",
      "0.6363636363636364\n",
      "0.5454545454545454\n",
      "0.9090909090909091\n",
      "0.6363636363636364\n"
     ]
    }
   ],
   "source": [
    "print('SVC with linear kernel')\n",
    "for train_index, test_index in kf.split(X):\n",
    "    X_train, X_test = X.iloc[train_index, :], X.iloc[test_index, :]\n",
    "    y_train, y_test = y_discrete[train_index], y_discrete[test_index]\n",
    "    svc_rbf = SVC(C=1, kernel='linear', gamma='auto')\n",
    "    svc_rbf.fit(X_train, y_train)\n",
    "    print(svc_rbf.score(X_test, y_test))"
   ]
  },
  {
   "cell_type": "code",
   "execution_count": 270,
   "metadata": {},
   "outputs": [
    {
     "name": "stdout",
     "output_type": "stream",
     "text": [
      "SVR with linear kernel\n",
      "-2.0797387205826086\n",
      "-0.47080247193205943\n",
      "-0.24166275156452754\n",
      "-1.1844386731756478\n",
      "0.11960368996595483\n"
     ]
    }
   ],
   "source": [
    "print('SVR with linear kernel')\n",
    "corrs = []\n",
    "for train_index, test_index in kf.split(X):\n",
    "    X_train, X_test = X.iloc[train_index, :], X.iloc[test_index, :]\n",
    "    y_train, y_test = y[train_index], y[test_index]\n",
    "    svr_rbf = SVR(C=10, kernel='linear', gamma='auto')\n",
    "    svr_rbf.fit(X_train, y_train)\n",
    "    y_pred = svr_rbf.predict(X_test)\n",
    "    corrs.append(spearmanr(y_pred, y_test))\n",
    "    print(svr_rbf.score(X_test, y_test))"
   ]
  },
  {
   "cell_type": "code",
   "execution_count": 271,
   "metadata": {},
   "outputs": [
    {
     "data": {
      "text/plain": [
       "[(0.2876742319356506, 0.39100355454086044),\n",
       " (0.3698630136986301, 0.262893732707693),\n",
       " (0.5181818181818182, 0.10249153979096383),\n",
       " (-0.04187178946793119, 0.9027128456856279),\n",
       " (0.6727272727272727, 0.023313039833185972)]"
      ]
     },
     "execution_count": 271,
     "metadata": {},
     "output_type": "execute_result"
    }
   ],
   "source": [
    "[(x.correlation, x.pvalue) for x in corrs]"
   ]
  },
  {
   "cell_type": "code",
   "execution_count": 272,
   "metadata": {},
   "outputs": [
    {
     "data": {
      "text/plain": [
       "[SpearmanrResult(correlation=0.2876742319356506, pvalue=0.39100355454086044),\n",
       " SpearmanrResult(correlation=0.3698630136986301, pvalue=0.262893732707693),\n",
       " SpearmanrResult(correlation=0.5181818181818182, pvalue=0.10249153979096383),\n",
       " SpearmanrResult(correlation=-0.04187178946793119, pvalue=0.9027128456856279),\n",
       " SpearmanrResult(correlation=0.6727272727272727, pvalue=0.023313039833185972)]"
      ]
     },
     "execution_count": 272,
     "metadata": {},
     "output_type": "execute_result"
    }
   ],
   "source": [
    "corrs"
   ]
  },
  {
   "cell_type": "code",
   "execution_count": null,
   "metadata": {},
   "outputs": [],
   "source": []
  },
  {
   "cell_type": "markdown",
   "metadata": {},
   "source": [
    "### Visualize"
   ]
  },
  {
   "cell_type": "code",
   "execution_count": 50,
   "metadata": {},
   "outputs": [],
   "source": [
    "sns.set(rc={'figure.figsize':(10,10)})"
   ]
  },
  {
   "cell_type": "code",
   "execution_count": 51,
   "metadata": {},
   "outputs": [
    {
     "data": {
      "image/png": "[encoded data removed]",
      "text/plain": [
       "<Figure size 720x720 with 1 Axes>"
      ]
     },
     "metadata": {},
     "output_type": "display_data"
    }
   ],
   "source": [
    "sns.scatterplot(data=pca_expression_df, x='PC2', y='PC3', hue='discrete')\n",
    "plt.show()"
   ]
  },
  {
   "cell_type": "code",
   "execution_count": 52,
   "metadata": {},
   "outputs": [],
   "source": [
    "visualize = pca_expression_df.loc[:, ['PC{}'.format(i) for i in range(1, 5)]+['discrete']]"
   ]
  },
  {
   "cell_type": "code",
   "execution_count": 53,
   "metadata": {},
   "outputs": [
    {
     "data": {
      "text/html": [
       "<div>\n",
       "<style scoped>\n",
       "    .dataframe tbody tr th:only-of-type {\n",
       "        vertical-align: middle;\n",
       "    }\n",
       "\n",
       "    .dataframe tbody tr th {\n",
       "        vertical-align: top;\n",
       "    }\n",
       "\n",
       "    .dataframe thead th {\n",
       "        text-align: right;\n",
       "    }\n",
       "</style>\n",
       "<table border=\"1\" class=\"dataframe\">\n",
       "  <thead>\n",
       "    <tr style=\"text-align: right;\">\n",
       "      <th></th>\n",
       "      <th>PC1</th>\n",
       "      <th>PC2</th>\n",
       "      <th>PC3</th>\n",
       "      <th>PC4</th>\n",
       "      <th>discrete</th>\n",
       "    </tr>\n",
       "    <tr>\n",
       "      <th>pog_id</th>\n",
       "      <th></th>\n",
       "      <th></th>\n",
       "      <th></th>\n",
       "      <th></th>\n",
       "      <th></th>\n",
       "    </tr>\n",
       "  </thead>\n",
       "  <tbody>\n",
       "    <tr>\n",
       "      <th>POG002</th>\n",
       "      <td>-2.764016</td>\n",
       "      <td>-2.035394</td>\n",
       "      <td>-3.168792</td>\n",
       "      <td>1.678373</td>\n",
       "      <td>1</td>\n",
       "    </tr>\n",
       "    <tr>\n",
       "      <th>POG011</th>\n",
       "      <td>-1.502497</td>\n",
       "      <td>-0.721978</td>\n",
       "      <td>-0.215558</td>\n",
       "      <td>-0.822798</td>\n",
       "      <td>1</td>\n",
       "    </tr>\n",
       "    <tr>\n",
       "      <th>POG020</th>\n",
       "      <td>-0.821579</td>\n",
       "      <td>-1.569579</td>\n",
       "      <td>0.468155</td>\n",
       "      <td>-1.216003</td>\n",
       "      <td>0</td>\n",
       "    </tr>\n",
       "    <tr>\n",
       "      <th>POG032</th>\n",
       "      <td>-3.929284</td>\n",
       "      <td>-3.078237</td>\n",
       "      <td>-4.997961</td>\n",
       "      <td>2.901921</td>\n",
       "      <td>1</td>\n",
       "    </tr>\n",
       "    <tr>\n",
       "      <th>POG038</th>\n",
       "      <td>1.434031</td>\n",
       "      <td>-1.720519</td>\n",
       "      <td>0.906210</td>\n",
       "      <td>0.093610</td>\n",
       "      <td>0</td>\n",
       "    </tr>\n",
       "    <tr>\n",
       "      <th>...</th>\n",
       "      <td>...</td>\n",
       "      <td>...</td>\n",
       "      <td>...</td>\n",
       "      <td>...</td>\n",
       "      <td>...</td>\n",
       "    </tr>\n",
       "    <tr>\n",
       "      <th>POG777</th>\n",
       "      <td>63.626022</td>\n",
       "      <td>-3.643095</td>\n",
       "      <td>-7.604338</td>\n",
       "      <td>5.947212</td>\n",
       "      <td>0</td>\n",
       "    </tr>\n",
       "    <tr>\n",
       "      <th>POG814</th>\n",
       "      <td>-4.761329</td>\n",
       "      <td>-4.226777</td>\n",
       "      <td>-7.085365</td>\n",
       "      <td>5.248060</td>\n",
       "      <td>1</td>\n",
       "    </tr>\n",
       "    <tr>\n",
       "      <th>POG816</th>\n",
       "      <td>-1.794812</td>\n",
       "      <td>-0.526380</td>\n",
       "      <td>1.198024</td>\n",
       "      <td>-3.351050</td>\n",
       "      <td>0</td>\n",
       "    </tr>\n",
       "    <tr>\n",
       "      <th>POG910</th>\n",
       "      <td>-2.467189</td>\n",
       "      <td>-1.689065</td>\n",
       "      <td>-1.783514</td>\n",
       "      <td>0.225314</td>\n",
       "      <td>1</td>\n",
       "    </tr>\n",
       "    <tr>\n",
       "      <th>POG925</th>\n",
       "      <td>-2.240159</td>\n",
       "      <td>-1.566988</td>\n",
       "      <td>-1.684765</td>\n",
       "      <td>0.403442</td>\n",
       "      <td>1</td>\n",
       "    </tr>\n",
       "  </tbody>\n",
       "</table>\n",
       "<p>70 rows × 5 columns</p>\n",
       "</div>"
      ],
      "text/plain": [
       "              PC1       PC2       PC3       PC4  discrete\n",
       "pog_id                                                   \n",
       "POG002  -2.764016 -2.035394 -3.168792  1.678373         1\n",
       "POG011  -1.502497 -0.721978 -0.215558 -0.822798         1\n",
       "POG020  -0.821579 -1.569579  0.468155 -1.216003         0\n",
       "POG032  -3.929284 -3.078237 -4.997961  2.901921         1\n",
       "POG038   1.434031 -1.720519  0.906210  0.093610         0\n",
       "...           ...       ...       ...       ...       ...\n",
       "POG777  63.626022 -3.643095 -7.604338  5.947212         0\n",
       "POG814  -4.761329 -4.226777 -7.085365  5.248060         1\n",
       "POG816  -1.794812 -0.526380  1.198024 -3.351050         0\n",
       "POG910  -2.467189 -1.689065 -1.783514  0.225314         1\n",
       "POG925  -2.240159 -1.566988 -1.684765  0.403442         1\n",
       "\n",
       "[70 rows x 5 columns]"
      ]
     },
     "execution_count": 53,
     "metadata": {},
     "output_type": "execute_result"
    }
   ],
   "source": [
    "visualize"
   ]
  },
  {
   "cell_type": "code",
   "execution_count": null,
   "metadata": {},
   "outputs": [],
   "source": []
  },
  {
   "cell_type": "code",
   "execution_count": 54,
   "metadata": {},
   "outputs": [
    {
     "data": {
      "image/png": "[encoded data removed]",
      "text/plain": [
       "<Figure size 950.425x900 with 30 Axes>"
      ]
     },
     "metadata": {},
     "output_type": "display_data"
    }
   ],
   "source": [
    "sns.pairplot(visualize, hue='discrete', diag_kind='hist')\n",
    "plt.show()"
   ]
  },
  {
   "cell_type": "code",
   "execution_count": 55,
   "metadata": {},
   "outputs": [
    {
     "data": {
      "text/plain": [
       "array([0.0967197 , 0.0806047 , 0.06436244, 0.05400104, 0.04642929,\n",
       "       0.04421839, 0.04269599, 0.04042937, 0.03916604, 0.03858418])"
      ]
     },
     "execution_count": 55,
     "metadata": {},
     "output_type": "execute_result"
    }
   ],
   "source": [
    "pca.explained_variance_ratio_"
   ]
  },
  {
   "cell_type": "code",
   "execution_count": 56,
   "metadata": {},
   "outputs": [
    {
     "data": {
      "image/png": "[encoded data removed]",
      "text/plain": [
       "<Figure size 770.425x720 with 20 Axes>"
      ]
     },
     "metadata": {},
     "output_type": "display_data"
    }
   ],
   "source": [
    "sns.pairplot(tsne_expression_df.loc[:,['tsne{}'.format(i) for i in range(1, 4)]+['discrete']] , hue='discrete', diag_kind='hist')\n",
    "plt.show()"
   ]
  },
  {
   "cell_type": "code",
   "execution_count": null,
   "metadata": {},
   "outputs": [],
   "source": []
  },
  {
   "cell_type": "code",
   "execution_count": null,
   "metadata": {},
   "outputs": [],
   "source": []
  },
  {
   "cell_type": "code",
   "execution_count": null,
   "metadata": {},
   "outputs": [],
   "source": []
  }
 ],
 "metadata": {
  "kernelspec": {
   "display_name": "Python 3",
   "language": "python",
   "name": "python3"
  },
  "language_info": {
   "codemirror_mode": {
    "name": "ipython",
    "version": 3
   },
   "file_extension": ".py",
   "mimetype": "text/x-python",
   "name": "python",
   "nbconvert_exporter": "python",
   "pygments_lexer": "ipython3",
   "version": "3.7.4"
  }
 },
 "nbformat": 4,
 "nbformat_minor": 4
}
