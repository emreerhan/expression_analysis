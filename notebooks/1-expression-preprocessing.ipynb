{
 "cells": [
  {
   "cell_type": "code",
   "execution_count": 92,
   "metadata": {},
   "outputs": [],
   "source": [
    "import pandas as pd\n",
    "import numpy as np\n",
    "from sklearn.preprocessing import FunctionTransformer, MinMaxScaler"
   ]
  },
  {
   "cell_type": "markdown",
   "metadata": {},
   "source": [
    "Create dataframe by transposing matrix"
   ]
  },
  {
   "cell_type": "code",
   "execution_count": 93,
   "metadata": {},
   "outputs": [],
   "source": [
    "expression_df = pd.read_csv('../data/raw/POG570_TPM_matrix.txt', index_col=0, sep='\\t')"
   ]
  },
  {
   "cell_type": "code",
   "execution_count": 94,
   "metadata": {},
   "outputs": [],
   "source": [
    "expression_df = expression_df.T"
   ]
  },
  {
   "cell_type": "code",
   "execution_count": 95,
   "metadata": {},
   "outputs": [],
   "source": [
    "expression_df.to_csv('../data/raw/POG570_TPM.tsv', sep='\\t')"
   ]
  },
  {
   "cell_type": "markdown",
   "metadata": {},
   "source": [
    "## Raw data"
   ]
  },
  {
   "cell_type": "code",
   "execution_count": 101,
   "metadata": {},
   "outputs": [],
   "source": [
    "expression_raw_df = pd.read_csv('../data/raw/POG570_TPM.tsv', sep='\\t', index_col = 0)"
   ]
  },
  {
   "cell_type": "markdown",
   "metadata": {},
   "source": [
    "## Scale to range [0, 1]"
   ]
  },
  {
   "cell_type": "code",
   "execution_count": 103,
   "metadata": {},
   "outputs": [],
   "source": [
    "minmax_scaler = MinMaxScaler()\n",
    "expression_minmax_matrix = minmax_scaler.fit_transform(expression_raw_df.iloc[:, 1:])"
   ]
  },
  {
   "cell_type": "code",
   "execution_count": 104,
   "metadata": {},
   "outputs": [],
   "source": [
    "expression_minmax_df = pd.DataFrame(expression_minmax_matrix, columns=expression_raw_df.iloc[:, 1:].columns.get_values())"
   ]
  },
  {
   "cell_type": "code",
   "execution_count": 105,
   "metadata": {},
   "outputs": [],
   "source": [
    "expression_minmax_df.insert(0, 'pog_id', expression_raw_df.index.get_values())"
   ]
  },
  {
   "cell_type": "code",
   "execution_count": 107,
   "metadata": {},
   "outputs": [],
   "source": [
    "expression_minmax_df.to_csv('../data/processed/expression_tpm_minmax.tsv', sep='\\t')"
   ]
  },
  {
   "cell_type": "markdown",
   "metadata": {},
   "source": [
    "## Transform to Logarithmic scale\n",
    "According to https://www.biorxiv.org/content/early/2018/07/11/364323"
   ]
  },
  {
   "cell_type": "code",
   "execution_count": 114,
   "metadata": {},
   "outputs": [],
   "source": [
    "def transform_function(x):\n",
    "    return np.log1p(x) if np.log1p(x) >=1 else 0\n",
    "transform_funct_vect = np.vectorize(transform_function)"
   ]
  },
  {
   "cell_type": "code",
   "execution_count": 115,
   "metadata": {},
   "outputs": [],
   "source": [
    "transformer = FunctionTransformer(transform_funct_vect, validate=True)"
   ]
  },
  {
   "cell_type": "code",
   "execution_count": 116,
   "metadata": {},
   "outputs": [],
   "source": [
    "expression_log_df = pd.DataFrame(transformer.transform(expression_raw_df.iloc[:, 1:]), columns=expression_raw_df.iloc[:, 1:].columns.get_values())#, index=expr_data.index)"
   ]
  },
  {
   "cell_type": "code",
   "execution_count": 117,
   "metadata": {},
   "outputs": [],
   "source": [
    "expression_log_df.insert(0, 'pog_id', expression_raw_df.index.get_values())"
   ]
  },
  {
   "cell_type": "code",
   "execution_count": 118,
   "metadata": {},
   "outputs": [],
   "source": [
    "expression_log_df.to_csv('../data/processed/expression_tpm_log.tsv', sep='\\t')"
   ]
  },
  {
   "cell_type": "code",
   "execution_count": 122,
   "metadata": {},
   "outputs": [
    {
     "data": {
      "text/plain": [
       "array([[0, 3, 2, ..., 0, 0, 0],\n",
       "       [0, 2, 2, ..., 0, 0, 0],\n",
       "       [0, 3, 2, ..., 0, 0, 0],\n",
       "       ...,\n",
       "       [3, 3, 2, ..., 0, 0, 0],\n",
       "       [0, 3, 2, ..., 0, 0, 0],\n",
       "       [0, 3, 2, ..., 0, 0, 0]])"
      ]
     },
     "execution_count": 122,
     "metadata": {},
     "output_type": "execute_result"
    }
   ],
   "source": [
    "transformer.transform(expression_raw_df.iloc[:, 1:])"
   ]
  },
  {
   "cell_type": "code",
   "execution_count": null,
   "metadata": {},
   "outputs": [],
   "source": []
  }
 ],
 "metadata": {
  "kernelspec": {
   "display_name": "Python 3",
   "language": "python",
   "name": "python3"
  },
  "language_info": {
   "codemirror_mode": {
    "name": "ipython",
    "version": 3
   },
   "file_extension": ".py",
   "mimetype": "text/x-python",
   "name": "python",
   "nbconvert_exporter": "python",
   "pygments_lexer": "ipython3",
   "version": "3.7.0"
  }
 },
 "nbformat": 4,
 "nbformat_minor": 2
}
