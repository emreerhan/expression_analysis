{
 "cells": [
  {
   "cell_type": "code",
   "execution_count": 157,
   "metadata": {},
   "outputs": [],
   "source": [
    "import pandas as pd\n",
    "import numpy as np\n",
    "import math"
   ]
  },
  {
   "cell_type": "code",
   "execution_count": 158,
   "metadata": {},
   "outputs": [],
   "source": [
    "from sklearn.model_selection import KFold, GridSearchCV"
   ]
  },
  {
   "cell_type": "markdown",
   "metadata": {},
   "source": [
    "## misc function"
   ]
  },
  {
   "cell_type": "code",
   "execution_count": 159,
   "metadata": {},
   "outputs": [],
   "source": [
    "def train_test_split(X, y, test_p=0.25, random_state=42):\n",
    "    ids = np.unique(X.index.values)\n",
    "    test_size = math.floor(test_p * len(ids))\n",
    "    test_index = np.random.choice(ids, size=test_size)\n",
    "    X_train = X[~X.index.isin(test_index)]\n",
    "    X_test = X[X.index.isin(test_index)]\n",
    "    y_train = y[~y.index.isin(test_index)]\n",
    "    y_test = y[y.index.isin(test_index)]\n",
    "    return X_train, X_test, y_train, y_test"
   ]
  },
  {
   "cell_type": "code",
   "execution_count": 160,
   "metadata": {},
   "outputs": [],
   "source": [
    "data = pd.read_csv('/projects/eerhan_prj/eerhan_prj_results/pog500_expression/results/04_02_250103127/data/All_CISPLATIN.tsv', sep='\\t', index_col=0)"
   ]
  },
  {
   "cell_type": "code",
   "execution_count": 161,
   "metadata": {},
   "outputs": [],
   "source": [
    "data = data.drop_duplicates()"
   ]
  },
  {
   "cell_type": "code",
   "execution_count": 162,
   "metadata": {},
   "outputs": [
    {
     "data": {
      "text/html": [
       "<div>\n",
       "<style scoped>\n",
       "    .dataframe tbody tr th:only-of-type {\n",
       "        vertical-align: middle;\n",
       "    }\n",
       "\n",
       "    .dataframe tbody tr th {\n",
       "        vertical-align: top;\n",
       "    }\n",
       "\n",
       "    .dataframe thead th {\n",
       "        text-align: right;\n",
       "    }\n",
       "</style>\n",
       "<table border=\"1\" class=\"dataframe\">\n",
       "  <thead>\n",
       "    <tr style=\"text-align: right;\">\n",
       "      <th></th>\n",
       "      <th>ENSG00000013293</th>\n",
       "      <th>ENSG00000015133</th>\n",
       "      <th>ENSG00000073146</th>\n",
       "      <th>ENSG00000102452</th>\n",
       "      <th>ENSG00000105176</th>\n",
       "      <th>ENSG00000118363</th>\n",
       "      <th>ENSG00000120563</th>\n",
       "      <th>ENSG00000130348</th>\n",
       "      <th>ENSG00000132446</th>\n",
       "      <th>ENSG00000132744</th>\n",
       "      <th>...</th>\n",
       "      <th>ENSG00000275489</th>\n",
       "      <th>ENSG00000275695</th>\n",
       "      <th>ENSG00000277453</th>\n",
       "      <th>ENSG00000277628</th>\n",
       "      <th>ENSG00000279533</th>\n",
       "      <th>ENSG00000279650</th>\n",
       "      <th>ENSG00000283211</th>\n",
       "      <th>y</th>\n",
       "      <th>y_trans</th>\n",
       "      <th>y_pred</th>\n",
       "    </tr>\n",
       "    <tr>\n",
       "      <th>pog_id</th>\n",
       "      <th></th>\n",
       "      <th></th>\n",
       "      <th></th>\n",
       "      <th></th>\n",
       "      <th></th>\n",
       "      <th></th>\n",
       "      <th></th>\n",
       "      <th></th>\n",
       "      <th></th>\n",
       "      <th></th>\n",
       "      <th></th>\n",
       "      <th></th>\n",
       "      <th></th>\n",
       "      <th></th>\n",
       "      <th></th>\n",
       "      <th></th>\n",
       "      <th></th>\n",
       "      <th></th>\n",
       "      <th></th>\n",
       "      <th></th>\n",
       "      <th></th>\n",
       "    </tr>\n",
       "  </thead>\n",
       "  <tbody>\n",
       "    <tr>\n",
       "      <th>POG002</th>\n",
       "      <td>-0.071914</td>\n",
       "      <td>0.461393</td>\n",
       "      <td>-0.136231</td>\n",
       "      <td>-0.145099</td>\n",
       "      <td>-0.522286</td>\n",
       "      <td>-1.037833</td>\n",
       "      <td>-0.162236</td>\n",
       "      <td>-1.076076</td>\n",
       "      <td>-0.088944</td>\n",
       "      <td>-0.020637</td>\n",
       "      <td>...</td>\n",
       "      <td>-0.052448</td>\n",
       "      <td>-0.213232</td>\n",
       "      <td>1.777633</td>\n",
       "      <td>-0.113002</td>\n",
       "      <td>-0.175983</td>\n",
       "      <td>-0.239435</td>\n",
       "      <td>-0.041922</td>\n",
       "      <td>57</td>\n",
       "      <td>-0.212033</td>\n",
       "      <td>NaN</td>\n",
       "    </tr>\n",
       "    <tr>\n",
       "      <th>POG007</th>\n",
       "      <td>-0.071914</td>\n",
       "      <td>0.175278</td>\n",
       "      <td>0.193592</td>\n",
       "      <td>-0.312930</td>\n",
       "      <td>-0.577048</td>\n",
       "      <td>-1.456191</td>\n",
       "      <td>-0.162236</td>\n",
       "      <td>-0.447868</td>\n",
       "      <td>-0.088944</td>\n",
       "      <td>-0.267441</td>\n",
       "      <td>...</td>\n",
       "      <td>-0.052448</td>\n",
       "      <td>-0.213232</td>\n",
       "      <td>-0.558841</td>\n",
       "      <td>-0.113002</td>\n",
       "      <td>-0.175983</td>\n",
       "      <td>-0.239435</td>\n",
       "      <td>-0.041922</td>\n",
       "      <td>24</td>\n",
       "      <td>-0.933528</td>\n",
       "      <td>False</td>\n",
       "    </tr>\n",
       "    <tr>\n",
       "      <th>POG010</th>\n",
       "      <td>-0.071914</td>\n",
       "      <td>-0.403128</td>\n",
       "      <td>-0.007170</td>\n",
       "      <td>-0.344760</td>\n",
       "      <td>-0.223734</td>\n",
       "      <td>1.597143</td>\n",
       "      <td>-0.162236</td>\n",
       "      <td>0.066120</td>\n",
       "      <td>-0.088944</td>\n",
       "      <td>-0.258627</td>\n",
       "      <td>...</td>\n",
       "      <td>-0.052448</td>\n",
       "      <td>-0.213232</td>\n",
       "      <td>1.238447</td>\n",
       "      <td>-0.113002</td>\n",
       "      <td>-0.175983</td>\n",
       "      <td>-0.239435</td>\n",
       "      <td>-0.041922</td>\n",
       "      <td>115</td>\n",
       "      <td>0.482227</td>\n",
       "      <td>NaN</td>\n",
       "    </tr>\n",
       "    <tr>\n",
       "      <th>POG014</th>\n",
       "      <td>-0.070985</td>\n",
       "      <td>-0.608966</td>\n",
       "      <td>0.186422</td>\n",
       "      <td>0.890827</td>\n",
       "      <td>-0.382737</td>\n",
       "      <td>2.702711</td>\n",
       "      <td>-0.162236</td>\n",
       "      <td>-0.575873</td>\n",
       "      <td>-0.088944</td>\n",
       "      <td>0.455342</td>\n",
       "      <td>...</td>\n",
       "      <td>-0.052448</td>\n",
       "      <td>-0.213232</td>\n",
       "      <td>-0.558841</td>\n",
       "      <td>-0.113002</td>\n",
       "      <td>1.128562</td>\n",
       "      <td>-0.239435</td>\n",
       "      <td>-0.041922</td>\n",
       "      <td>120</td>\n",
       "      <td>0.527842</td>\n",
       "      <td>NaN</td>\n",
       "    </tr>\n",
       "    <tr>\n",
       "      <th>POG019</th>\n",
       "      <td>-0.071914</td>\n",
       "      <td>0.129993</td>\n",
       "      <td>0.623796</td>\n",
       "      <td>-0.205865</td>\n",
       "      <td>-0.030624</td>\n",
       "      <td>-0.535772</td>\n",
       "      <td>-0.162236</td>\n",
       "      <td>-0.810220</td>\n",
       "      <td>-0.088944</td>\n",
       "      <td>-0.361688</td>\n",
       "      <td>...</td>\n",
       "      <td>-0.052448</td>\n",
       "      <td>1.861007</td>\n",
       "      <td>0.699260</td>\n",
       "      <td>-0.113002</td>\n",
       "      <td>-0.175983</td>\n",
       "      <td>13.193450</td>\n",
       "      <td>-0.041922</td>\n",
       "      <td>52</td>\n",
       "      <td>-0.295229</td>\n",
       "      <td>NaN</td>\n",
       "    </tr>\n",
       "    <tr>\n",
       "      <th>...</th>\n",
       "      <td>...</td>\n",
       "      <td>...</td>\n",
       "      <td>...</td>\n",
       "      <td>...</td>\n",
       "      <td>...</td>\n",
       "      <td>...</td>\n",
       "      <td>...</td>\n",
       "      <td>...</td>\n",
       "      <td>...</td>\n",
       "      <td>...</td>\n",
       "      <td>...</td>\n",
       "      <td>...</td>\n",
       "      <td>...</td>\n",
       "      <td>...</td>\n",
       "      <td>...</td>\n",
       "      <td>...</td>\n",
       "      <td>...</td>\n",
       "      <td>...</td>\n",
       "      <td>...</td>\n",
       "      <td>...</td>\n",
       "      <td>...</td>\n",
       "    </tr>\n",
       "    <tr>\n",
       "      <th>POG835</th>\n",
       "      <td>-0.071914</td>\n",
       "      <td>1.349242</td>\n",
       "      <td>-0.200762</td>\n",
       "      <td>-0.295568</td>\n",
       "      <td>-0.366405</td>\n",
       "      <td>-0.712050</td>\n",
       "      <td>-0.162236</td>\n",
       "      <td>0.647065</td>\n",
       "      <td>-0.088944</td>\n",
       "      <td>-0.211165</td>\n",
       "      <td>...</td>\n",
       "      <td>-0.052448</td>\n",
       "      <td>-0.213232</td>\n",
       "      <td>-0.259293</td>\n",
       "      <td>-0.113002</td>\n",
       "      <td>-0.175983</td>\n",
       "      <td>-0.239435</td>\n",
       "      <td>-0.041922</td>\n",
       "      <td>124</td>\n",
       "      <td>0.563277</td>\n",
       "      <td>True</td>\n",
       "    </tr>\n",
       "    <tr>\n",
       "      <th>POG890</th>\n",
       "      <td>-0.071914</td>\n",
       "      <td>0.341321</td>\n",
       "      <td>-0.136231</td>\n",
       "      <td>-0.324505</td>\n",
       "      <td>1.436916</td>\n",
       "      <td>0.819778</td>\n",
       "      <td>-0.162236</td>\n",
       "      <td>2.535626</td>\n",
       "      <td>-0.088944</td>\n",
       "      <td>-0.294563</td>\n",
       "      <td>...</td>\n",
       "      <td>0.032724</td>\n",
       "      <td>-0.213232</td>\n",
       "      <td>0.040255</td>\n",
       "      <td>-0.113002</td>\n",
       "      <td>-0.175983</td>\n",
       "      <td>-0.239435</td>\n",
       "      <td>-0.041922</td>\n",
       "      <td>112</td>\n",
       "      <td>0.454108</td>\n",
       "      <td>NaN</td>\n",
       "    </tr>\n",
       "    <tr>\n",
       "      <th>POG894</th>\n",
       "      <td>-0.071914</td>\n",
       "      <td>-0.020955</td>\n",
       "      <td>0.344163</td>\n",
       "      <td>-0.211652</td>\n",
       "      <td>3.455924</td>\n",
       "      <td>0.347392</td>\n",
       "      <td>-0.162236</td>\n",
       "      <td>-0.392727</td>\n",
       "      <td>-0.088944</td>\n",
       "      <td>-0.340669</td>\n",
       "      <td>...</td>\n",
       "      <td>-0.019689</td>\n",
       "      <td>-0.213232</td>\n",
       "      <td>-0.558841</td>\n",
       "      <td>-0.113002</td>\n",
       "      <td>-0.175983</td>\n",
       "      <td>0.566538</td>\n",
       "      <td>-0.041922</td>\n",
       "      <td>103</td>\n",
       "      <td>0.366060</td>\n",
       "      <td>True</td>\n",
       "    </tr>\n",
       "    <tr>\n",
       "      <th>POG925</th>\n",
       "      <td>0.899816</td>\n",
       "      <td>0.497758</td>\n",
       "      <td>0.322653</td>\n",
       "      <td>-0.101694</td>\n",
       "      <td>-0.215808</td>\n",
       "      <td>-0.788012</td>\n",
       "      <td>-0.162236</td>\n",
       "      <td>-0.406513</td>\n",
       "      <td>-0.088944</td>\n",
       "      <td>-0.083016</td>\n",
       "      <td>...</td>\n",
       "      <td>-0.052448</td>\n",
       "      <td>-0.213232</td>\n",
       "      <td>-0.558841</td>\n",
       "      <td>-0.113002</td>\n",
       "      <td>-0.175983</td>\n",
       "      <td>-0.239435</td>\n",
       "      <td>-0.041922</td>\n",
       "      <td>102</td>\n",
       "      <td>0.355910</td>\n",
       "      <td>False</td>\n",
       "    </tr>\n",
       "    <tr>\n",
       "      <th>POG936</th>\n",
       "      <td>-0.071914</td>\n",
       "      <td>-0.095056</td>\n",
       "      <td>-0.380014</td>\n",
       "      <td>0.858996</td>\n",
       "      <td>0.279937</td>\n",
       "      <td>0.187726</td>\n",
       "      <td>0.535686</td>\n",
       "      <td>0.060212</td>\n",
       "      <td>-0.088944</td>\n",
       "      <td>-0.229472</td>\n",
       "      <td>...</td>\n",
       "      <td>-0.052448</td>\n",
       "      <td>-0.213232</td>\n",
       "      <td>0.579441</td>\n",
       "      <td>-0.113002</td>\n",
       "      <td>-0.175983</td>\n",
       "      <td>-0.239435</td>\n",
       "      <td>-0.041922</td>\n",
       "      <td>106</td>\n",
       "      <td>0.396055</td>\n",
       "      <td>True</td>\n",
       "    </tr>\n",
       "  </tbody>\n",
       "</table>\n",
       "<p>96 rows × 153 columns</p>\n",
       "</div>"
      ],
      "text/plain": [
       "        ENSG00000013293  ENSG00000015133  ENSG00000073146  ENSG00000102452  \\\n",
       "pog_id                                                                       \n",
       "POG002        -0.071914         0.461393        -0.136231        -0.145099   \n",
       "POG007        -0.071914         0.175278         0.193592        -0.312930   \n",
       "POG010        -0.071914        -0.403128        -0.007170        -0.344760   \n",
       "POG014        -0.070985        -0.608966         0.186422         0.890827   \n",
       "POG019        -0.071914         0.129993         0.623796        -0.205865   \n",
       "...                 ...              ...              ...              ...   \n",
       "POG835        -0.071914         1.349242        -0.200762        -0.295568   \n",
       "POG890        -0.071914         0.341321        -0.136231        -0.324505   \n",
       "POG894        -0.071914        -0.020955         0.344163        -0.211652   \n",
       "POG925         0.899816         0.497758         0.322653        -0.101694   \n",
       "POG936        -0.071914        -0.095056        -0.380014         0.858996   \n",
       "\n",
       "        ENSG00000105176  ENSG00000118363  ENSG00000120563  ENSG00000130348  \\\n",
       "pog_id                                                                       \n",
       "POG002        -0.522286        -1.037833        -0.162236        -1.076076   \n",
       "POG007        -0.577048        -1.456191        -0.162236        -0.447868   \n",
       "POG010        -0.223734         1.597143        -0.162236         0.066120   \n",
       "POG014        -0.382737         2.702711        -0.162236        -0.575873   \n",
       "POG019        -0.030624        -0.535772        -0.162236        -0.810220   \n",
       "...                 ...              ...              ...              ...   \n",
       "POG835        -0.366405        -0.712050        -0.162236         0.647065   \n",
       "POG890         1.436916         0.819778        -0.162236         2.535626   \n",
       "POG894         3.455924         0.347392        -0.162236        -0.392727   \n",
       "POG925        -0.215808        -0.788012        -0.162236        -0.406513   \n",
       "POG936         0.279937         0.187726         0.535686         0.060212   \n",
       "\n",
       "        ENSG00000132446  ENSG00000132744  ...  ENSG00000275489  \\\n",
       "pog_id                                    ...                    \n",
       "POG002        -0.088944        -0.020637  ...        -0.052448   \n",
       "POG007        -0.088944        -0.267441  ...        -0.052448   \n",
       "POG010        -0.088944        -0.258627  ...        -0.052448   \n",
       "POG014        -0.088944         0.455342  ...        -0.052448   \n",
       "POG019        -0.088944        -0.361688  ...        -0.052448   \n",
       "...                 ...              ...  ...              ...   \n",
       "POG835        -0.088944        -0.211165  ...        -0.052448   \n",
       "POG890        -0.088944        -0.294563  ...         0.032724   \n",
       "POG894        -0.088944        -0.340669  ...        -0.019689   \n",
       "POG925        -0.088944        -0.083016  ...        -0.052448   \n",
       "POG936        -0.088944        -0.229472  ...        -0.052448   \n",
       "\n",
       "        ENSG00000275695  ENSG00000277453  ENSG00000277628  ENSG00000279533  \\\n",
       "pog_id                                                                       \n",
       "POG002        -0.213232         1.777633        -0.113002        -0.175983   \n",
       "POG007        -0.213232        -0.558841        -0.113002        -0.175983   \n",
       "POG010        -0.213232         1.238447        -0.113002        -0.175983   \n",
       "POG014        -0.213232        -0.558841        -0.113002         1.128562   \n",
       "POG019         1.861007         0.699260        -0.113002        -0.175983   \n",
       "...                 ...              ...              ...              ...   \n",
       "POG835        -0.213232        -0.259293        -0.113002        -0.175983   \n",
       "POG890        -0.213232         0.040255        -0.113002        -0.175983   \n",
       "POG894        -0.213232        -0.558841        -0.113002        -0.175983   \n",
       "POG925        -0.213232        -0.558841        -0.113002        -0.175983   \n",
       "POG936        -0.213232         0.579441        -0.113002        -0.175983   \n",
       "\n",
       "        ENSG00000279650  ENSG00000283211    y   y_trans  y_pred  \n",
       "pog_id                                                           \n",
       "POG002        -0.239435        -0.041922   57 -0.212033     NaN  \n",
       "POG007        -0.239435        -0.041922   24 -0.933528   False  \n",
       "POG010        -0.239435        -0.041922  115  0.482227     NaN  \n",
       "POG014        -0.239435        -0.041922  120  0.527842     NaN  \n",
       "POG019        13.193450        -0.041922   52 -0.295229     NaN  \n",
       "...                 ...              ...  ...       ...     ...  \n",
       "POG835        -0.239435        -0.041922  124  0.563277    True  \n",
       "POG890        -0.239435        -0.041922  112  0.454108     NaN  \n",
       "POG894         0.566538        -0.041922  103  0.366060    True  \n",
       "POG925        -0.239435        -0.041922  102  0.355910   False  \n",
       "POG936        -0.239435        -0.041922  106  0.396055    True  \n",
       "\n",
       "[96 rows x 153 columns]"
      ]
     },
     "execution_count": 162,
     "metadata": {},
     "output_type": "execute_result"
    }
   ],
   "source": [
    "data"
   ]
  },
  {
   "cell_type": "code",
   "execution_count": 103,
   "metadata": {},
   "outputs": [],
   "source": [
    "X_columns = data.columns.values[pd.Series(data.columns.values).str.contains('ENSG')]"
   ]
  },
  {
   "cell_type": "code",
   "execution_count": 104,
   "metadata": {},
   "outputs": [],
   "source": [
    "X = data.loc[:, X_columns]"
   ]
  },
  {
   "cell_type": "code",
   "execution_count": 105,
   "metadata": {},
   "outputs": [],
   "source": [
    "y = data.loc[:, 'y_trans']\n",
    "y_discrete = y > 0"
   ]
  },
  {
   "cell_type": "code",
   "execution_count": 106,
   "metadata": {},
   "outputs": [
    {
     "data": {
      "text/plain": [
       "5"
      ]
     },
     "execution_count": 106,
     "metadata": {},
     "output_type": "execute_result"
    }
   ],
   "source": [
    "kf = KFold(n_splits=5)\n",
    "kf.get_n_splits(X)"
   ]
  },
  {
   "cell_type": "markdown",
   "metadata": {},
   "source": [
    "## RBF"
   ]
  },
  {
   "cell_type": "code",
   "execution_count": 107,
   "metadata": {},
   "outputs": [],
   "source": [
    "from sklearn.svm import SVC, SVR"
   ]
  },
  {
   "cell_type": "code",
   "execution_count": 108,
   "metadata": {},
   "outputs": [],
   "source": [
    "from scipy.stats import spearmanr"
   ]
  },
  {
   "cell_type": "code",
   "execution_count": 109,
   "metadata": {},
   "outputs": [
    {
     "name": "stdout",
     "output_type": "stream",
     "text": [
      "SVC with linear kernel\n",
      "0.55\n",
      "0.5789473684210527\n",
      "0.6842105263157895\n",
      "0.6842105263157895\n",
      "0.6842105263157895\n"
     ]
    }
   ],
   "source": [
    "print('SVC with linear kernel')\n",
    "for train_index, test_index in kf.split(X):\n",
    "    X_train, X_test = X.iloc[train_index, :], X.iloc[test_index, :]\n",
    "    y_train, y_test = y_discrete[train_index], y_discrete[test_index]\n",
    "    svc_rbf = SVC(C=10, kernel='linear', gamma='auto')\n",
    "    svc_rbf.fit(X_train, y_train)\n",
    "    print(svc_rbf.score(X_test, y_test))"
   ]
  },
  {
   "cell_type": "code",
   "execution_count": 169,
   "metadata": {},
   "outputs": [
    {
     "data": {
      "text/plain": [
       "150"
      ]
     },
     "execution_count": 169,
     "metadata": {},
     "output_type": "execute_result"
    }
   ],
   "source": [
    "len(svc_rbf.coef_[0])"
   ]
  },
  {
   "cell_type": "code",
   "execution_count": null,
   "metadata": {},
   "outputs": [],
   "source": [
    "len()"
   ]
  },
  {
   "cell_type": "code",
   "execution_count": 172,
   "metadata": {},
   "outputs": [],
   "source": [
    "weights = pd.DataFrame(data={'weights': svc_rbf.coef_[0],\n",
    "                   'names': data.columns[:-3]})"
   ]
  },
  {
   "cell_type": "code",
   "execution_count": 176,
   "metadata": {},
   "outputs": [],
   "source": [
    "weights['weights'] = np.abs(weights['weights'])"
   ]
  },
  {
   "cell_type": "code",
   "execution_count": 177,
   "metadata": {},
   "outputs": [
    {
     "data": {
      "text/html": [
       "<div>\n",
       "<style scoped>\n",
       "    .dataframe tbody tr th:only-of-type {\n",
       "        vertical-align: middle;\n",
       "    }\n",
       "\n",
       "    .dataframe tbody tr th {\n",
       "        vertical-align: top;\n",
       "    }\n",
       "\n",
       "    .dataframe thead th {\n",
       "        text-align: right;\n",
       "    }\n",
       "</style>\n",
       "<table border=\"1\" class=\"dataframe\">\n",
       "  <thead>\n",
       "    <tr style=\"text-align: right;\">\n",
       "      <th></th>\n",
       "      <th>weights</th>\n",
       "      <th>names</th>\n",
       "    </tr>\n",
       "  </thead>\n",
       "  <tbody>\n",
       "    <tr>\n",
       "      <th>118</th>\n",
       "      <td>1.240501e-20</td>\n",
       "      <td>ENSG00000258265</td>\n",
       "    </tr>\n",
       "    <tr>\n",
       "      <th>8</th>\n",
       "      <td>1.548437e-20</td>\n",
       "      <td>ENSG00000132446</td>\n",
       "    </tr>\n",
       "    <tr>\n",
       "      <th>66</th>\n",
       "      <td>2.464286e-20</td>\n",
       "      <td>ENSG00000231461</td>\n",
       "    </tr>\n",
       "    <tr>\n",
       "      <th>95</th>\n",
       "      <td>5.049316e-20</td>\n",
       "      <td>ENSG00000249003</td>\n",
       "    </tr>\n",
       "    <tr>\n",
       "      <th>68</th>\n",
       "      <td>6.533378e-20</td>\n",
       "      <td>ENSG00000232105</td>\n",
       "    </tr>\n",
       "    <tr>\n",
       "      <th>...</th>\n",
       "      <td>...</td>\n",
       "      <td>...</td>\n",
       "    </tr>\n",
       "    <tr>\n",
       "      <th>33</th>\n",
       "      <td>1.053354e-01</td>\n",
       "      <td>ENSG00000211640</td>\n",
       "    </tr>\n",
       "    <tr>\n",
       "      <th>110</th>\n",
       "      <td>1.237307e-01</td>\n",
       "      <td>ENSG00000254046</td>\n",
       "    </tr>\n",
       "    <tr>\n",
       "      <th>16</th>\n",
       "      <td>1.353311e-01</td>\n",
       "      <td>ENSG00000171804</td>\n",
       "    </tr>\n",
       "    <tr>\n",
       "      <th>91</th>\n",
       "      <td>1.361842e-01</td>\n",
       "      <td>ENSG00000248268</td>\n",
       "    </tr>\n",
       "    <tr>\n",
       "      <th>64</th>\n",
       "      <td>1.715098e-01</td>\n",
       "      <td>ENSG00000230033</td>\n",
       "    </tr>\n",
       "  </tbody>\n",
       "</table>\n",
       "<p>150 rows × 2 columns</p>\n",
       "</div>"
      ],
      "text/plain": [
       "          weights            names\n",
       "118  1.240501e-20  ENSG00000258265\n",
       "8    1.548437e-20  ENSG00000132446\n",
       "66   2.464286e-20  ENSG00000231461\n",
       "95   5.049316e-20  ENSG00000249003\n",
       "68   6.533378e-20  ENSG00000232105\n",
       "..            ...              ...\n",
       "33   1.053354e-01  ENSG00000211640\n",
       "110  1.237307e-01  ENSG00000254046\n",
       "16   1.353311e-01  ENSG00000171804\n",
       "91   1.361842e-01  ENSG00000248268\n",
       "64   1.715098e-01  ENSG00000230033\n",
       "\n",
       "[150 rows x 2 columns]"
      ]
     },
     "execution_count": 177,
     "metadata": {},
     "output_type": "execute_result"
    }
   ],
   "source": [
    "weights.sort_values('weights')"
   ]
  },
  {
   "cell_type": "code",
   "execution_count": null,
   "metadata": {},
   "outputs": [],
   "source": []
  },
  {
   "cell_type": "code",
   "execution_count": 110,
   "metadata": {},
   "outputs": [
    {
     "name": "stdout",
     "output_type": "stream",
     "text": [
      "SVR with RBF\n",
      "-22.167598469862057\n",
      "-38.703397851997785\n",
      "-3.7812489443957347\n",
      "-17.71115623689262\n",
      "-3.5282937668743406\n"
     ]
    }
   ],
   "source": [
    "print('SVR with RBF')\n",
    "corrs = []\n",
    "for train_index, test_index in kf.split(X):\n",
    "    X_train, X_test = X.iloc[train_index, :], X.iloc[test_index, :]\n",
    "    y_train, y_test = y[train_index], y[test_index]\n",
    "    svr_rbf = SVR(C=10, kernel='linear', gamma='auto')\n",
    "    svr_rbf.fit(X_train, y_train)\n",
    "    y_pred = svr_rbf.predict(X_test)\n",
    "    corrs.append(spearmanr(y_pred, y_test))\n",
    "    print(svr_rbf.score(X_test, y_test))"
   ]
  },
  {
   "cell_type": "code",
   "execution_count": 111,
   "metadata": {},
   "outputs": [
    {
     "data": {
      "text/plain": [
       "[(-0.23091389372741347, 0.327329039351679),\n",
       " (-0.15107610828700638, 0.5369847774685825),\n",
       " (-0.3456140350877193, 0.14724536947686556),\n",
       " (0.10246277944916488, 0.6763817785672033),\n",
       " (0.4263157894736842, 0.06874301722703564)]"
      ]
     },
     "execution_count": 111,
     "metadata": {},
     "output_type": "execute_result"
    }
   ],
   "source": [
    "[(x.correlation, x.pvalue) for x in corrs]"
   ]
  },
  {
   "cell_type": "code",
   "execution_count": 112,
   "metadata": {},
   "outputs": [
    {
     "data": {
      "text/plain": [
       "[SpearmanrResult(correlation=-0.23091389372741347, pvalue=0.327329039351679),\n",
       " SpearmanrResult(correlation=-0.15107610828700638, pvalue=0.5369847774685825),\n",
       " SpearmanrResult(correlation=-0.3456140350877193, pvalue=0.14724536947686556),\n",
       " SpearmanrResult(correlation=0.10246277944916488, pvalue=0.6763817785672033),\n",
       " SpearmanrResult(correlation=0.4263157894736842, pvalue=0.06874301722703564)]"
      ]
     },
     "execution_count": 112,
     "metadata": {},
     "output_type": "execute_result"
    }
   ],
   "source": [
    "corrs"
   ]
  },
  {
   "cell_type": "code",
   "execution_count": 113,
   "metadata": {},
   "outputs": [],
   "source": [
    "X_train, X_test, y_train, y_test = train_test_split(X, y)"
   ]
  },
  {
   "cell_type": "code",
   "execution_count": 114,
   "metadata": {},
   "outputs": [
    {
     "data": {
      "text/plain": [
       "-12.868223472093876"
      ]
     },
     "execution_count": 114,
     "metadata": {},
     "output_type": "execute_result"
    }
   ],
   "source": [
    "svc_rbf = SVR(C=10, kernel='linear', gamma='auto')\n",
    "svc_rbf.fit(X_train, y_train)\n",
    "svc_rbf.score(X_test, y_test)"
   ]
  },
  {
   "cell_type": "code",
   "execution_count": 115,
   "metadata": {},
   "outputs": [
    {
     "data": {
      "text/plain": [
       "GridSearchCV(cv=5, error_score='raise-deprecating',\n",
       "             estimator=SVR(C=10, cache_size=200, coef0=0.0, degree=3,\n",
       "                           epsilon=0.1, gamma='auto', kernel='linear',\n",
       "                           max_iter=-1, shrinking=True, tol=0.001,\n",
       "                           verbose=False),\n",
       "             iid='warn', n_jobs=None,\n",
       "             param_grid={'C': [0.1, 1, 10, 50],\n",
       "                         'gamma': [0.1, 0.01, 0.001, 1, 10]},\n",
       "             pre_dispatch='2*n_jobs', refit=True, return_train_score=False,\n",
       "             scoring=None, verbose=0)"
      ]
     },
     "execution_count": 115,
     "metadata": {},
     "output_type": "execute_result"
    }
   ],
   "source": [
    "params = {\"C\":[0.1, 1, 10, 50], \"gamma\": [0.1, 0.01, 0.001, 1, 10]}\n",
    "grid_search = GridSearchCV(svc_rbf, params,cv=5)\n",
    "grid_search.fit(X_train,y_train)"
   ]
  },
  {
   "cell_type": "code",
   "execution_count": 116,
   "metadata": {},
   "outputs": [
    {
     "data": {
      "text/plain": [
       "-6.080950970394378"
      ]
     },
     "execution_count": 116,
     "metadata": {},
     "output_type": "execute_result"
    }
   ],
   "source": [
    "grid_search.score(X_test, y_test)"
   ]
  },
  {
   "cell_type": "markdown",
   "metadata": {},
   "source": [
    "### PCA/ t-SNE"
   ]
  },
  {
   "cell_type": "code",
   "execution_count": 117,
   "metadata": {},
   "outputs": [],
   "source": [
    "from sklearn.decomposition import PCA\n",
    "from sklearn.manifold import TSNE"
   ]
  },
  {
   "cell_type": "code",
   "execution_count": 118,
   "metadata": {},
   "outputs": [],
   "source": [
    "pca = PCA(n_components=10)"
   ]
  },
  {
   "cell_type": "code",
   "execution_count": 119,
   "metadata": {},
   "outputs": [],
   "source": [
    "pca_expression = pca.fit_transform(X)"
   ]
  },
  {
   "cell_type": "code",
   "execution_count": 120,
   "metadata": {},
   "outputs": [],
   "source": [
    "pca_expression_df = pd.DataFrame(pca_expression, columns=['PC{}'.format(i) for i in range(1, 11)], index=X.index)"
   ]
  },
  {
   "cell_type": "code",
   "execution_count": 121,
   "metadata": {},
   "outputs": [],
   "source": [
    "pca_expression_df['y_trans'] = data['y_trans']\n",
    "pca_expression_df['y'] = data['y']\n",
    "pca_expression_df['discrete'] = [1 if x else 0 for x in y_discrete]"
   ]
  },
  {
   "cell_type": "code",
   "execution_count": 154,
   "metadata": {},
   "outputs": [],
   "source": [
    "tsne = TSNE(n_components=3, perplexity=50)"
   ]
  },
  {
   "cell_type": "code",
   "execution_count": 155,
   "metadata": {},
   "outputs": [],
   "source": [
    "tsne_expression = tsne.fit_transform(pca_expression)"
   ]
  },
  {
   "cell_type": "code",
   "execution_count": 156,
   "metadata": {},
   "outputs": [
    {
     "ename": "ValueError",
     "evalue": "Shape of passed values is (96, 3), indices imply (14, 3)",
     "output_type": "error",
     "traceback": [
      "\u001b[0;31m---------------------------------------------------------------------------\u001b[0m",
      "\u001b[0;31mValueError\u001b[0m                                Traceback (most recent call last)",
      "\u001b[0;32m/projects/eerhan_prj/anaconda/envs/data/lib/python3.7/site-packages/pandas/core/internals/managers.py\u001b[0m in \u001b[0;36mcreate_block_manager_from_blocks\u001b[0;34m(blocks, axes)\u001b[0m\n\u001b[1;32m   1680\u001b[0m \u001b[0;34m\u001b[0m\u001b[0m\n\u001b[0;32m-> 1681\u001b[0;31m         \u001b[0mmgr\u001b[0m \u001b[0;34m=\u001b[0m \u001b[0mBlockManager\u001b[0m\u001b[0;34m(\u001b[0m\u001b[0mblocks\u001b[0m\u001b[0;34m,\u001b[0m \u001b[0maxes\u001b[0m\u001b[0;34m)\u001b[0m\u001b[0;34m\u001b[0m\u001b[0;34m\u001b[0m\u001b[0m\n\u001b[0m\u001b[1;32m   1682\u001b[0m         \u001b[0mmgr\u001b[0m\u001b[0;34m.\u001b[0m\u001b[0m_consolidate_inplace\u001b[0m\u001b[0;34m(\u001b[0m\u001b[0;34m)\u001b[0m\u001b[0;34m\u001b[0m\u001b[0;34m\u001b[0m\u001b[0m\n",
      "\u001b[0;32m/projects/eerhan_prj/anaconda/envs/data/lib/python3.7/site-packages/pandas/core/internals/managers.py\u001b[0m in \u001b[0;36m__init__\u001b[0;34m(self, blocks, axes, do_integrity_check)\u001b[0m\n\u001b[1;32m    142\u001b[0m         \u001b[0;32mif\u001b[0m \u001b[0mdo_integrity_check\u001b[0m\u001b[0;34m:\u001b[0m\u001b[0;34m\u001b[0m\u001b[0;34m\u001b[0m\u001b[0m\n\u001b[0;32m--> 143\u001b[0;31m             \u001b[0mself\u001b[0m\u001b[0;34m.\u001b[0m\u001b[0m_verify_integrity\u001b[0m\u001b[0;34m(\u001b[0m\u001b[0;34m)\u001b[0m\u001b[0;34m\u001b[0m\u001b[0;34m\u001b[0m\u001b[0m\n\u001b[0m\u001b[1;32m    144\u001b[0m \u001b[0;34m\u001b[0m\u001b[0m\n",
      "\u001b[0;32m/projects/eerhan_prj/anaconda/envs/data/lib/python3.7/site-packages/pandas/core/internals/managers.py\u001b[0m in \u001b[0;36m_verify_integrity\u001b[0;34m(self)\u001b[0m\n\u001b[1;32m    344\u001b[0m             \u001b[0;32mif\u001b[0m \u001b[0mblock\u001b[0m\u001b[0;34m.\u001b[0m\u001b[0m_verify_integrity\u001b[0m \u001b[0;32mand\u001b[0m \u001b[0mblock\u001b[0m\u001b[0;34m.\u001b[0m\u001b[0mshape\u001b[0m\u001b[0;34m[\u001b[0m\u001b[0;36m1\u001b[0m\u001b[0;34m:\u001b[0m\u001b[0;34m]\u001b[0m \u001b[0;34m!=\u001b[0m \u001b[0mmgr_shape\u001b[0m\u001b[0;34m[\u001b[0m\u001b[0;36m1\u001b[0m\u001b[0;34m:\u001b[0m\u001b[0;34m]\u001b[0m\u001b[0;34m:\u001b[0m\u001b[0;34m\u001b[0m\u001b[0;34m\u001b[0m\u001b[0m\n\u001b[0;32m--> 345\u001b[0;31m                 \u001b[0mconstruction_error\u001b[0m\u001b[0;34m(\u001b[0m\u001b[0mtot_items\u001b[0m\u001b[0;34m,\u001b[0m \u001b[0mblock\u001b[0m\u001b[0;34m.\u001b[0m\u001b[0mshape\u001b[0m\u001b[0;34m[\u001b[0m\u001b[0;36m1\u001b[0m\u001b[0;34m:\u001b[0m\u001b[0;34m]\u001b[0m\u001b[0;34m,\u001b[0m \u001b[0mself\u001b[0m\u001b[0;34m.\u001b[0m\u001b[0maxes\u001b[0m\u001b[0;34m)\u001b[0m\u001b[0;34m\u001b[0m\u001b[0;34m\u001b[0m\u001b[0m\n\u001b[0m\u001b[1;32m    346\u001b[0m         \u001b[0;32mif\u001b[0m \u001b[0mlen\u001b[0m\u001b[0;34m(\u001b[0m\u001b[0mself\u001b[0m\u001b[0;34m.\u001b[0m\u001b[0mitems\u001b[0m\u001b[0;34m)\u001b[0m \u001b[0;34m!=\u001b[0m \u001b[0mtot_items\u001b[0m\u001b[0;34m:\u001b[0m\u001b[0;34m\u001b[0m\u001b[0;34m\u001b[0m\u001b[0m\n",
      "\u001b[0;32m/projects/eerhan_prj/anaconda/envs/data/lib/python3.7/site-packages/pandas/core/internals/managers.py\u001b[0m in \u001b[0;36mconstruction_error\u001b[0;34m(tot_items, block_shape, axes, e)\u001b[0m\n\u001b[1;32m   1718\u001b[0m     raise ValueError(\n\u001b[0;32m-> 1719\u001b[0;31m         \u001b[0;34m\"Shape of passed values is {0}, indices imply {1}\"\u001b[0m\u001b[0;34m.\u001b[0m\u001b[0mformat\u001b[0m\u001b[0;34m(\u001b[0m\u001b[0mpassed\u001b[0m\u001b[0;34m,\u001b[0m \u001b[0mimplied\u001b[0m\u001b[0;34m)\u001b[0m\u001b[0;34m\u001b[0m\u001b[0;34m\u001b[0m\u001b[0m\n\u001b[0m\u001b[1;32m   1720\u001b[0m     )\n",
      "\u001b[0;31mValueError\u001b[0m: Shape of passed values is (96, 3), indices imply (14, 3)",
      "\nDuring handling of the above exception, another exception occurred:\n",
      "\u001b[0;31mValueError\u001b[0m                                Traceback (most recent call last)",
      "\u001b[0;32m<ipython-input-156-ea12a3c5d87f>\u001b[0m in \u001b[0;36m<module>\u001b[0;34m\u001b[0m\n\u001b[0;32m----> 1\u001b[0;31m \u001b[0mtsne_expression_df\u001b[0m \u001b[0;34m=\u001b[0m \u001b[0mpd\u001b[0m\u001b[0;34m.\u001b[0m\u001b[0mDataFrame\u001b[0m\u001b[0;34m(\u001b[0m\u001b[0mtsne_expression\u001b[0m\u001b[0;34m,\u001b[0m \u001b[0mcolumns\u001b[0m\u001b[0;34m=\u001b[0m\u001b[0;34m[\u001b[0m\u001b[0;34m'tsne{}'\u001b[0m\u001b[0;34m.\u001b[0m\u001b[0mformat\u001b[0m\u001b[0;34m(\u001b[0m\u001b[0mi\u001b[0m\u001b[0;34m)\u001b[0m \u001b[0;32mfor\u001b[0m \u001b[0mi\u001b[0m \u001b[0;32min\u001b[0m \u001b[0mrange\u001b[0m\u001b[0;34m(\u001b[0m\u001b[0;36m1\u001b[0m\u001b[0;34m,\u001b[0m \u001b[0;36m4\u001b[0m\u001b[0;34m)\u001b[0m\u001b[0;34m]\u001b[0m\u001b[0;34m,\u001b[0m \u001b[0mindex\u001b[0m\u001b[0;34m=\u001b[0m\u001b[0mX\u001b[0m\u001b[0;34m.\u001b[0m\u001b[0mindex\u001b[0m\u001b[0;34m)\u001b[0m\u001b[0;34m\u001b[0m\u001b[0;34m\u001b[0m\u001b[0m\n\u001b[0m",
      "\u001b[0;32m/projects/eerhan_prj/anaconda/envs/data/lib/python3.7/site-packages/pandas/core/frame.py\u001b[0m in \u001b[0;36m__init__\u001b[0;34m(self, data, index, columns, dtype, copy)\u001b[0m\n\u001b[1;32m    438\u001b[0m                 \u001b[0mmgr\u001b[0m \u001b[0;34m=\u001b[0m \u001b[0minit_dict\u001b[0m\u001b[0;34m(\u001b[0m\u001b[0;34m{\u001b[0m\u001b[0mdata\u001b[0m\u001b[0;34m.\u001b[0m\u001b[0mname\u001b[0m\u001b[0;34m:\u001b[0m \u001b[0mdata\u001b[0m\u001b[0;34m}\u001b[0m\u001b[0;34m,\u001b[0m \u001b[0mindex\u001b[0m\u001b[0;34m,\u001b[0m \u001b[0mcolumns\u001b[0m\u001b[0;34m,\u001b[0m \u001b[0mdtype\u001b[0m\u001b[0;34m=\u001b[0m\u001b[0mdtype\u001b[0m\u001b[0;34m)\u001b[0m\u001b[0;34m\u001b[0m\u001b[0;34m\u001b[0m\u001b[0m\n\u001b[1;32m    439\u001b[0m             \u001b[0;32melse\u001b[0m\u001b[0;34m:\u001b[0m\u001b[0;34m\u001b[0m\u001b[0;34m\u001b[0m\u001b[0m\n\u001b[0;32m--> 440\u001b[0;31m                 \u001b[0mmgr\u001b[0m \u001b[0;34m=\u001b[0m \u001b[0minit_ndarray\u001b[0m\u001b[0;34m(\u001b[0m\u001b[0mdata\u001b[0m\u001b[0;34m,\u001b[0m \u001b[0mindex\u001b[0m\u001b[0;34m,\u001b[0m \u001b[0mcolumns\u001b[0m\u001b[0;34m,\u001b[0m \u001b[0mdtype\u001b[0m\u001b[0;34m=\u001b[0m\u001b[0mdtype\u001b[0m\u001b[0;34m,\u001b[0m \u001b[0mcopy\u001b[0m\u001b[0;34m=\u001b[0m\u001b[0mcopy\u001b[0m\u001b[0;34m)\u001b[0m\u001b[0;34m\u001b[0m\u001b[0;34m\u001b[0m\u001b[0m\n\u001b[0m\u001b[1;32m    441\u001b[0m \u001b[0;34m\u001b[0m\u001b[0m\n\u001b[1;32m    442\u001b[0m         \u001b[0;31m# For data is list-like, or Iterable (will consume into list)\u001b[0m\u001b[0;34m\u001b[0m\u001b[0;34m\u001b[0m\u001b[0;34m\u001b[0m\u001b[0m\n",
      "\u001b[0;32m/projects/eerhan_prj/anaconda/envs/data/lib/python3.7/site-packages/pandas/core/internals/construction.py\u001b[0m in \u001b[0;36minit_ndarray\u001b[0;34m(values, index, columns, dtype, copy)\u001b[0m\n\u001b[1;32m    211\u001b[0m         \u001b[0mblock_values\u001b[0m \u001b[0;34m=\u001b[0m \u001b[0;34m[\u001b[0m\u001b[0mvalues\u001b[0m\u001b[0;34m]\u001b[0m\u001b[0;34m\u001b[0m\u001b[0;34m\u001b[0m\u001b[0m\n\u001b[1;32m    212\u001b[0m \u001b[0;34m\u001b[0m\u001b[0m\n\u001b[0;32m--> 213\u001b[0;31m     \u001b[0;32mreturn\u001b[0m \u001b[0mcreate_block_manager_from_blocks\u001b[0m\u001b[0;34m(\u001b[0m\u001b[0mblock_values\u001b[0m\u001b[0;34m,\u001b[0m \u001b[0;34m[\u001b[0m\u001b[0mcolumns\u001b[0m\u001b[0;34m,\u001b[0m \u001b[0mindex\u001b[0m\u001b[0;34m]\u001b[0m\u001b[0;34m)\u001b[0m\u001b[0;34m\u001b[0m\u001b[0;34m\u001b[0m\u001b[0m\n\u001b[0m\u001b[1;32m    214\u001b[0m \u001b[0;34m\u001b[0m\u001b[0m\n\u001b[1;32m    215\u001b[0m \u001b[0;34m\u001b[0m\u001b[0m\n",
      "\u001b[0;32m/projects/eerhan_prj/anaconda/envs/data/lib/python3.7/site-packages/pandas/core/internals/managers.py\u001b[0m in \u001b[0;36mcreate_block_manager_from_blocks\u001b[0;34m(blocks, axes)\u001b[0m\n\u001b[1;32m   1686\u001b[0m         \u001b[0mblocks\u001b[0m \u001b[0;34m=\u001b[0m \u001b[0;34m[\u001b[0m\u001b[0mgetattr\u001b[0m\u001b[0;34m(\u001b[0m\u001b[0mb\u001b[0m\u001b[0;34m,\u001b[0m \u001b[0;34m\"values\"\u001b[0m\u001b[0;34m,\u001b[0m \u001b[0mb\u001b[0m\u001b[0;34m)\u001b[0m \u001b[0;32mfor\u001b[0m \u001b[0mb\u001b[0m \u001b[0;32min\u001b[0m \u001b[0mblocks\u001b[0m\u001b[0;34m]\u001b[0m\u001b[0;34m\u001b[0m\u001b[0;34m\u001b[0m\u001b[0m\n\u001b[1;32m   1687\u001b[0m         \u001b[0mtot_items\u001b[0m \u001b[0;34m=\u001b[0m \u001b[0msum\u001b[0m\u001b[0;34m(\u001b[0m\u001b[0mb\u001b[0m\u001b[0;34m.\u001b[0m\u001b[0mshape\u001b[0m\u001b[0;34m[\u001b[0m\u001b[0;36m0\u001b[0m\u001b[0;34m]\u001b[0m \u001b[0;32mfor\u001b[0m \u001b[0mb\u001b[0m \u001b[0;32min\u001b[0m \u001b[0mblocks\u001b[0m\u001b[0;34m)\u001b[0m\u001b[0;34m\u001b[0m\u001b[0;34m\u001b[0m\u001b[0m\n\u001b[0;32m-> 1688\u001b[0;31m         \u001b[0mconstruction_error\u001b[0m\u001b[0;34m(\u001b[0m\u001b[0mtot_items\u001b[0m\u001b[0;34m,\u001b[0m \u001b[0mblocks\u001b[0m\u001b[0;34m[\u001b[0m\u001b[0;36m0\u001b[0m\u001b[0;34m]\u001b[0m\u001b[0;34m.\u001b[0m\u001b[0mshape\u001b[0m\u001b[0;34m[\u001b[0m\u001b[0;36m1\u001b[0m\u001b[0;34m:\u001b[0m\u001b[0;34m]\u001b[0m\u001b[0;34m,\u001b[0m \u001b[0maxes\u001b[0m\u001b[0;34m,\u001b[0m \u001b[0me\u001b[0m\u001b[0;34m)\u001b[0m\u001b[0;34m\u001b[0m\u001b[0;34m\u001b[0m\u001b[0m\n\u001b[0m\u001b[1;32m   1689\u001b[0m \u001b[0;34m\u001b[0m\u001b[0m\n\u001b[1;32m   1690\u001b[0m \u001b[0;34m\u001b[0m\u001b[0m\n",
      "\u001b[0;32m/projects/eerhan_prj/anaconda/envs/data/lib/python3.7/site-packages/pandas/core/internals/managers.py\u001b[0m in \u001b[0;36mconstruction_error\u001b[0;34m(tot_items, block_shape, axes, e)\u001b[0m\n\u001b[1;32m   1717\u001b[0m         \u001b[0;32mraise\u001b[0m \u001b[0mValueError\u001b[0m\u001b[0;34m(\u001b[0m\u001b[0;34m\"Empty data passed with indices specified.\"\u001b[0m\u001b[0;34m)\u001b[0m\u001b[0;34m\u001b[0m\u001b[0;34m\u001b[0m\u001b[0m\n\u001b[1;32m   1718\u001b[0m     raise ValueError(\n\u001b[0;32m-> 1719\u001b[0;31m         \u001b[0;34m\"Shape of passed values is {0}, indices imply {1}\"\u001b[0m\u001b[0;34m.\u001b[0m\u001b[0mformat\u001b[0m\u001b[0;34m(\u001b[0m\u001b[0mpassed\u001b[0m\u001b[0;34m,\u001b[0m \u001b[0mimplied\u001b[0m\u001b[0;34m)\u001b[0m\u001b[0;34m\u001b[0m\u001b[0;34m\u001b[0m\u001b[0m\n\u001b[0m\u001b[1;32m   1720\u001b[0m     )\n\u001b[1;32m   1721\u001b[0m \u001b[0;34m\u001b[0m\u001b[0m\n",
      "\u001b[0;31mValueError\u001b[0m: Shape of passed values is (96, 3), indices imply (14, 3)"
     ]
    }
   ],
   "source": [
    "tsne_expression_df = pd.DataFrame(tsne_expression, columns=['tsne{}'.format(i) for i in range(1, 4)], index=X.index)"
   ]
  },
  {
   "cell_type": "code",
   "execution_count": null,
   "metadata": {},
   "outputs": [],
   "source": [
    "tsne_expression_df['y_trans'] = data['y_trans']\n",
    "tsne_expression_df['y'] = data['y']\n",
    "tsne_expression_df['discrete'] = [1 if x else 0 for x in y_discrete]"
   ]
  },
  {
   "cell_type": "markdown",
   "metadata": {},
   "source": [
    "## Try to explain with cancer type"
   ]
  },
  {
   "cell_type": "code",
   "execution_count": 126,
   "metadata": {},
   "outputs": [],
   "source": [
    "from matplotlib import pyplot as plt\n",
    "import seaborn as sns"
   ]
  },
  {
   "cell_type": "code",
   "execution_count": 127,
   "metadata": {},
   "outputs": [],
   "source": [
    "drugs_df = pd.read_csv('../data/processed/drugs_filtered.tsv', sep='\\t', index_col=0)"
   ]
  },
  {
   "cell_type": "code",
   "execution_count": 128,
   "metadata": {},
   "outputs": [],
   "source": [
    "cancer_map = drugs_df[['pog_id', 'cancer_cohort']]"
   ]
  },
  {
   "cell_type": "code",
   "execution_count": 129,
   "metadata": {},
   "outputs": [],
   "source": [
    "data = cancer_map.join(data, on='pog_id', how='right').drop_duplicates().sort_values('pog_id')"
   ]
  },
  {
   "cell_type": "code",
   "execution_count": 130,
   "metadata": {},
   "outputs": [],
   "source": [
    "data = data.set_index('pog_id')"
   ]
  },
  {
   "cell_type": "code",
   "execution_count": 131,
   "metadata": {},
   "outputs": [
    {
     "data": {
      "text/html": [
       "<div>\n",
       "<style scoped>\n",
       "    .dataframe tbody tr th:only-of-type {\n",
       "        vertical-align: middle;\n",
       "    }\n",
       "\n",
       "    .dataframe tbody tr th {\n",
       "        vertical-align: top;\n",
       "    }\n",
       "\n",
       "    .dataframe thead th {\n",
       "        text-align: right;\n",
       "    }\n",
       "</style>\n",
       "<table border=\"1\" class=\"dataframe\">\n",
       "  <thead>\n",
       "    <tr style=\"text-align: right;\">\n",
       "      <th></th>\n",
       "      <th>cancer_cohort</th>\n",
       "      <th>ENSG00000013293</th>\n",
       "      <th>ENSG00000015133</th>\n",
       "      <th>ENSG00000073146</th>\n",
       "      <th>ENSG00000102452</th>\n",
       "      <th>ENSG00000105176</th>\n",
       "      <th>ENSG00000118363</th>\n",
       "      <th>ENSG00000120563</th>\n",
       "      <th>ENSG00000130348</th>\n",
       "      <th>ENSG00000132446</th>\n",
       "      <th>...</th>\n",
       "      <th>ENSG00000275489</th>\n",
       "      <th>ENSG00000275695</th>\n",
       "      <th>ENSG00000277453</th>\n",
       "      <th>ENSG00000277628</th>\n",
       "      <th>ENSG00000279533</th>\n",
       "      <th>ENSG00000279650</th>\n",
       "      <th>ENSG00000283211</th>\n",
       "      <th>y</th>\n",
       "      <th>y_trans</th>\n",
       "      <th>y_pred</th>\n",
       "    </tr>\n",
       "    <tr>\n",
       "      <th>pog_id</th>\n",
       "      <th></th>\n",
       "      <th></th>\n",
       "      <th></th>\n",
       "      <th></th>\n",
       "      <th></th>\n",
       "      <th></th>\n",
       "      <th></th>\n",
       "      <th></th>\n",
       "      <th></th>\n",
       "      <th></th>\n",
       "      <th></th>\n",
       "      <th></th>\n",
       "      <th></th>\n",
       "      <th></th>\n",
       "      <th></th>\n",
       "      <th></th>\n",
       "      <th></th>\n",
       "      <th></th>\n",
       "      <th></th>\n",
       "      <th></th>\n",
       "      <th></th>\n",
       "    </tr>\n",
       "  </thead>\n",
       "  <tbody>\n",
       "    <tr>\n",
       "      <th>POG002</th>\n",
       "      <td>BRCA</td>\n",
       "      <td>-0.071914</td>\n",
       "      <td>0.461393</td>\n",
       "      <td>-0.136231</td>\n",
       "      <td>-0.145099</td>\n",
       "      <td>-0.522286</td>\n",
       "      <td>-1.037833</td>\n",
       "      <td>-0.162236</td>\n",
       "      <td>-1.076076</td>\n",
       "      <td>-0.088944</td>\n",
       "      <td>...</td>\n",
       "      <td>-0.052448</td>\n",
       "      <td>-0.213232</td>\n",
       "      <td>1.777633</td>\n",
       "      <td>-0.113002</td>\n",
       "      <td>-0.175983</td>\n",
       "      <td>-0.239435</td>\n",
       "      <td>-0.041922</td>\n",
       "      <td>57</td>\n",
       "      <td>-0.212033</td>\n",
       "      <td>NaN</td>\n",
       "    </tr>\n",
       "    <tr>\n",
       "      <th>POG007</th>\n",
       "      <td>HNSC</td>\n",
       "      <td>-0.071914</td>\n",
       "      <td>0.175278</td>\n",
       "      <td>0.193592</td>\n",
       "      <td>-0.312930</td>\n",
       "      <td>-0.577048</td>\n",
       "      <td>-1.456191</td>\n",
       "      <td>-0.162236</td>\n",
       "      <td>-0.447868</td>\n",
       "      <td>-0.088944</td>\n",
       "      <td>...</td>\n",
       "      <td>-0.052448</td>\n",
       "      <td>-0.213232</td>\n",
       "      <td>-0.558841</td>\n",
       "      <td>-0.113002</td>\n",
       "      <td>-0.175983</td>\n",
       "      <td>-0.239435</td>\n",
       "      <td>-0.041922</td>\n",
       "      <td>24</td>\n",
       "      <td>-0.933528</td>\n",
       "      <td>False</td>\n",
       "    </tr>\n",
       "    <tr>\n",
       "      <th>POG010</th>\n",
       "      <td>BRCA</td>\n",
       "      <td>-0.071914</td>\n",
       "      <td>-0.403128</td>\n",
       "      <td>-0.007170</td>\n",
       "      <td>-0.344760</td>\n",
       "      <td>-0.223734</td>\n",
       "      <td>1.597143</td>\n",
       "      <td>-0.162236</td>\n",
       "      <td>0.066120</td>\n",
       "      <td>-0.088944</td>\n",
       "      <td>...</td>\n",
       "      <td>-0.052448</td>\n",
       "      <td>-0.213232</td>\n",
       "      <td>1.238447</td>\n",
       "      <td>-0.113002</td>\n",
       "      <td>-0.175983</td>\n",
       "      <td>-0.239435</td>\n",
       "      <td>-0.041922</td>\n",
       "      <td>115</td>\n",
       "      <td>0.482227</td>\n",
       "      <td>NaN</td>\n",
       "    </tr>\n",
       "    <tr>\n",
       "      <th>POG014</th>\n",
       "      <td>CHOL</td>\n",
       "      <td>-0.070985</td>\n",
       "      <td>-0.608966</td>\n",
       "      <td>0.186422</td>\n",
       "      <td>0.890827</td>\n",
       "      <td>-0.382737</td>\n",
       "      <td>2.702711</td>\n",
       "      <td>-0.162236</td>\n",
       "      <td>-0.575873</td>\n",
       "      <td>-0.088944</td>\n",
       "      <td>...</td>\n",
       "      <td>-0.052448</td>\n",
       "      <td>-0.213232</td>\n",
       "      <td>-0.558841</td>\n",
       "      <td>-0.113002</td>\n",
       "      <td>1.128562</td>\n",
       "      <td>-0.239435</td>\n",
       "      <td>-0.041922</td>\n",
       "      <td>120</td>\n",
       "      <td>0.527842</td>\n",
       "      <td>NaN</td>\n",
       "    </tr>\n",
       "    <tr>\n",
       "      <th>POG019</th>\n",
       "      <td>SECR</td>\n",
       "      <td>-0.071914</td>\n",
       "      <td>0.129993</td>\n",
       "      <td>0.623796</td>\n",
       "      <td>-0.205865</td>\n",
       "      <td>-0.030624</td>\n",
       "      <td>-0.535772</td>\n",
       "      <td>-0.162236</td>\n",
       "      <td>-0.810220</td>\n",
       "      <td>-0.088944</td>\n",
       "      <td>...</td>\n",
       "      <td>-0.052448</td>\n",
       "      <td>1.861007</td>\n",
       "      <td>0.699260</td>\n",
       "      <td>-0.113002</td>\n",
       "      <td>-0.175983</td>\n",
       "      <td>13.193450</td>\n",
       "      <td>-0.041922</td>\n",
       "      <td>52</td>\n",
       "      <td>-0.295229</td>\n",
       "      <td>NaN</td>\n",
       "    </tr>\n",
       "    <tr>\n",
       "      <th>...</th>\n",
       "      <td>...</td>\n",
       "      <td>...</td>\n",
       "      <td>...</td>\n",
       "      <td>...</td>\n",
       "      <td>...</td>\n",
       "      <td>...</td>\n",
       "      <td>...</td>\n",
       "      <td>...</td>\n",
       "      <td>...</td>\n",
       "      <td>...</td>\n",
       "      <td>...</td>\n",
       "      <td>...</td>\n",
       "      <td>...</td>\n",
       "      <td>...</td>\n",
       "      <td>...</td>\n",
       "      <td>...</td>\n",
       "      <td>...</td>\n",
       "      <td>...</td>\n",
       "      <td>...</td>\n",
       "      <td>...</td>\n",
       "      <td>...</td>\n",
       "    </tr>\n",
       "    <tr>\n",
       "      <th>POG835</th>\n",
       "      <td>ESCA</td>\n",
       "      <td>-0.071914</td>\n",
       "      <td>1.349242</td>\n",
       "      <td>-0.200762</td>\n",
       "      <td>-0.295568</td>\n",
       "      <td>-0.366405</td>\n",
       "      <td>-0.712050</td>\n",
       "      <td>-0.162236</td>\n",
       "      <td>0.647065</td>\n",
       "      <td>-0.088944</td>\n",
       "      <td>...</td>\n",
       "      <td>-0.052448</td>\n",
       "      <td>-0.213232</td>\n",
       "      <td>-0.259293</td>\n",
       "      <td>-0.113002</td>\n",
       "      <td>-0.175983</td>\n",
       "      <td>-0.239435</td>\n",
       "      <td>-0.041922</td>\n",
       "      <td>124</td>\n",
       "      <td>0.563277</td>\n",
       "      <td>True</td>\n",
       "    </tr>\n",
       "    <tr>\n",
       "      <th>POG890</th>\n",
       "      <td>BRCA</td>\n",
       "      <td>-0.071914</td>\n",
       "      <td>0.341321</td>\n",
       "      <td>-0.136231</td>\n",
       "      <td>-0.324505</td>\n",
       "      <td>1.436916</td>\n",
       "      <td>0.819778</td>\n",
       "      <td>-0.162236</td>\n",
       "      <td>2.535626</td>\n",
       "      <td>-0.088944</td>\n",
       "      <td>...</td>\n",
       "      <td>0.032724</td>\n",
       "      <td>-0.213232</td>\n",
       "      <td>0.040255</td>\n",
       "      <td>-0.113002</td>\n",
       "      <td>-0.175983</td>\n",
       "      <td>-0.239435</td>\n",
       "      <td>-0.041922</td>\n",
       "      <td>112</td>\n",
       "      <td>0.454108</td>\n",
       "      <td>NaN</td>\n",
       "    </tr>\n",
       "    <tr>\n",
       "      <th>POG894</th>\n",
       "      <td>OV</td>\n",
       "      <td>-0.071914</td>\n",
       "      <td>-0.020955</td>\n",
       "      <td>0.344163</td>\n",
       "      <td>-0.211652</td>\n",
       "      <td>3.455924</td>\n",
       "      <td>0.347392</td>\n",
       "      <td>-0.162236</td>\n",
       "      <td>-0.392727</td>\n",
       "      <td>-0.088944</td>\n",
       "      <td>...</td>\n",
       "      <td>-0.019689</td>\n",
       "      <td>-0.213232</td>\n",
       "      <td>-0.558841</td>\n",
       "      <td>-0.113002</td>\n",
       "      <td>-0.175983</td>\n",
       "      <td>0.566538</td>\n",
       "      <td>-0.041922</td>\n",
       "      <td>103</td>\n",
       "      <td>0.366060</td>\n",
       "      <td>True</td>\n",
       "    </tr>\n",
       "    <tr>\n",
       "      <th>POG925</th>\n",
       "      <td>OV</td>\n",
       "      <td>0.899816</td>\n",
       "      <td>0.497758</td>\n",
       "      <td>0.322653</td>\n",
       "      <td>-0.101694</td>\n",
       "      <td>-0.215808</td>\n",
       "      <td>-0.788012</td>\n",
       "      <td>-0.162236</td>\n",
       "      <td>-0.406513</td>\n",
       "      <td>-0.088944</td>\n",
       "      <td>...</td>\n",
       "      <td>-0.052448</td>\n",
       "      <td>-0.213232</td>\n",
       "      <td>-0.558841</td>\n",
       "      <td>-0.113002</td>\n",
       "      <td>-0.175983</td>\n",
       "      <td>-0.239435</td>\n",
       "      <td>-0.041922</td>\n",
       "      <td>102</td>\n",
       "      <td>0.355910</td>\n",
       "      <td>False</td>\n",
       "    </tr>\n",
       "    <tr>\n",
       "      <th>POG936</th>\n",
       "      <td>BRCA</td>\n",
       "      <td>-0.071914</td>\n",
       "      <td>-0.095056</td>\n",
       "      <td>-0.380014</td>\n",
       "      <td>0.858996</td>\n",
       "      <td>0.279937</td>\n",
       "      <td>0.187726</td>\n",
       "      <td>0.535686</td>\n",
       "      <td>0.060212</td>\n",
       "      <td>-0.088944</td>\n",
       "      <td>...</td>\n",
       "      <td>-0.052448</td>\n",
       "      <td>-0.213232</td>\n",
       "      <td>0.579441</td>\n",
       "      <td>-0.113002</td>\n",
       "      <td>-0.175983</td>\n",
       "      <td>-0.239435</td>\n",
       "      <td>-0.041922</td>\n",
       "      <td>106</td>\n",
       "      <td>0.396055</td>\n",
       "      <td>True</td>\n",
       "    </tr>\n",
       "  </tbody>\n",
       "</table>\n",
       "<p>96 rows × 154 columns</p>\n",
       "</div>"
      ],
      "text/plain": [
       "       cancer_cohort  ENSG00000013293  ENSG00000015133  ENSG00000073146  \\\n",
       "pog_id                                                                    \n",
       "POG002          BRCA        -0.071914         0.461393        -0.136231   \n",
       "POG007          HNSC        -0.071914         0.175278         0.193592   \n",
       "POG010          BRCA        -0.071914        -0.403128        -0.007170   \n",
       "POG014          CHOL        -0.070985        -0.608966         0.186422   \n",
       "POG019          SECR        -0.071914         0.129993         0.623796   \n",
       "...              ...              ...              ...              ...   \n",
       "POG835          ESCA        -0.071914         1.349242        -0.200762   \n",
       "POG890          BRCA        -0.071914         0.341321        -0.136231   \n",
       "POG894            OV        -0.071914        -0.020955         0.344163   \n",
       "POG925            OV         0.899816         0.497758         0.322653   \n",
       "POG936          BRCA        -0.071914        -0.095056        -0.380014   \n",
       "\n",
       "        ENSG00000102452  ENSG00000105176  ENSG00000118363  ENSG00000120563  \\\n",
       "pog_id                                                                       \n",
       "POG002        -0.145099        -0.522286        -1.037833        -0.162236   \n",
       "POG007        -0.312930        -0.577048        -1.456191        -0.162236   \n",
       "POG010        -0.344760        -0.223734         1.597143        -0.162236   \n",
       "POG014         0.890827        -0.382737         2.702711        -0.162236   \n",
       "POG019        -0.205865        -0.030624        -0.535772        -0.162236   \n",
       "...                 ...              ...              ...              ...   \n",
       "POG835        -0.295568        -0.366405        -0.712050        -0.162236   \n",
       "POG890        -0.324505         1.436916         0.819778        -0.162236   \n",
       "POG894        -0.211652         3.455924         0.347392        -0.162236   \n",
       "POG925        -0.101694        -0.215808        -0.788012        -0.162236   \n",
       "POG936         0.858996         0.279937         0.187726         0.535686   \n",
       "\n",
       "        ENSG00000130348  ENSG00000132446  ...  ENSG00000275489  \\\n",
       "pog_id                                    ...                    \n",
       "POG002        -1.076076        -0.088944  ...        -0.052448   \n",
       "POG007        -0.447868        -0.088944  ...        -0.052448   \n",
       "POG010         0.066120        -0.088944  ...        -0.052448   \n",
       "POG014        -0.575873        -0.088944  ...        -0.052448   \n",
       "POG019        -0.810220        -0.088944  ...        -0.052448   \n",
       "...                 ...              ...  ...              ...   \n",
       "POG835         0.647065        -0.088944  ...        -0.052448   \n",
       "POG890         2.535626        -0.088944  ...         0.032724   \n",
       "POG894        -0.392727        -0.088944  ...        -0.019689   \n",
       "POG925        -0.406513        -0.088944  ...        -0.052448   \n",
       "POG936         0.060212        -0.088944  ...        -0.052448   \n",
       "\n",
       "        ENSG00000275695  ENSG00000277453  ENSG00000277628  ENSG00000279533  \\\n",
       "pog_id                                                                       \n",
       "POG002        -0.213232         1.777633        -0.113002        -0.175983   \n",
       "POG007        -0.213232        -0.558841        -0.113002        -0.175983   \n",
       "POG010        -0.213232         1.238447        -0.113002        -0.175983   \n",
       "POG014        -0.213232        -0.558841        -0.113002         1.128562   \n",
       "POG019         1.861007         0.699260        -0.113002        -0.175983   \n",
       "...                 ...              ...              ...              ...   \n",
       "POG835        -0.213232        -0.259293        -0.113002        -0.175983   \n",
       "POG890        -0.213232         0.040255        -0.113002        -0.175983   \n",
       "POG894        -0.213232        -0.558841        -0.113002        -0.175983   \n",
       "POG925        -0.213232        -0.558841        -0.113002        -0.175983   \n",
       "POG936        -0.213232         0.579441        -0.113002        -0.175983   \n",
       "\n",
       "        ENSG00000279650  ENSG00000283211    y   y_trans  y_pred  \n",
       "pog_id                                                           \n",
       "POG002        -0.239435        -0.041922   57 -0.212033     NaN  \n",
       "POG007        -0.239435        -0.041922   24 -0.933528   False  \n",
       "POG010        -0.239435        -0.041922  115  0.482227     NaN  \n",
       "POG014        -0.239435        -0.041922  120  0.527842     NaN  \n",
       "POG019        13.193450        -0.041922   52 -0.295229     NaN  \n",
       "...                 ...              ...  ...       ...     ...  \n",
       "POG835        -0.239435        -0.041922  124  0.563277    True  \n",
       "POG890        -0.239435        -0.041922  112  0.454108     NaN  \n",
       "POG894         0.566538        -0.041922  103  0.366060    True  \n",
       "POG925        -0.239435        -0.041922  102  0.355910   False  \n",
       "POG936        -0.239435        -0.041922  106  0.396055    True  \n",
       "\n",
       "[96 rows x 154 columns]"
      ]
     },
     "execution_count": 131,
     "metadata": {},
     "output_type": "execute_result"
    }
   ],
   "source": [
    "data"
   ]
  },
  {
   "cell_type": "code",
   "execution_count": 132,
   "metadata": {},
   "outputs": [],
   "source": [
    "data['y_true'] = data['y_trans'] > 0"
   ]
  },
  {
   "cell_type": "code",
   "execution_count": null,
   "metadata": {},
   "outputs": [],
   "source": []
  },
  {
   "cell_type": "code",
   "execution_count": 133,
   "metadata": {},
   "outputs": [],
   "source": [
    "# data.to_csv('../ismb_poster/gemcitabine.tsv', sep='\\t')"
   ]
  },
  {
   "cell_type": "code",
   "execution_count": 134,
   "metadata": {},
   "outputs": [
    {
     "data": {
      "text/plain": [
       "<seaborn.axisgrid.FacetGrid at 0x7fa234375350>"
      ]
     },
     "execution_count": 134,
     "metadata": {},
     "output_type": "execute_result"
    },
    {
     "data": {
      "image/png": "[encoded data removed]",
      "text/plain": [
       "<Figure size 1440x720 with 1 Axes>"
      ]
     },
     "metadata": {
      "needs_background": "light"
     },
     "output_type": "display_data"
    },
    {
     "data": {
      "image/png": "[encoded data removed]",
      "text/plain": [
       "<Figure size 422.125x360 with 1 Axes>"
      ]
     },
     "metadata": {
      "needs_background": "light"
     },
     "output_type": "display_data"
    }
   ],
   "source": [
    "fig, ax = plt.subplots(figsize=(20,10))\n",
    "sns.catplot(data=data, ax=ax, x='cancer_cohort', y='y_trans', hue='y_pred')"
   ]
  },
  {
   "cell_type": "markdown",
   "metadata": {},
   "source": [
    "## Try LUNG CISPLATIN\n"
   ]
  },
  {
   "cell_type": "code",
   "execution_count": 135,
   "metadata": {},
   "outputs": [],
   "source": [
    "brca_data = data[data['cancer_cohort'] == 'LUNG']"
   ]
  },
  {
   "cell_type": "code",
   "execution_count": 136,
   "metadata": {},
   "outputs": [],
   "source": [
    "data = brca_data"
   ]
  },
  {
   "cell_type": "code",
   "execution_count": 137,
   "metadata": {},
   "outputs": [],
   "source": [
    "X_columns = data.columns.values[pd.Series(data.columns.values).str.contains('ENSG')]"
   ]
  },
  {
   "cell_type": "code",
   "execution_count": 138,
   "metadata": {},
   "outputs": [],
   "source": [
    "X = data.loc[:, X_columns]"
   ]
  },
  {
   "cell_type": "code",
   "execution_count": 139,
   "metadata": {},
   "outputs": [],
   "source": [
    "y = data.loc[:, 'y_trans']\n",
    "y_discrete = y > 0"
   ]
  },
  {
   "cell_type": "code",
   "execution_count": 140,
   "metadata": {},
   "outputs": [
    {
     "data": {
      "text/plain": [
       "5"
      ]
     },
     "execution_count": 140,
     "metadata": {},
     "output_type": "execute_result"
    }
   ],
   "source": [
    "kf = KFold(n_splits=5)\n",
    "kf.get_n_splits(X)"
   ]
  },
  {
   "cell_type": "markdown",
   "metadata": {},
   "source": [
    "## RBF"
   ]
  },
  {
   "cell_type": "code",
   "execution_count": 141,
   "metadata": {},
   "outputs": [],
   "source": [
    "from sklearn.svm import SVC, SVR"
   ]
  },
  {
   "cell_type": "code",
   "execution_count": 142,
   "metadata": {},
   "outputs": [],
   "source": [
    "from scipy.stats import spearmanr"
   ]
  },
  {
   "cell_type": "code",
   "execution_count": 143,
   "metadata": {},
   "outputs": [
    {
     "name": "stdout",
     "output_type": "stream",
     "text": [
      "SVC with linear kernel\n",
      "0.0\n",
      "0.6666666666666666\n",
      "0.3333333333333333\n",
      "0.6666666666666666\n",
      "0.0\n"
     ]
    }
   ],
   "source": [
    "print('SVC with linear kernel')\n",
    "for train_index, test_index in kf.split(X):\n",
    "    X_train, X_test = X.iloc[train_index, :], X.iloc[test_index, :]\n",
    "    y_train, y_test = y_discrete[train_index], y_discrete[test_index]\n",
    "    svc_rbf = SVC(C=1, kernel='linear', gamma='auto')\n",
    "    svc_rbf.fit(X_train, y_train)\n",
    "    print(svc_rbf.score(X_test, y_test))"
   ]
  },
  {
   "cell_type": "code",
   "execution_count": 144,
   "metadata": {},
   "outputs": [
    {
     "name": "stdout",
     "output_type": "stream",
     "text": [
      "SVR with linear kernel\n",
      "-0.7996759128320361\n",
      "-0.25381218792852644\n",
      "-34.63971771200522\n",
      "-0.16941565169454753\n",
      "-2.5675592010444652\n"
     ]
    }
   ],
   "source": [
    "print('SVR with linear kernel')\n",
    "corrs = []\n",
    "for train_index, test_index in kf.split(X):\n",
    "    X_train, X_test = X.iloc[train_index, :], X.iloc[test_index, :]\n",
    "    y_train, y_test = y[train_index], y[test_index]\n",
    "    svr_rbf = SVR(C=10, kernel='linear', gamma='auto')\n",
    "    svr_rbf.fit(X_train, y_train)\n",
    "    y_pred = svr_rbf.predict(X_test)\n",
    "    corrs.append(spearmanr(y_pred, y_test))\n",
    "    print(svr_rbf.score(X_test, y_test))"
   ]
  },
  {
   "cell_type": "code",
   "execution_count": 145,
   "metadata": {},
   "outputs": [
    {
     "data": {
      "text/plain": [
       "[(-0.5, 0.6666666666666667),\n",
       " (0.5, 0.6666666666666667),\n",
       " (1.0, 0.0),\n",
       " (-1.0, 0.0),\n",
       " (-0.9999999999999999, nan)]"
      ]
     },
     "execution_count": 145,
     "metadata": {},
     "output_type": "execute_result"
    }
   ],
   "source": [
    "[(x.correlation, x.pvalue) for x in corrs]"
   ]
  },
  {
   "cell_type": "code",
   "execution_count": 146,
   "metadata": {},
   "outputs": [
    {
     "data": {
      "text/plain": [
       "[SpearmanrResult(correlation=-0.5, pvalue=0.6666666666666667),\n",
       " SpearmanrResult(correlation=0.5, pvalue=0.6666666666666667),\n",
       " SpearmanrResult(correlation=1.0, pvalue=0.0),\n",
       " SpearmanrResult(correlation=-1.0, pvalue=0.0),\n",
       " SpearmanrResult(correlation=-0.9999999999999999, pvalue=nan)]"
      ]
     },
     "execution_count": 146,
     "metadata": {},
     "output_type": "execute_result"
    }
   ],
   "source": [
    "corrs"
   ]
  },
  {
   "cell_type": "code",
   "execution_count": null,
   "metadata": {},
   "outputs": [],
   "source": []
  },
  {
   "cell_type": "markdown",
   "metadata": {},
   "source": [
    "### Visualize"
   ]
  },
  {
   "cell_type": "code",
   "execution_count": 147,
   "metadata": {},
   "outputs": [],
   "source": [
    "sns.set(rc={'figure.figsize':(10,10)})"
   ]
  },
  {
   "cell_type": "code",
   "execution_count": 148,
   "metadata": {},
   "outputs": [
    {
     "data": {
      "image/png": "[encoded data removed]",
      "text/plain": [
       "<Figure size 720x720 with 1 Axes>"
      ]
     },
     "metadata": {},
     "output_type": "display_data"
    }
   ],
   "source": [
    "sns.scatterplot(data=pca_expression_df, x='PC2', y='PC3', hue='discrete')\n",
    "plt.show()"
   ]
  },
  {
   "cell_type": "code",
   "execution_count": 149,
   "metadata": {},
   "outputs": [],
   "source": [
    "visualize = pca_expression_df.loc[:, ['PC{}'.format(i) for i in range(1, 5)]+['discrete']]"
   ]
  },
  {
   "cell_type": "code",
   "execution_count": 151,
   "metadata": {},
   "outputs": [
    {
     "data": {
      "image/png": "[encoded data removed]",
      "text/plain": [
       "<Figure size 950.425x900 with 30 Axes>"
      ]
     },
     "metadata": {},
     "output_type": "display_data"
    }
   ],
   "source": [
    "sns.pairplot(visualize, hue='discrete', diag_kind='hist')\n",
    "plt.show()"
   ]
  },
  {
   "cell_type": "code",
   "execution_count": 152,
   "metadata": {},
   "outputs": [
    {
     "data": {
      "text/plain": [
       "array([0.06468574, 0.06083885, 0.05176982, 0.04949123, 0.0476475 ,\n",
       "       0.04644135, 0.04478905, 0.04183908, 0.03924252, 0.03652179])"
      ]
     },
     "execution_count": 152,
     "metadata": {},
     "output_type": "execute_result"
    }
   ],
   "source": [
    "pca.explained_variance_ratio_"
   ]
  },
  {
   "cell_type": "code",
   "execution_count": 153,
   "metadata": {},
   "outputs": [
    {
     "data": {
      "image/png": "[encoded data removed]",
      "text/plain": [
       "<Figure size 770.425x720 with 20 Axes>"
      ]
     },
     "metadata": {},
     "output_type": "display_data"
    }
   ],
   "source": [
    "sns.pairplot(tsne_expression_df.loc[:,['tsne{}'.format(i) for i in range(1, 4)]+['discrete']] , hue='discrete', diag_kind='hist')\n",
    "plt.show()"
   ]
  },
  {
   "cell_type": "code",
   "execution_count": null,
   "metadata": {},
   "outputs": [],
   "source": []
  },
  {
   "cell_type": "code",
   "execution_count": null,
   "metadata": {},
   "outputs": [],
   "source": []
  }
 ],
 "metadata": {
  "kernelspec": {
   "display_name": "Python 3",
   "language": "python",
   "name": "python3"
  },
  "language_info": {
   "codemirror_mode": {
    "name": "ipython",
    "version": 3
   },
   "file_extension": ".py",
   "mimetype": "text/x-python",
   "name": "python",
   "nbconvert_exporter": "python",
   "pygments_lexer": "ipython3",
   "version": "3.7.4"
  }
 },
 "nbformat": 4,
 "nbformat_minor": 4
}
