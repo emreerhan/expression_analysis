{
 "cells": [
  {
   "cell_type": "code",
   "execution_count": 38,
   "metadata": {},
   "outputs": [],
   "source": [
    "import pandas as pd\n",
    "import numpy as np"
   ]
  },
  {
   "cell_type": "markdown",
   "metadata": {},
   "source": [
    "Select 299 driver genes according to https://www.ncbi.nlm.nih.gov/pubmed/29625053"
   ]
  },
  {
   "cell_type": "code",
   "execution_count": 39,
   "metadata": {},
   "outputs": [],
   "source": [
    "table = pd.read_csv('../data/external/table_s1.csv', header=2)"
   ]
  },
  {
   "cell_type": "code",
   "execution_count": 40,
   "metadata": {},
   "outputs": [],
   "source": [
    "cancer_genes = np.unique(table['Gene'])"
   ]
  },
  {
   "cell_type": "code",
   "execution_count": 54,
   "metadata": {},
   "outputs": [],
   "source": [
    "expression_log_df = pd.read_csv('../data/processed/expression_tpm_log.tsv', sep='\\t', index_col=0)\n",
    "expression_minmax_df = pd.read_csv('../data/processed/expression_tpm_minmax.tsv', sep='\\t', index_col=0)"
   ]
  },
  {
   "cell_type": "code",
   "execution_count": 55,
   "metadata": {},
   "outputs": [],
   "source": [
    "mapping_df = pd.read_csv('../data/external/gene_mapping_and_hugo_ids.txt', sep='\\t', index_col=0)"
   ]
  },
  {
   "cell_type": "code",
   "execution_count": 56,
   "metadata": {},
   "outputs": [
    {
     "name": "stdout",
     "output_type": "stream",
     "text": [
      "8095\n"
     ]
    }
   ],
   "source": [
    "columns_to_drop = []\n",
    "missing_vals = 0\n",
    "for ensg_gene in expression_log_df.iloc[:, 1:].columns:\n",
    "    if ensg_gene not in mapping_df.index.values:\n",
    "        columns_to_drop.append(ensg_gene)\n",
    "        missing_vals += 1\n",
    "        continue\n",
    "    if mapping_df.loc[ensg_gene, 'HUGO'] not in cancer_genes:\n",
    "        columns_to_drop.append(ensg_gene)\n",
    "print(missing_vals)"
   ]
  },
  {
   "cell_type": "code",
   "execution_count": 57,
   "metadata": {},
   "outputs": [
    {
     "data": {
      "text/plain": [
       "57758"
      ]
     },
     "execution_count": 57,
     "metadata": {},
     "output_type": "execute_result"
    }
   ],
   "source": [
    "len(columns_to_drop)"
   ]
  },
  {
   "cell_type": "code",
   "execution_count": 58,
   "metadata": {},
   "outputs": [
    {
     "data": {
      "text/plain": [
       "58051"
      ]
     },
     "execution_count": 58,
     "metadata": {},
     "output_type": "execute_result"
    }
   ],
   "source": [
    "len(expression_log_df.columns)"
   ]
  },
  {
   "cell_type": "code",
   "execution_count": 59,
   "metadata": {},
   "outputs": [
    {
     "data": {
      "text/plain": [
       "Index(['pog_id', 'ENSG00000000005', 'ENSG00000000419', 'ENSG00000000457',\n",
       "       'ENSG00000000460', 'ENSG00000000938', 'ENSG00000000971',\n",
       "       'ENSG00000001036', 'ENSG00000001084', 'ENSG00000001167',\n",
       "       ...\n",
       "       'ENSG00000283690', 'ENSG00000283691', 'ENSG00000283692',\n",
       "       'ENSG00000283693', 'ENSG00000283694', 'ENSG00000283695',\n",
       "       'ENSG00000283696', 'ENSG00000283697', 'ENSG00000283698',\n",
       "       'ENSG00000283699'],\n",
       "      dtype='object', length=58051)"
      ]
     },
     "execution_count": 59,
     "metadata": {},
     "output_type": "execute_result"
    }
   ],
   "source": [
    "expression_log_df.columns"
   ]
  },
  {
   "cell_type": "code",
   "execution_count": 60,
   "metadata": {},
   "outputs": [],
   "source": [
    "expression_log_df = expression_log_df.drop(columns_to_drop, axis=1)"
   ]
  },
  {
   "cell_type": "code",
   "execution_count": 61,
   "metadata": {},
   "outputs": [],
   "source": [
    "expression_minmax_df = expression_minmax_df.drop(columns_to_drop, axis=1)"
   ]
  },
  {
   "cell_type": "code",
   "execution_count": 62,
   "metadata": {},
   "outputs": [],
   "source": [
    "expression_log_df.to_csv('../data/processed/expression_tpm_log_selected.tsv', sep='\\t')"
   ]
  },
  {
   "cell_type": "code",
   "execution_count": 63,
   "metadata": {},
   "outputs": [],
   "source": [
    "expression_minmax_df.to_csv('../data/processed/expression_tpm_minmax_selected.tsv', sep='\\t')"
   ]
  },
  {
   "cell_type": "code",
   "execution_count": null,
   "metadata": {},
   "outputs": [],
   "source": []
  }
 ],
 "metadata": {
  "kernelspec": {
   "display_name": "Python 3",
   "language": "python",
   "name": "python3"
  },
  "language_info": {
   "codemirror_mode": {
    "name": "ipython",
    "version": 3
   },
   "file_extension": ".py",
   "mimetype": "text/x-python",
   "name": "python",
   "nbconvert_exporter": "python",
   "pygments_lexer": "ipython3",
   "version": "3.7.0"
  }
 },
 "nbformat": 4,
 "nbformat_minor": 2
}
