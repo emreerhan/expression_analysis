{
 "cells": [
  {
   "cell_type": "code",
   "execution_count": 1,
   "metadata": {},
   "outputs": [],
   "source": [
    "import pandas as pd\n",
    "import numpy as np\n",
    "import math"
   ]
  },
  {
   "cell_type": "code",
   "execution_count": 2,
   "metadata": {},
   "outputs": [],
   "source": [
    "from sklearn.model_selection import KFold, GridSearchCV"
   ]
  },
  {
   "cell_type": "markdown",
   "metadata": {},
   "source": [
    "## misc function"
   ]
  },
  {
   "cell_type": "code",
   "execution_count": 3,
   "metadata": {},
   "outputs": [],
   "source": [
    "def train_test_split(X, y, test_p=0.25, random_state=42):\n",
    "    ids = np.unique(X.index.values)\n",
    "    test_size = math.floor(test_p * len(ids))\n",
    "    test_index = np.random.choice(ids, size=test_size)\n",
    "    X_train = X[~X.index.isin(test_index)]\n",
    "    X_test = X[X.index.isin(test_index)]\n",
    "    y_train = y[~y.index.isin(test_index)]\n",
    "    y_test = y[y.index.isin(test_index)]\n",
    "    return X_train, X_test, y_train, y_test"
   ]
  },
  {
   "cell_type": "code",
   "execution_count": 4,
   "metadata": {},
   "outputs": [],
   "source": [
    "data = pd.read_csv('/projects/eerhan_prj/eerhan_prj_results/pog500_expression/results/04_02_250103127/data/All_FLUOROURACIL.tsv', sep='\\t', index_col=0)"
   ]
  },
  {
   "cell_type": "code",
   "execution_count": 5,
   "metadata": {},
   "outputs": [],
   "source": [
    "data = data.drop_duplicates()"
   ]
  },
  {
   "cell_type": "code",
   "execution_count": 6,
   "metadata": {},
   "outputs": [],
   "source": [
    "X_columns = data.columns.values[pd.Series(data.columns.values).str.contains('ENSG')]"
   ]
  },
  {
   "cell_type": "code",
   "execution_count": 7,
   "metadata": {},
   "outputs": [],
   "source": [
    "X = data.loc[:, X_columns]"
   ]
  },
  {
   "cell_type": "code",
   "execution_count": 8,
   "metadata": {},
   "outputs": [],
   "source": [
    "y = data.loc[:, 'y_trans']\n",
    "y_discrete = y > 0"
   ]
  },
  {
   "cell_type": "code",
   "execution_count": 9,
   "metadata": {},
   "outputs": [
    {
     "data": {
      "text/plain": [
       "5"
      ]
     },
     "execution_count": 9,
     "metadata": {},
     "output_type": "execute_result"
    }
   ],
   "source": [
    "kf = KFold(n_splits=5)\n",
    "kf.get_n_splits(X)"
   ]
  },
  {
   "cell_type": "markdown",
   "metadata": {},
   "source": [
    "## RBF"
   ]
  },
  {
   "cell_type": "code",
   "execution_count": 10,
   "metadata": {},
   "outputs": [],
   "source": [
    "from sklearn.svm import SVC, SVR"
   ]
  },
  {
   "cell_type": "code",
   "execution_count": 11,
   "metadata": {},
   "outputs": [],
   "source": [
    "from scipy.stats import spearmanr"
   ]
  },
  {
   "cell_type": "code",
   "execution_count": 12,
   "metadata": {},
   "outputs": [
    {
     "name": "stdout",
     "output_type": "stream",
     "text": [
      "SVC with linear kernel\n",
      "0.6842105263157895\n",
      "0.631578947368421\n",
      "0.631578947368421\n",
      "0.5263157894736842\n",
      "0.631578947368421\n"
     ]
    }
   ],
   "source": [
    "print('SVC with linear kernel')\n",
    "for train_index, test_index in kf.split(X):\n",
    "    X_train, X_test = X.iloc[train_index, :], X.iloc[test_index, :]\n",
    "    y_train, y_test = y_discrete[train_index], y_discrete[test_index]\n",
    "    svc_rbf = SVC(C=10, kernel='linear', gamma='auto')\n",
    "    svc_rbf.fit(X_train, y_train)\n",
    "    print(svc_rbf.score(X_test, y_test))"
   ]
  },
  {
   "cell_type": "code",
   "execution_count": 13,
   "metadata": {},
   "outputs": [
    {
     "name": "stdout",
     "output_type": "stream",
     "text": [
      "SVR with RBF\n",
      "0.18355986886786235\n",
      "0.0006921995353103005\n",
      "0.006884720686349821\n",
      "-0.1450896334780587\n",
      "-0.02096730318998108\n"
     ]
    }
   ],
   "source": [
    "print('SVR with RBF')\n",
    "corrs = []\n",
    "for train_index, test_index in kf.split(X):\n",
    "    X_train, X_test = X.iloc[train_index, :], X.iloc[test_index, :]\n",
    "    y_train, y_test = y[train_index], y[test_index]\n",
    "    svr_rbf = SVR(C=10, kernel='linear', gamma='auto')\n",
    "    svr_rbf.fit(X_train, y_train)\n",
    "    y_pred = svr_rbf.predict(X_test)\n",
    "    corrs.append(spearmanr(y_pred, y_test))\n",
    "    print(svr_rbf.score(X_test, y_test))"
   ]
  },
  {
   "cell_type": "code",
   "execution_count": 14,
   "metadata": {},
   "outputs": [
    {
     "data": {
      "text/plain": [
       "[(0.41127452088151756, 0.0802262532973057),\n",
       " (0.27504436149593975, 0.25443153478853003),\n",
       " (0.18093985056305348, 0.4585074577973466),\n",
       " (0.2154800816403047, 0.37563681063582444),\n",
       " (0.22715289982425313, 0.34967330292770626)]"
      ]
     },
     "execution_count": 14,
     "metadata": {},
     "output_type": "execute_result"
    }
   ],
   "source": [
    "[(x.correlation, x.pvalue) for x in corrs]"
   ]
  },
  {
   "cell_type": "code",
   "execution_count": 15,
   "metadata": {},
   "outputs": [
    {
     "data": {
      "text/plain": [
       "[SpearmanrResult(correlation=0.41127452088151756, pvalue=0.0802262532973057),\n",
       " SpearmanrResult(correlation=0.27504436149593975, pvalue=0.25443153478853003),\n",
       " SpearmanrResult(correlation=0.18093985056305348, pvalue=0.4585074577973466),\n",
       " SpearmanrResult(correlation=0.2154800816403047, pvalue=0.37563681063582444),\n",
       " SpearmanrResult(correlation=0.22715289982425313, pvalue=0.34967330292770626)]"
      ]
     },
     "execution_count": 15,
     "metadata": {},
     "output_type": "execute_result"
    }
   ],
   "source": [
    "corrs"
   ]
  },
  {
   "cell_type": "code",
   "execution_count": 16,
   "metadata": {},
   "outputs": [],
   "source": [
    "weights = pd.DataFrame(data={'weights': svc_rbf.coef_[0],\n",
    "                   'names': data.columns[:-3]})"
   ]
  },
  {
   "cell_type": "code",
   "execution_count": 17,
   "metadata": {},
   "outputs": [],
   "source": [
    "weights['weights'] = np.abs(weights['weights'])"
   ]
  },
  {
   "cell_type": "code",
   "execution_count": 18,
   "metadata": {},
   "outputs": [
    {
     "data": {
      "text/html": [
       "<div>\n",
       "<style scoped>\n",
       "    .dataframe tbody tr th:only-of-type {\n",
       "        vertical-align: middle;\n",
       "    }\n",
       "\n",
       "    .dataframe tbody tr th {\n",
       "        vertical-align: top;\n",
       "    }\n",
       "\n",
       "    .dataframe thead th {\n",
       "        text-align: right;\n",
       "    }\n",
       "</style>\n",
       "<table border=\"1\" class=\"dataframe\">\n",
       "  <thead>\n",
       "    <tr style=\"text-align: right;\">\n",
       "      <th></th>\n",
       "      <th>weights</th>\n",
       "      <th>names</th>\n",
       "    </tr>\n",
       "  </thead>\n",
       "  <tbody>\n",
       "    <tr>\n",
       "      <th>11214</th>\n",
       "      <td>0.000000e+00</td>\n",
       "      <td>ENSG00000232665</td>\n",
       "    </tr>\n",
       "    <tr>\n",
       "      <th>18083</th>\n",
       "      <td>2.775558e-17</td>\n",
       "      <td>ENSG00000273858</td>\n",
       "    </tr>\n",
       "    <tr>\n",
       "      <th>8263</th>\n",
       "      <td>2.775558e-17</td>\n",
       "      <td>ENSG00000212138</td>\n",
       "    </tr>\n",
       "    <tr>\n",
       "      <th>15836</th>\n",
       "      <td>2.775558e-17</td>\n",
       "      <td>ENSG00000259680</td>\n",
       "    </tr>\n",
       "    <tr>\n",
       "      <th>6735</th>\n",
       "      <td>5.551115e-17</td>\n",
       "      <td>ENSG00000183704</td>\n",
       "    </tr>\n",
       "    <tr>\n",
       "      <th>...</th>\n",
       "      <td>...</td>\n",
       "      <td>...</td>\n",
       "    </tr>\n",
       "    <tr>\n",
       "      <th>18794</th>\n",
       "      <td>3.342148e-03</td>\n",
       "      <td>ENSG00000278903</td>\n",
       "    </tr>\n",
       "    <tr>\n",
       "      <th>7783</th>\n",
       "      <td>3.596826e-03</td>\n",
       "      <td>ENSG00000202385</td>\n",
       "    </tr>\n",
       "    <tr>\n",
       "      <th>4238</th>\n",
       "      <td>3.881342e-03</td>\n",
       "      <td>ENSG00000151650</td>\n",
       "    </tr>\n",
       "    <tr>\n",
       "      <th>16504</th>\n",
       "      <td>4.237378e-03</td>\n",
       "      <td>ENSG00000263520</td>\n",
       "    </tr>\n",
       "    <tr>\n",
       "      <th>15890</th>\n",
       "      <td>4.842169e-03</td>\n",
       "      <td>ENSG00000259934</td>\n",
       "    </tr>\n",
       "  </tbody>\n",
       "</table>\n",
       "<p>19401 rows × 2 columns</p>\n",
       "</div>"
      ],
      "text/plain": [
       "            weights            names\n",
       "11214  0.000000e+00  ENSG00000232665\n",
       "18083  2.775558e-17  ENSG00000273858\n",
       "8263   2.775558e-17  ENSG00000212138\n",
       "15836  2.775558e-17  ENSG00000259680\n",
       "6735   5.551115e-17  ENSG00000183704\n",
       "...             ...              ...\n",
       "18794  3.342148e-03  ENSG00000278903\n",
       "7783   3.596826e-03  ENSG00000202385\n",
       "4238   3.881342e-03  ENSG00000151650\n",
       "16504  4.237378e-03  ENSG00000263520\n",
       "15890  4.842169e-03  ENSG00000259934\n",
       "\n",
       "[19401 rows x 2 columns]"
      ]
     },
     "execution_count": 18,
     "metadata": {},
     "output_type": "execute_result"
    }
   ],
   "source": [
    "weights.sort_values('weights')"
   ]
  },
  {
   "cell_type": "code",
   "execution_count": 19,
   "metadata": {},
   "outputs": [],
   "source": [
    "X_train, X_test, y_train, y_test = train_test_split(X, y)"
   ]
  },
  {
   "cell_type": "code",
   "execution_count": 20,
   "metadata": {},
   "outputs": [
    {
     "data": {
      "text/plain": [
       "0.27040664399106173"
      ]
     },
     "execution_count": 20,
     "metadata": {},
     "output_type": "execute_result"
    }
   ],
   "source": [
    "svc_rbf = SVR(C=10, kernel='linear', gamma='auto')\n",
    "svc_rbf.fit(X_train, y_train)\n",
    "svc_rbf.score(X_test, y_test)"
   ]
  },
  {
   "cell_type": "code",
   "execution_count": 21,
   "metadata": {},
   "outputs": [
    {
     "data": {
      "text/plain": [
       "GridSearchCV(cv=5, error_score='raise-deprecating',\n",
       "             estimator=SVR(C=10, cache_size=200, coef0=0.0, degree=3,\n",
       "                           epsilon=0.1, gamma='auto', kernel='linear',\n",
       "                           max_iter=-1, shrinking=True, tol=0.001,\n",
       "                           verbose=False),\n",
       "             iid='warn', n_jobs=None,\n",
       "             param_grid={'C': [0.1, 1, 10, 50],\n",
       "                         'gamma': [0.1, 0.01, 0.001, 1, 10]},\n",
       "             pre_dispatch='2*n_jobs', refit=True, return_train_score=False,\n",
       "             scoring=None, verbose=0)"
      ]
     },
     "execution_count": 21,
     "metadata": {},
     "output_type": "execute_result"
    }
   ],
   "source": [
    "params = {\"C\":[0.1, 1, 10, 50], \"gamma\": [0.1, 0.01, 0.001, 1, 10]}\n",
    "grid_search = GridSearchCV(svc_rbf, params,cv=5)\n",
    "grid_search.fit(X_train,y_train)"
   ]
  },
  {
   "cell_type": "code",
   "execution_count": 22,
   "metadata": {},
   "outputs": [
    {
     "data": {
      "text/plain": [
       "0.27040664399106173"
      ]
     },
     "execution_count": 22,
     "metadata": {},
     "output_type": "execute_result"
    }
   ],
   "source": [
    "grid_search.score(X_test, y_test)"
   ]
  },
  {
   "cell_type": "markdown",
   "metadata": {},
   "source": [
    "### PCA/ t-SNE"
   ]
  },
  {
   "cell_type": "code",
   "execution_count": 23,
   "metadata": {},
   "outputs": [],
   "source": [
    "from sklearn.decomposition import PCA\n",
    "from sklearn.manifold import TSNE"
   ]
  },
  {
   "cell_type": "code",
   "execution_count": 24,
   "metadata": {},
   "outputs": [],
   "source": [
    "pca = PCA(n_components=10)"
   ]
  },
  {
   "cell_type": "code",
   "execution_count": 25,
   "metadata": {},
   "outputs": [],
   "source": [
    "pca_expression = pca.fit_transform(X)"
   ]
  },
  {
   "cell_type": "code",
   "execution_count": 26,
   "metadata": {},
   "outputs": [],
   "source": [
    "pca_expression_df = pd.DataFrame(pca_expression, columns=['PC{}'.format(i) for i in range(1, 11)], index=X.index)"
   ]
  },
  {
   "cell_type": "code",
   "execution_count": 27,
   "metadata": {},
   "outputs": [],
   "source": [
    "pca_expression_df['y_trans'] = data['y_trans']\n",
    "pca_expression_df['y'] = data['y']\n",
    "pca_expression_df['discrete'] = [1 if x else 0 for x in y_discrete]"
   ]
  },
  {
   "cell_type": "code",
   "execution_count": 28,
   "metadata": {},
   "outputs": [],
   "source": [
    "tsne = TSNE(n_components=3)"
   ]
  },
  {
   "cell_type": "code",
   "execution_count": 29,
   "metadata": {},
   "outputs": [],
   "source": [
    "tsne_expression = tsne.fit_transform(pca_expression)"
   ]
  },
  {
   "cell_type": "code",
   "execution_count": 30,
   "metadata": {},
   "outputs": [],
   "source": [
    "tsne_expression_df = pd.DataFrame(tsne_expression, columns=['tsne{}'.format(i) for i in range(1, 4)], index=X.index)"
   ]
  },
  {
   "cell_type": "code",
   "execution_count": 31,
   "metadata": {},
   "outputs": [],
   "source": [
    "tsne_expression_df['y_trans'] = data['y_trans']\n",
    "tsne_expression_df['y'] = data['y']\n",
    "tsne_expression_df['discrete'] = [1 if x else 0 for x in y_discrete]"
   ]
  },
  {
   "cell_type": "markdown",
   "metadata": {},
   "source": [
    "## Try to explain with cancer type"
   ]
  },
  {
   "cell_type": "code",
   "execution_count": 32,
   "metadata": {},
   "outputs": [],
   "source": [
    "from matplotlib import pyplot as plt\n",
    "import seaborn as sns"
   ]
  },
  {
   "cell_type": "code",
   "execution_count": 33,
   "metadata": {},
   "outputs": [],
   "source": [
    "drugs_df = pd.read_csv('../data/processed/drugs_filtered.tsv', sep='\\t', index_col=0)"
   ]
  },
  {
   "cell_type": "code",
   "execution_count": 34,
   "metadata": {},
   "outputs": [],
   "source": [
    "cancer_map = drugs_df[['pog_id', 'cancer_cohort']]"
   ]
  },
  {
   "cell_type": "code",
   "execution_count": 35,
   "metadata": {},
   "outputs": [],
   "source": [
    "data = cancer_map.join(data, on='pog_id', how='right').drop_duplicates().sort_values('pog_id')"
   ]
  },
  {
   "cell_type": "code",
   "execution_count": 36,
   "metadata": {},
   "outputs": [],
   "source": [
    "data = data.set_index('pog_id')"
   ]
  },
  {
   "cell_type": "code",
   "execution_count": 37,
   "metadata": {},
   "outputs": [
    {
     "data": {
      "text/html": [
       "<div>\n",
       "<style scoped>\n",
       "    .dataframe tbody tr th:only-of-type {\n",
       "        vertical-align: middle;\n",
       "    }\n",
       "\n",
       "    .dataframe tbody tr th {\n",
       "        vertical-align: top;\n",
       "    }\n",
       "\n",
       "    .dataframe thead th {\n",
       "        text-align: right;\n",
       "    }\n",
       "</style>\n",
       "<table border=\"1\" class=\"dataframe\">\n",
       "  <thead>\n",
       "    <tr style=\"text-align: right;\">\n",
       "      <th></th>\n",
       "      <th>cancer_cohort</th>\n",
       "      <th>ENSG00000000003</th>\n",
       "      <th>ENSG00000000419</th>\n",
       "      <th>ENSG00000000457</th>\n",
       "      <th>ENSG00000001084</th>\n",
       "      <th>ENSG00000001167</th>\n",
       "      <th>ENSG00000001460</th>\n",
       "      <th>ENSG00000001461</th>\n",
       "      <th>ENSG00000001561</th>\n",
       "      <th>ENSG00000001631</th>\n",
       "      <th>...</th>\n",
       "      <th>ENSG00000283648</th>\n",
       "      <th>ENSG00000283657</th>\n",
       "      <th>ENSG00000283662</th>\n",
       "      <th>ENSG00000283667</th>\n",
       "      <th>ENSG00000283679</th>\n",
       "      <th>ENSG00000283689</th>\n",
       "      <th>ENSG00000283698</th>\n",
       "      <th>y</th>\n",
       "      <th>y_trans</th>\n",
       "      <th>y_pred</th>\n",
       "    </tr>\n",
       "    <tr>\n",
       "      <th>pog_id</th>\n",
       "      <th></th>\n",
       "      <th></th>\n",
       "      <th></th>\n",
       "      <th></th>\n",
       "      <th></th>\n",
       "      <th></th>\n",
       "      <th></th>\n",
       "      <th></th>\n",
       "      <th></th>\n",
       "      <th></th>\n",
       "      <th></th>\n",
       "      <th></th>\n",
       "      <th></th>\n",
       "      <th></th>\n",
       "      <th></th>\n",
       "      <th></th>\n",
       "      <th></th>\n",
       "      <th></th>\n",
       "      <th></th>\n",
       "      <th></th>\n",
       "      <th></th>\n",
       "    </tr>\n",
       "  </thead>\n",
       "  <tbody>\n",
       "    <tr>\n",
       "      <th>POG001</th>\n",
       "      <td>COLO</td>\n",
       "      <td>-0.534357</td>\n",
       "      <td>0.202300</td>\n",
       "      <td>-0.989164</td>\n",
       "      <td>-0.235257</td>\n",
       "      <td>0.321601</td>\n",
       "      <td>-0.451788</td>\n",
       "      <td>-0.818186</td>\n",
       "      <td>0.466604</td>\n",
       "      <td>-0.395610</td>\n",
       "      <td>...</td>\n",
       "      <td>-0.348808</td>\n",
       "      <td>-0.120957</td>\n",
       "      <td>0.006363</td>\n",
       "      <td>0.049503</td>\n",
       "      <td>-0.169005</td>\n",
       "      <td>-0.756265</td>\n",
       "      <td>-0.133704</td>\n",
       "      <td>33</td>\n",
       "      <td>-1.020200</td>\n",
       "      <td>NaN</td>\n",
       "    </tr>\n",
       "    <tr>\n",
       "      <th>POG001</th>\n",
       "      <td>COLO</td>\n",
       "      <td>-0.534357</td>\n",
       "      <td>0.202300</td>\n",
       "      <td>-0.989164</td>\n",
       "      <td>-0.235257</td>\n",
       "      <td>0.321601</td>\n",
       "      <td>-0.451788</td>\n",
       "      <td>-0.818186</td>\n",
       "      <td>0.466604</td>\n",
       "      <td>-0.395610</td>\n",
       "      <td>...</td>\n",
       "      <td>-0.348808</td>\n",
       "      <td>-0.120957</td>\n",
       "      <td>0.006363</td>\n",
       "      <td>0.049503</td>\n",
       "      <td>-0.169005</td>\n",
       "      <td>-0.756265</td>\n",
       "      <td>-0.133704</td>\n",
       "      <td>6</td>\n",
       "      <td>-2.255413</td>\n",
       "      <td>NaN</td>\n",
       "    </tr>\n",
       "    <tr>\n",
       "      <th>POG069</th>\n",
       "      <td>CHOL</td>\n",
       "      <td>-0.205779</td>\n",
       "      <td>-0.384483</td>\n",
       "      <td>3.745577</td>\n",
       "      <td>-0.477753</td>\n",
       "      <td>3.800310</td>\n",
       "      <td>-0.597806</td>\n",
       "      <td>-0.457818</td>\n",
       "      <td>1.735611</td>\n",
       "      <td>-0.089142</td>\n",
       "      <td>...</td>\n",
       "      <td>-0.348808</td>\n",
       "      <td>-0.120957</td>\n",
       "      <td>-0.474758</td>\n",
       "      <td>-0.020600</td>\n",
       "      <td>-0.169005</td>\n",
       "      <td>-0.039147</td>\n",
       "      <td>-0.133704</td>\n",
       "      <td>42</td>\n",
       "      <td>-0.827058</td>\n",
       "      <td>NaN</td>\n",
       "    </tr>\n",
       "    <tr>\n",
       "      <th>POG089</th>\n",
       "      <td>COLO</td>\n",
       "      <td>0.614554</td>\n",
       "      <td>-0.684453</td>\n",
       "      <td>-0.863048</td>\n",
       "      <td>-0.337074</td>\n",
       "      <td>-0.912991</td>\n",
       "      <td>-0.737476</td>\n",
       "      <td>-0.328798</td>\n",
       "      <td>0.373476</td>\n",
       "      <td>-0.719344</td>\n",
       "      <td>...</td>\n",
       "      <td>-0.348808</td>\n",
       "      <td>-0.120957</td>\n",
       "      <td>-0.363730</td>\n",
       "      <td>-0.721630</td>\n",
       "      <td>-0.169005</td>\n",
       "      <td>-0.756265</td>\n",
       "      <td>-0.133704</td>\n",
       "      <td>420</td>\n",
       "      <td>1.283477</td>\n",
       "      <td>NaN</td>\n",
       "    </tr>\n",
       "    <tr>\n",
       "      <th>POG118</th>\n",
       "      <td>COLO</td>\n",
       "      <td>1.074395</td>\n",
       "      <td>0.200985</td>\n",
       "      <td>-0.682883</td>\n",
       "      <td>-0.570576</td>\n",
       "      <td>0.167511</td>\n",
       "      <td>-0.854925</td>\n",
       "      <td>-0.216090</td>\n",
       "      <td>0.305033</td>\n",
       "      <td>-0.806393</td>\n",
       "      <td>...</td>\n",
       "      <td>-0.348808</td>\n",
       "      <td>-0.120957</td>\n",
       "      <td>-0.067656</td>\n",
       "      <td>-0.546373</td>\n",
       "      <td>-0.169005</td>\n",
       "      <td>-0.756265</td>\n",
       "      <td>-0.133704</td>\n",
       "      <td>709</td>\n",
       "      <td>1.838307</td>\n",
       "      <td>NaN</td>\n",
       "    </tr>\n",
       "    <tr>\n",
       "      <th>...</th>\n",
       "      <td>...</td>\n",
       "      <td>...</td>\n",
       "      <td>...</td>\n",
       "      <td>...</td>\n",
       "      <td>...</td>\n",
       "      <td>...</td>\n",
       "      <td>...</td>\n",
       "      <td>...</td>\n",
       "      <td>...</td>\n",
       "      <td>...</td>\n",
       "      <td>...</td>\n",
       "      <td>...</td>\n",
       "      <td>...</td>\n",
       "      <td>...</td>\n",
       "      <td>...</td>\n",
       "      <td>...</td>\n",
       "      <td>...</td>\n",
       "      <td>...</td>\n",
       "      <td>...</td>\n",
       "      <td>...</td>\n",
       "      <td>...</td>\n",
       "    </tr>\n",
       "    <tr>\n",
       "      <th>POG905</th>\n",
       "      <td>COLO</td>\n",
       "      <td>0.392819</td>\n",
       "      <td>-0.348083</td>\n",
       "      <td>-0.279313</td>\n",
       "      <td>0.011093</td>\n",
       "      <td>-0.634694</td>\n",
       "      <td>-0.166100</td>\n",
       "      <td>-0.221281</td>\n",
       "      <td>0.682032</td>\n",
       "      <td>-0.144537</td>\n",
       "      <td>...</td>\n",
       "      <td>-0.348808</td>\n",
       "      <td>-0.120957</td>\n",
       "      <td>-0.104665</td>\n",
       "      <td>0.329914</td>\n",
       "      <td>-0.169005</td>\n",
       "      <td>0.160978</td>\n",
       "      <td>-0.133704</td>\n",
       "      <td>93</td>\n",
       "      <td>-0.154915</td>\n",
       "      <td>True</td>\n",
       "    </tr>\n",
       "    <tr>\n",
       "      <th>POG914</th>\n",
       "      <td>PANC</td>\n",
       "      <td>-0.117252</td>\n",
       "      <td>-0.531398</td>\n",
       "      <td>-0.439660</td>\n",
       "      <td>-0.185474</td>\n",
       "      <td>0.159106</td>\n",
       "      <td>1.541679</td>\n",
       "      <td>-0.099675</td>\n",
       "      <td>-0.778841</td>\n",
       "      <td>3.479124</td>\n",
       "      <td>...</td>\n",
       "      <td>-0.024203</td>\n",
       "      <td>-0.120957</td>\n",
       "      <td>-0.363730</td>\n",
       "      <td>0.785584</td>\n",
       "      <td>-0.169005</td>\n",
       "      <td>2.946064</td>\n",
       "      <td>-0.133704</td>\n",
       "      <td>181</td>\n",
       "      <td>0.452617</td>\n",
       "      <td>NaN</td>\n",
       "    </tr>\n",
       "    <tr>\n",
       "      <th>POG916</th>\n",
       "      <td>PANC</td>\n",
       "      <td>-0.051204</td>\n",
       "      <td>-1.042312</td>\n",
       "      <td>0.556653</td>\n",
       "      <td>0.194169</td>\n",
       "      <td>0.224477</td>\n",
       "      <td>-0.572412</td>\n",
       "      <td>-0.350301</td>\n",
       "      <td>-0.457943</td>\n",
       "      <td>-0.543089</td>\n",
       "      <td>...</td>\n",
       "      <td>-0.024203</td>\n",
       "      <td>-0.120957</td>\n",
       "      <td>-0.474758</td>\n",
       "      <td>0.084554</td>\n",
       "      <td>-0.169005</td>\n",
       "      <td>-0.756265</td>\n",
       "      <td>-0.133704</td>\n",
       "      <td>211</td>\n",
       "      <td>0.598613</td>\n",
       "      <td>True</td>\n",
       "    </tr>\n",
       "    <tr>\n",
       "      <th>POG918</th>\n",
       "      <td>COLO</td>\n",
       "      <td>0.265995</td>\n",
       "      <td>-0.722607</td>\n",
       "      <td>-0.594602</td>\n",
       "      <td>0.033255</td>\n",
       "      <td>-0.097712</td>\n",
       "      <td>-0.172449</td>\n",
       "      <td>0.345964</td>\n",
       "      <td>-0.637466</td>\n",
       "      <td>0.161931</td>\n",
       "      <td>...</td>\n",
       "      <td>-0.348808</td>\n",
       "      <td>-0.120957</td>\n",
       "      <td>-0.289711</td>\n",
       "      <td>-0.546373</td>\n",
       "      <td>-0.169005</td>\n",
       "      <td>-0.722911</td>\n",
       "      <td>-0.133704</td>\n",
       "      <td>173</td>\n",
       "      <td>0.410027</td>\n",
       "      <td>False</td>\n",
       "    </tr>\n",
       "    <tr>\n",
       "      <th>POG920</th>\n",
       "      <td>PANC</td>\n",
       "      <td>-0.033443</td>\n",
       "      <td>-0.173101</td>\n",
       "      <td>-0.484701</td>\n",
       "      <td>0.829798</td>\n",
       "      <td>0.219808</td>\n",
       "      <td>2.970119</td>\n",
       "      <td>0.620318</td>\n",
       "      <td>-0.065235</td>\n",
       "      <td>-0.020079</td>\n",
       "      <td>...</td>\n",
       "      <td>-0.348808</td>\n",
       "      <td>-0.120957</td>\n",
       "      <td>-0.215693</td>\n",
       "      <td>0.995893</td>\n",
       "      <td>-0.169005</td>\n",
       "      <td>0.261041</td>\n",
       "      <td>-0.133704</td>\n",
       "      <td>14</td>\n",
       "      <td>-1.668898</td>\n",
       "      <td>NaN</td>\n",
       "    </tr>\n",
       "  </tbody>\n",
       "</table>\n",
       "<p>95 rows × 19405 columns</p>\n",
       "</div>"
      ],
      "text/plain": [
       "       cancer_cohort  ENSG00000000003  ENSG00000000419  ENSG00000000457  \\\n",
       "pog_id                                                                    \n",
       "POG001          COLO        -0.534357         0.202300        -0.989164   \n",
       "POG001          COLO        -0.534357         0.202300        -0.989164   \n",
       "POG069          CHOL        -0.205779        -0.384483         3.745577   \n",
       "POG089          COLO         0.614554        -0.684453        -0.863048   \n",
       "POG118          COLO         1.074395         0.200985        -0.682883   \n",
       "...              ...              ...              ...              ...   \n",
       "POG905          COLO         0.392819        -0.348083        -0.279313   \n",
       "POG914          PANC        -0.117252        -0.531398        -0.439660   \n",
       "POG916          PANC        -0.051204        -1.042312         0.556653   \n",
       "POG918          COLO         0.265995        -0.722607        -0.594602   \n",
       "POG920          PANC        -0.033443        -0.173101        -0.484701   \n",
       "\n",
       "        ENSG00000001084  ENSG00000001167  ENSG00000001460  ENSG00000001461  \\\n",
       "pog_id                                                                       \n",
       "POG001        -0.235257         0.321601        -0.451788        -0.818186   \n",
       "POG001        -0.235257         0.321601        -0.451788        -0.818186   \n",
       "POG069        -0.477753         3.800310        -0.597806        -0.457818   \n",
       "POG089        -0.337074        -0.912991        -0.737476        -0.328798   \n",
       "POG118        -0.570576         0.167511        -0.854925        -0.216090   \n",
       "...                 ...              ...              ...              ...   \n",
       "POG905         0.011093        -0.634694        -0.166100        -0.221281   \n",
       "POG914        -0.185474         0.159106         1.541679        -0.099675   \n",
       "POG916         0.194169         0.224477        -0.572412        -0.350301   \n",
       "POG918         0.033255        -0.097712        -0.172449         0.345964   \n",
       "POG920         0.829798         0.219808         2.970119         0.620318   \n",
       "\n",
       "        ENSG00000001561  ENSG00000001631  ...  ENSG00000283648  \\\n",
       "pog_id                                    ...                    \n",
       "POG001         0.466604        -0.395610  ...        -0.348808   \n",
       "POG001         0.466604        -0.395610  ...        -0.348808   \n",
       "POG069         1.735611        -0.089142  ...        -0.348808   \n",
       "POG089         0.373476        -0.719344  ...        -0.348808   \n",
       "POG118         0.305033        -0.806393  ...        -0.348808   \n",
       "...                 ...              ...  ...              ...   \n",
       "POG905         0.682032        -0.144537  ...        -0.348808   \n",
       "POG914        -0.778841         3.479124  ...        -0.024203   \n",
       "POG916        -0.457943        -0.543089  ...        -0.024203   \n",
       "POG918        -0.637466         0.161931  ...        -0.348808   \n",
       "POG920        -0.065235        -0.020079  ...        -0.348808   \n",
       "\n",
       "        ENSG00000283657  ENSG00000283662  ENSG00000283667  ENSG00000283679  \\\n",
       "pog_id                                                                       \n",
       "POG001        -0.120957         0.006363         0.049503        -0.169005   \n",
       "POG001        -0.120957         0.006363         0.049503        -0.169005   \n",
       "POG069        -0.120957        -0.474758        -0.020600        -0.169005   \n",
       "POG089        -0.120957        -0.363730        -0.721630        -0.169005   \n",
       "POG118        -0.120957        -0.067656        -0.546373        -0.169005   \n",
       "...                 ...              ...              ...              ...   \n",
       "POG905        -0.120957        -0.104665         0.329914        -0.169005   \n",
       "POG914        -0.120957        -0.363730         0.785584        -0.169005   \n",
       "POG916        -0.120957        -0.474758         0.084554        -0.169005   \n",
       "POG918        -0.120957        -0.289711        -0.546373        -0.169005   \n",
       "POG920        -0.120957        -0.215693         0.995893        -0.169005   \n",
       "\n",
       "        ENSG00000283689  ENSG00000283698    y   y_trans  y_pred  \n",
       "pog_id                                                           \n",
       "POG001        -0.756265        -0.133704   33 -1.020200     NaN  \n",
       "POG001        -0.756265        -0.133704    6 -2.255413     NaN  \n",
       "POG069        -0.039147        -0.133704   42 -0.827058     NaN  \n",
       "POG089        -0.756265        -0.133704  420  1.283477     NaN  \n",
       "POG118        -0.756265        -0.133704  709  1.838307     NaN  \n",
       "...                 ...              ...  ...       ...     ...  \n",
       "POG905         0.160978        -0.133704   93 -0.154915    True  \n",
       "POG914         2.946064        -0.133704  181  0.452617     NaN  \n",
       "POG916        -0.756265        -0.133704  211  0.598613    True  \n",
       "POG918        -0.722911        -0.133704  173  0.410027   False  \n",
       "POG920         0.261041        -0.133704   14 -1.668898     NaN  \n",
       "\n",
       "[95 rows x 19405 columns]"
      ]
     },
     "execution_count": 37,
     "metadata": {},
     "output_type": "execute_result"
    }
   ],
   "source": [
    "data"
   ]
  },
  {
   "cell_type": "code",
   "execution_count": 38,
   "metadata": {},
   "outputs": [],
   "source": [
    "data['y_true'] = data['y_trans'] > 0"
   ]
  },
  {
   "cell_type": "code",
   "execution_count": null,
   "metadata": {},
   "outputs": [],
   "source": []
  },
  {
   "cell_type": "code",
   "execution_count": 39,
   "metadata": {},
   "outputs": [],
   "source": [
    "# data.to_csv('../ismb_poster/gemcitabine.tsv', sep='\\t')"
   ]
  },
  {
   "cell_type": "code",
   "execution_count": 40,
   "metadata": {},
   "outputs": [
    {
     "data": {
      "text/plain": [
       "<seaborn.axisgrid.FacetGrid at 0x7f227f80d3d0>"
      ]
     },
     "execution_count": 40,
     "metadata": {},
     "output_type": "execute_result"
    },
    {
     "data": {
      "image/png": "[encoded data removed]",
      "text/plain": [
       "<Figure size 1440x720 with 1 Axes>"
      ]
     },
     "metadata": {
      "needs_background": "light"
     },
     "output_type": "display_data"
    },
    {
     "data": {
      "image/png": "[encoded data removed]",
      "text/plain": [
       "<Figure size 422.125x360 with 1 Axes>"
      ]
     },
     "metadata": {
      "needs_background": "light"
     },
     "output_type": "display_data"
    }
   ],
   "source": [
    "fig, ax = plt.subplots(figsize=(20,10))\n",
    "sns.catplot(data=data, ax=ax, x='cancer_cohort', y='y_trans', hue='y_pred')"
   ]
  },
  {
   "cell_type": "markdown",
   "metadata": {},
   "source": [
    "## Try COLO 5-FU"
   ]
  },
  {
   "cell_type": "code",
   "execution_count": 52,
   "metadata": {},
   "outputs": [],
   "source": [
    "brca_data = data[data['cancer_cohort'] == 'COLO']"
   ]
  },
  {
   "cell_type": "code",
   "execution_count": 53,
   "metadata": {},
   "outputs": [],
   "source": [
    "data = brca_data"
   ]
  },
  {
   "cell_type": "code",
   "execution_count": 54,
   "metadata": {},
   "outputs": [],
   "source": [
    "X_columns = data.columns.values[pd.Series(data.columns.values).str.contains('ENSG')]"
   ]
  },
  {
   "cell_type": "code",
   "execution_count": 55,
   "metadata": {},
   "outputs": [],
   "source": [
    "X = data.loc[:, X_columns]"
   ]
  },
  {
   "cell_type": "code",
   "execution_count": 56,
   "metadata": {},
   "outputs": [],
   "source": [
    "y = data.loc[:, 'y_trans']\n",
    "y_discrete = y > 0"
   ]
  },
  {
   "cell_type": "code",
   "execution_count": 57,
   "metadata": {},
   "outputs": [
    {
     "data": {
      "text/plain": [
       "5"
      ]
     },
     "execution_count": 57,
     "metadata": {},
     "output_type": "execute_result"
    }
   ],
   "source": [
    "kf = KFold(n_splits=5)\n",
    "kf.get_n_splits(X)"
   ]
  },
  {
   "cell_type": "markdown",
   "metadata": {},
   "source": [
    "## RBF"
   ]
  },
  {
   "cell_type": "code",
   "execution_count": 58,
   "metadata": {},
   "outputs": [],
   "source": [
    "from sklearn.svm import SVC, SVR"
   ]
  },
  {
   "cell_type": "code",
   "execution_count": 59,
   "metadata": {},
   "outputs": [],
   "source": [
    "from scipy.stats import spearmanr"
   ]
  },
  {
   "cell_type": "code",
   "execution_count": 60,
   "metadata": {},
   "outputs": [
    {
     "name": "stdout",
     "output_type": "stream",
     "text": [
      "SVC with linear kernel\n",
      "0.5\n",
      "0.42857142857142855\n",
      "0.5714285714285714\n",
      "0.3076923076923077\n",
      "0.5384615384615384\n"
     ]
    }
   ],
   "source": [
    "print('SVC with linear kernel')\n",
    "for train_index, test_index in kf.split(X):\n",
    "    X_train, X_test = X.iloc[train_index, :], X.iloc[test_index, :]\n",
    "    y_train, y_test = y_discrete[train_index], y_discrete[test_index]\n",
    "    svc_rbf = SVC(C=1, kernel='linear', gamma='auto')\n",
    "    svc_rbf.fit(X_train, y_train)\n",
    "    print(svc_rbf.score(X_test, y_test))"
   ]
  },
  {
   "cell_type": "code",
   "execution_count": 61,
   "metadata": {},
   "outputs": [
    {
     "name": "stdout",
     "output_type": "stream",
     "text": [
      "SVR with linear kernel\n",
      "0.11974415228114776\n",
      "-0.5400082970796451\n",
      "-0.6068152168278211\n",
      "-0.3811023211975817\n",
      "-0.0075683308062530754\n"
     ]
    }
   ],
   "source": [
    "print('SVR with linear kernel')\n",
    "corrs = []\n",
    "for train_index, test_index in kf.split(X):\n",
    "    X_train, X_test = X.iloc[train_index, :], X.iloc[test_index, :]\n",
    "    y_train, y_test = y[train_index], y[test_index]\n",
    "    svr_rbf = SVR(C=10, kernel='linear', gamma='auto')\n",
    "    svr_rbf.fit(X_train, y_train)\n",
    "    y_pred = svr_rbf.predict(X_test)\n",
    "    corrs.append(spearmanr(y_pred, y_test))\n",
    "    print(svr_rbf.score(X_test, y_test))"
   ]
  },
  {
   "cell_type": "code",
   "execution_count": 62,
   "metadata": {},
   "outputs": [
    {
     "data": {
      "text/plain": [
       "[(0.3946940163235586, 0.16253261438999686),\n",
       " (0.3149787376504485, 0.27269091395629946),\n",
       " (0.2907496039850294, 0.3132316295658608),\n",
       " (-0.18232322463624387, 0.5510611888813317),\n",
       " (0.28965765225210904, 0.33708489875679337)]"
      ]
     },
     "execution_count": 62,
     "metadata": {},
     "output_type": "execute_result"
    }
   ],
   "source": [
    "[(x.correlation, x.pvalue) for x in corrs]"
   ]
  },
  {
   "cell_type": "code",
   "execution_count": 63,
   "metadata": {},
   "outputs": [
    {
     "data": {
      "text/plain": [
       "[SpearmanrResult(correlation=0.3946940163235586, pvalue=0.16253261438999686),\n",
       " SpearmanrResult(correlation=0.3149787376504485, pvalue=0.27269091395629946),\n",
       " SpearmanrResult(correlation=0.2907496039850294, pvalue=0.3132316295658608),\n",
       " SpearmanrResult(correlation=-0.18232322463624387, pvalue=0.5510611888813317),\n",
       " SpearmanrResult(correlation=0.28965765225210904, pvalue=0.33708489875679337)]"
      ]
     },
     "execution_count": 63,
     "metadata": {},
     "output_type": "execute_result"
    }
   ],
   "source": [
    "corrs"
   ]
  },
  {
   "cell_type": "code",
   "execution_count": null,
   "metadata": {},
   "outputs": [],
   "source": []
  },
  {
   "cell_type": "markdown",
   "metadata": {},
   "source": [
    "### Visualize"
   ]
  },
  {
   "cell_type": "code",
   "execution_count": 41,
   "metadata": {},
   "outputs": [],
   "source": [
    "sns.set(rc={'figure.figsize':(10,10)})"
   ]
  },
  {
   "cell_type": "code",
   "execution_count": 42,
   "metadata": {},
   "outputs": [
    {
     "data": {
      "image/png": "[encoded data removed]",
      "text/plain": [
       "<Figure size 720x720 with 1 Axes>"
      ]
     },
     "metadata": {},
     "output_type": "display_data"
    }
   ],
   "source": [
    "sns.scatterplot(data=pca_expression_df, x='PC2', y='PC3', hue='discrete')\n",
    "plt.show()"
   ]
  },
  {
   "cell_type": "code",
   "execution_count": 43,
   "metadata": {},
   "outputs": [],
   "source": [
    "visualize = pca_expression_df.loc[:, ['PC{}'.format(i) for i in range(1, 5)]+['discrete']]"
   ]
  },
  {
   "cell_type": "code",
   "execution_count": 44,
   "metadata": {},
   "outputs": [
    {
     "data": {
      "text/html": [
       "<div>\n",
       "<style scoped>\n",
       "    .dataframe tbody tr th:only-of-type {\n",
       "        vertical-align: middle;\n",
       "    }\n",
       "\n",
       "    .dataframe tbody tr th {\n",
       "        vertical-align: top;\n",
       "    }\n",
       "\n",
       "    .dataframe thead th {\n",
       "        text-align: right;\n",
       "    }\n",
       "</style>\n",
       "<table border=\"1\" class=\"dataframe\">\n",
       "  <thead>\n",
       "    <tr style=\"text-align: right;\">\n",
       "      <th></th>\n",
       "      <th>PC1</th>\n",
       "      <th>PC2</th>\n",
       "      <th>PC3</th>\n",
       "      <th>PC4</th>\n",
       "      <th>discrete</th>\n",
       "    </tr>\n",
       "    <tr>\n",
       "      <th>pog_id</th>\n",
       "      <th></th>\n",
       "      <th></th>\n",
       "      <th></th>\n",
       "      <th></th>\n",
       "      <th></th>\n",
       "    </tr>\n",
       "  </thead>\n",
       "  <tbody>\n",
       "    <tr>\n",
       "      <th>POG001</th>\n",
       "      <td>56.410982</td>\n",
       "      <td>-21.151061</td>\n",
       "      <td>1.393517</td>\n",
       "      <td>121.129201</td>\n",
       "      <td>0</td>\n",
       "    </tr>\n",
       "    <tr>\n",
       "      <th>POG001</th>\n",
       "      <td>56.410982</td>\n",
       "      <td>-21.151061</td>\n",
       "      <td>1.393517</td>\n",
       "      <td>121.129201</td>\n",
       "      <td>0</td>\n",
       "    </tr>\n",
       "    <tr>\n",
       "      <th>POG069</th>\n",
       "      <td>-32.282407</td>\n",
       "      <td>21.767047</td>\n",
       "      <td>-12.314388</td>\n",
       "      <td>30.061630</td>\n",
       "      <td>0</td>\n",
       "    </tr>\n",
       "    <tr>\n",
       "      <th>POG089</th>\n",
       "      <td>22.015337</td>\n",
       "      <td>-19.960692</td>\n",
       "      <td>-14.704760</td>\n",
       "      <td>-1.651689</td>\n",
       "      <td>1</td>\n",
       "    </tr>\n",
       "    <tr>\n",
       "      <th>POG118</th>\n",
       "      <td>14.473693</td>\n",
       "      <td>-26.437911</td>\n",
       "      <td>-23.054655</td>\n",
       "      <td>-12.918506</td>\n",
       "      <td>0</td>\n",
       "    </tr>\n",
       "    <tr>\n",
       "      <th>...</th>\n",
       "      <td>...</td>\n",
       "      <td>...</td>\n",
       "      <td>...</td>\n",
       "      <td>...</td>\n",
       "      <td>...</td>\n",
       "    </tr>\n",
       "    <tr>\n",
       "      <th>POG905</th>\n",
       "      <td>-4.105426</td>\n",
       "      <td>31.592215</td>\n",
       "      <td>-23.065812</td>\n",
       "      <td>-10.641877</td>\n",
       "      <td>0</td>\n",
       "    </tr>\n",
       "    <tr>\n",
       "      <th>POG914</th>\n",
       "      <td>-28.938992</td>\n",
       "      <td>33.077715</td>\n",
       "      <td>24.188226</td>\n",
       "      <td>17.458020</td>\n",
       "      <td>1</td>\n",
       "    </tr>\n",
       "    <tr>\n",
       "      <th>POG916</th>\n",
       "      <td>-21.441971</td>\n",
       "      <td>-4.635182</td>\n",
       "      <td>59.448367</td>\n",
       "      <td>-26.175175</td>\n",
       "      <td>1</td>\n",
       "    </tr>\n",
       "    <tr>\n",
       "      <th>POG918</th>\n",
       "      <td>-16.036098</td>\n",
       "      <td>33.396535</td>\n",
       "      <td>0.195406</td>\n",
       "      <td>0.738278</td>\n",
       "      <td>1</td>\n",
       "    </tr>\n",
       "    <tr>\n",
       "      <th>POG920</th>\n",
       "      <td>-28.544244</td>\n",
       "      <td>42.187295</td>\n",
       "      <td>37.404765</td>\n",
       "      <td>1.597967</td>\n",
       "      <td>0</td>\n",
       "    </tr>\n",
       "  </tbody>\n",
       "</table>\n",
       "<p>95 rows × 5 columns</p>\n",
       "</div>"
      ],
      "text/plain": [
       "              PC1        PC2        PC3         PC4  discrete\n",
       "pog_id                                                       \n",
       "POG001  56.410982 -21.151061   1.393517  121.129201         0\n",
       "POG001  56.410982 -21.151061   1.393517  121.129201         0\n",
       "POG069 -32.282407  21.767047 -12.314388   30.061630         0\n",
       "POG089  22.015337 -19.960692 -14.704760   -1.651689         1\n",
       "POG118  14.473693 -26.437911 -23.054655  -12.918506         0\n",
       "...           ...        ...        ...         ...       ...\n",
       "POG905  -4.105426  31.592215 -23.065812  -10.641877         0\n",
       "POG914 -28.938992  33.077715  24.188226   17.458020         1\n",
       "POG916 -21.441971  -4.635182  59.448367  -26.175175         1\n",
       "POG918 -16.036098  33.396535   0.195406    0.738278         1\n",
       "POG920 -28.544244  42.187295  37.404765    1.597967         0\n",
       "\n",
       "[95 rows x 5 columns]"
      ]
     },
     "execution_count": 44,
     "metadata": {},
     "output_type": "execute_result"
    }
   ],
   "source": [
    "visualize"
   ]
  },
  {
   "cell_type": "code",
   "execution_count": null,
   "metadata": {},
   "outputs": [],
   "source": []
  },
  {
   "cell_type": "code",
   "execution_count": 45,
   "metadata": {},
   "outputs": [
    {
     "data": {
      "image/png": "[encoded data removed]",
      "text/plain": [
       "<Figure size 950.425x900 with 30 Axes>"
      ]
     },
     "metadata": {},
     "output_type": "display_data"
    }
   ],
   "source": [
    "sns.pairplot(visualize, hue='discrete', diag_kind='hist')\n",
    "plt.show()"
   ]
  },
  {
   "cell_type": "code",
   "execution_count": 46,
   "metadata": {},
   "outputs": [
    {
     "data": {
      "text/plain": [
       "array([0.0779963 , 0.06342384, 0.05611487, 0.04475428, 0.04038227,\n",
       "       0.03702375, 0.03255134, 0.02818591, 0.0271333 , 0.02257165])"
      ]
     },
     "execution_count": 46,
     "metadata": {},
     "output_type": "execute_result"
    }
   ],
   "source": [
    "pca.explained_variance_ratio_"
   ]
  },
  {
   "cell_type": "code",
   "execution_count": 47,
   "metadata": {},
   "outputs": [
    {
     "data": {
      "image/png": "[encoded data removed]",
      "text/plain": [
       "<Figure size 770.425x720 with 20 Axes>"
      ]
     },
     "metadata": {},
     "output_type": "display_data"
    }
   ],
   "source": [
    "sns.pairplot(tsne_expression_df.loc[:,['tsne{}'.format(i) for i in range(1, 4)]+['discrete']] , hue='discrete', diag_kind='hist')\n",
    "plt.show()"
   ]
  },
  {
   "cell_type": "code",
   "execution_count": null,
   "metadata": {},
   "outputs": [],
   "source": []
  },
  {
   "cell_type": "code",
   "execution_count": null,
   "metadata": {},
   "outputs": [],
   "source": []
  },
  {
   "cell_type": "code",
   "execution_count": null,
   "metadata": {},
   "outputs": [],
   "source": []
  }
 ],
 "metadata": {
  "kernelspec": {
   "display_name": "Python 3",
   "language": "python",
   "name": "python3"
  },
  "language_info": {
   "codemirror_mode": {
    "name": "ipython",
    "version": 3
   },
   "file_extension": ".py",
   "mimetype": "text/x-python",
   "name": "python",
   "nbconvert_exporter": "python",
   "pygments_lexer": "ipython3",
   "version": "3.7.4"
  }
 },
 "nbformat": 4,
 "nbformat_minor": 4
}
