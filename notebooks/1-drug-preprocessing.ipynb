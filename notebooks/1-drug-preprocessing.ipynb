{
 "cells": [
  {
   "cell_type": "code",
   "execution_count": 69,
   "metadata": {},
   "outputs": [],
   "source": [
    "import pandas as pd\n",
    "import numpy as np\n",
    "import datetime"
   ]
  },
  {
   "cell_type": "code",
   "execution_count": 70,
   "metadata": {},
   "outputs": [],
   "source": [
    "drugs_df = pd.read_csv('../data/raw/POG500_drug_data.tsv', sep='\\t')"
   ]
  },
  {
   "cell_type": "markdown",
   "metadata": {},
   "source": [
    "## Utility function"
   ]
  },
  {
   "cell_type": "code",
   "execution_count": 71,
   "metadata": {},
   "outputs": [],
   "source": [
    "def zscore(X, mu, sigma):\n",
    "    return (X - mu)/sigma\n",
    "vect_zscore = np.vectorize(zscore)"
   ]
  },
  {
   "cell_type": "code",
   "execution_count": 72,
   "metadata": {},
   "outputs": [],
   "source": [
    "def get_days_since_biopsy(row):\n",
    "    start_date = datetime.date.fromisoformat(row['start_date'])\n",
    "    end_date = datetime.date.fromisoformat(row['end_date'])\n",
    "    biopsy_date = datetime.date.fromisoformat(row['biopsy_date'])\n",
    "    if end_date < biopsy_date:\n",
    "        return -1\n",
    "    elif start_date < biopsy_date:\n",
    "        return (end_date - biopsy_date).days\n",
    "    else:\n",
    "        return (end_date - start_date).days"
   ]
  },
  {
   "cell_type": "markdown",
   "metadata": {},
   "source": [
    "## Determine days_on_tx_since_biopsy"
   ]
  },
  {
   "cell_type": "code",
   "execution_count": 73,
   "metadata": {},
   "outputs": [],
   "source": [
    "drugs_df['days_on_tx_since_biopsy'] = drugs_df.apply(get_days_since_biopsy, axis=1)"
   ]
  },
  {
   "cell_type": "markdown",
   "metadata": {},
   "source": [
    "Remove entries with days < 0"
   ]
  },
  {
   "cell_type": "code",
   "execution_count": 74,
   "metadata": {},
   "outputs": [],
   "source": [
    "drugs_df = drugs_df[drugs_df['days_on_tx_since_biopsy'] > 0]"
   ]
  },
  {
   "cell_type": "markdown",
   "metadata": {},
   "source": [
    "## Determine zscores for days_on_tx"
   ]
  },
  {
   "cell_type": "code",
   "execution_count": 75,
   "metadata": {},
   "outputs": [],
   "source": [
    "# drug_data_all = drug_data_all[drug_data_all['cancer_cohort']=='BRCA']\n",
    "drugs_stds = drugs_df.groupby('drug_name').agg(np.std)['days_on_tx_since_biopsy']\n",
    "drugs_means = drugs_df.groupby('drug_name').agg(np.mean)['days_on_tx_since_biopsy']\n",
    "drugs_df = drugs_df.join(drugs_stds, on='drug_name', rsuffix='_std')\n",
    "drugs_df = drugs_df.join(drugs_means, on='drug_name', rsuffix='_mean')"
   ]
  },
  {
   "cell_type": "markdown",
   "metadata": {},
   "source": [
    "## Calculate zscores"
   ]
  },
  {
   "cell_type": "code",
   "execution_count": 78,
   "metadata": {},
   "outputs": [],
   "source": [
    "drugs_df['zscore'] = vect_zscore(drugs_df['days_on_tx_since_biopsy'], drugs_df['days_on_tx_since_biopsy_mean'], drugs_df['days_on_tx_since_biopsy_std'])"
   ]
  },
  {
   "cell_type": "markdown",
   "metadata": {},
   "source": [
    "## Filter out NaN zscores"
   ]
  },
  {
   "cell_type": "code",
   "execution_count": 96,
   "metadata": {},
   "outputs": [],
   "source": [
    "drugs_df = drugs_df[np.logical_not(drugs_df['zscore'].isna())]"
   ]
  },
  {
   "cell_type": "markdown",
   "metadata": {},
   "source": [
    "## Print to file"
   ]
  },
  {
   "cell_type": "code",
   "execution_count": 97,
   "metadata": {},
   "outputs": [],
   "source": [
    "drugs_df.to_csv('../data/processed/drugs_filtered.tsv', sep='\\t')"
   ]
  }
 ],
 "metadata": {
  "kernelspec": {
   "display_name": "Python 3",
   "language": "python",
   "name": "python3"
  },
  "language_info": {
   "codemirror_mode": {
    "name": "ipython",
    "version": 3
   },
   "file_extension": ".py",
   "mimetype": "text/x-python",
   "name": "python",
   "nbconvert_exporter": "python",
   "pygments_lexer": "ipython3",
   "version": "3.7.0"
  }
 },
 "nbformat": 4,
 "nbformat_minor": 2
}
